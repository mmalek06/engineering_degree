{
 "cells": [
  {
   "cell_type": "code",
   "execution_count": null,
   "metadata": {
    "collapsed": true
   },
   "outputs": [],
   "source": [
    "import os\n",
    "import tensorflow as tf\n",
    "\n",
    "from functions.augmentation import get_augmentation_layers\n",
    "from functions.loading_data import load_dataset\n",
    "from functions.model_running import \\\n",
    "    run_model, \\\n",
    "    get_run_number, \\\n",
    "    increment_run_number,\\\n",
    "    preserve_best_runs\n",
    "from functions.plotting import plot_single_output_history\n",
    "from classifiers.pretrained_models.models.inception_resnet_v2_models import get_basic_model\n",
    "\n",
    "WIDTH = 150\n",
    "HEIGHT = 150"
   ]
  },
  {
   "cell_type": "code",
   "execution_count": null,
   "outputs": [],
   "source": [
    "data_dir = os.path.join(\n",
    "    '..',\n",
    "    '..',\n",
    "    '..',\n",
    "    '..',\n",
    "    'data2',\n",
    "    'images_original_inception_resnet_v2_150x150_categorized_no_test')\n",
    "train_dataset = load_dataset(HEIGHT, WIDTH, data_dir, 'training')\n",
    "valid_dataset = load_dataset(HEIGHT, WIDTH, data_dir, 'validation')"
   ],
   "metadata": {
    "collapsed": false
   }
  },
  {
   "cell_type": "code",
   "execution_count": null,
   "outputs": [],
   "source": [
    "MODEL_NAME_BASE = 'inception_ignoring_imbalance_2_only_bottom_half_layers_trainable'\n",
    "num_classes = len(train_dataset.class_names)\n",
    "run_number = get_run_number(MODEL_NAME_BASE)"
   ],
   "metadata": {
    "collapsed": false
   }
  },
  {
   "cell_type": "code",
   "execution_count": null,
   "outputs": [],
   "source": [
    "data_augmentation = get_augmentation_layers()\n",
    "train_dataset = train_dataset\\\n",
    "    .cache()\\\n",
    "    .shuffle(1000)\\\n",
    "    .map(lambda x, y: (data_augmentation(x), y))\\\n",
    "    .prefetch(buffer_size=tf.data.AUTOTUNE)\n",
    "valid_dataset = valid_dataset\\\n",
    "    .cache()\\\n",
    "    .prefetch(buffer_size=tf.data.AUTOTUNE)"
   ],
   "metadata": {
    "collapsed": false
   }
  },
  {
   "cell_type": "code",
   "execution_count": null,
   "outputs": [],
   "source": [],
   "metadata": {
    "collapsed": false
   }
  }
 ],
 "metadata": {
  "kernelspec": {
   "display_name": "Python 3",
   "language": "python",
   "name": "python3"
  },
  "language_info": {
   "codemirror_mode": {
    "name": "ipython",
    "version": 2
   },
   "file_extension": ".py",
   "mimetype": "text/x-python",
   "name": "python",
   "nbconvert_exporter": "python",
   "pygments_lexer": "ipython2",
   "version": "2.7.6"
  }
 },
 "nbformat": 4,
 "nbformat_minor": 0
}
