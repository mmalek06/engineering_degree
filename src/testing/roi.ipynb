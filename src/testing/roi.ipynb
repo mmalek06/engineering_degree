{
 "cells": [
  {
   "cell_type": "code",
   "execution_count": 16,
   "metadata": {
    "collapsed": true
   },
   "outputs": [],
   "source": [
    "import os\n",
    "import sys\n",
    "import json\n",
    "import itertools\n",
    "import PIL.Image\n",
    "\n",
    "import numpy as np\n",
    "import pandas as pd\n",
    "import matplotlib.pyplot as plt\n",
    "import seaborn as sns\n",
    "\n",
    "from tensorflow import keras\n",
    "from itertools import combinations\n",
    "from scipy.stats import shapiro, f_oneway, kruskal\n",
    "from sklearn.metrics import classification_report, confusion_matrix\n",
    "from statsmodels.stats.multicomp import MultiComparison\n",
    "\n",
    "module_path = os.path.abspath(os.path.join('..'))\n",
    "\n",
    "if module_path not in sys.path:\n",
    "    sys.path.append(os.path.join(module_path))\n",
    "\n",
    "from functions.ciou import ciou_loss, ciou_metric\n",
    "from functions.loading_data import SMALLER_HEIGHT, SMALLER_WIDTH\n",
    "from functions.plotting import plot_bars, plot_bar_from_dict\n",
    "\n",
    "WIDTH = 200\n",
    "HEIGHT = 150"
   ]
  },
  {
   "cell_type": "code",
   "execution_count": 17,
   "outputs": [],
   "source": [
    "get_names = lambda root_path: [\n",
    "    file_name.split('.')[0]\n",
    "    for dir_path, _, file_names in os.walk(root_path)\n",
    "    for file_name in file_names\n",
    "]\n",
    "get_paths = lambda path: [f'{os.path.join(root, file)}' for root, dirs, files in os.walk(path) for file in files]\n",
    "base_dir = os.path.join('..', '..', '..', 'data1', 'images_original_inception_resnet_v2_200x150_splitted')\n",
    "test_dir = os.path.join(base_dir, 'validation')"
   ],
   "metadata": {
    "collapsed": false
   }
  },
  {
   "cell_type": "code",
   "execution_count": 18,
   "outputs": [],
   "source": [
    "ROOT_NAME = 'custom_models'\n",
    "models_dir = os.path.join(\n",
    "    '..',\n",
    "    '..',\n",
    "    'models',\n",
    "    'data1_roi')\n",
    "model_names = list(filter(lambda model_file_name: ROOT_NAME in model_file_name, os.listdir(models_dir)))"
   ],
   "metadata": {
    "collapsed": false
   }
  },
  {
   "cell_type": "code",
   "execution_count": 19,
   "outputs": [],
   "source": [
    "accuracies_data_path = os.path.join('..', '..', 'histories', f'{ROOT_NAME}_accuracies.json')\n",
    "losses_data_path = os.path.join('..', '..', 'histories', f'{ROOT_NAME}_losses.json')"
   ],
   "metadata": {
    "collapsed": false
   }
  },
  {
   "cell_type": "code",
   "execution_count": 20,
   "outputs": [],
   "source": [
    "def get_images_array(paths: list[str]) -> np.ndarray:\n",
    "    rows = []\n",
    "    rescale = keras.layers.Rescaling(1./255)\n",
    "\n",
    "    for path in paths:\n",
    "        with PIL.Image.open(path) as image:\n",
    "            image_array = np.asarray(image)\n",
    "            rescaled_image = rescale(image_array)\n",
    "            rows.append(rescaled_image)\n",
    "\n",
    "    return np.array(rows)\n",
    "\n",
    "\n",
    "test_paths = get_paths(test_dir)\n",
    "X_test = get_images_array(test_paths)"
   ],
   "metadata": {
    "collapsed": false
   }
  },
  {
   "cell_type": "code",
   "execution_count": 21,
   "outputs": [],
   "source": [
    "test_names = set(get_names(test_dir))\n",
    "metadata_path = os.path.join('..', '..', '..', 'data1', 'HAM10000_metadata_ext.csv')\n",
    "data = pd.read_csv(metadata_path).sort_values(by='image_id')\n",
    "relevant_cols = ['top', 'left', 'bottom', 'right']\n",
    "test_df = data[data['image_id'].isin(test_names)][relevant_cols]\n",
    "ys_test = test_df.to_numpy().astype(float)\n",
    "ys_test[:, [0, 2]] /= SMALLER_HEIGHT\n",
    "ys_test[:, [1, 3]] /= SMALLER_WIDTH"
   ],
   "metadata": {
    "collapsed": false
   }
  },
  {
   "cell_type": "code",
   "execution_count": 22,
   "outputs": [
    {
     "name": "stdout",
     "output_type": "stream",
     "text": [
      "63/63 [==============================] - 1s 10ms/step - loss: 0.6082 - ciou_metric: 0.3918\n",
      "63/63 [==============================] - 3s 30ms/step - loss: 0.6065 - ciou_metric: 0.3935\n",
      "63/63 [==============================] - 2s 21ms/step - loss: 0.6083 - ciou_metric: 0.3917\n",
      "63/63 [==============================] - 2s 21ms/step - loss: 0.6067 - ciou_metric: 0.3933\n",
      "63/63 [==============================] - 2s 21ms/step - loss: 0.6110 - ciou_metric: 0.3890\n",
      "[[0.6081937551498413, 0.3918073773384094], [0.606543779373169, 0.39351266622543335], [0.6083054542541504, 0.39170747995376587], [0.6066533327102661, 0.39334893226623535], [0.6110488176345825, 0.3890065550804138]]\n"
     ]
    }
   ],
   "source": [
    "def get_accuracies_and_losses(models: list[str]):\n",
    "    results = []\n",
    "\n",
    "    for model_name in models:\n",
    "        model_path = os.path.join(models_dir, model_name)\n",
    "        model = keras.models.load_model(model_path, compile=False, custom_objects={'loss': ciou_loss, 'ciou_metric': ciou_metric})\n",
    "\n",
    "        if 'multiattentive_model' not in model_name:\n",
    "            model.compile(optimizer='adam', loss=ciou_loss, metrics=[ciou_metric])\n",
    "        else:\n",
    "            model.compile(\n",
    "                optimizer='adam',\n",
    "                loss={\n",
    "                    'root': ciou_loss,\n",
    "                    'dot': keras.losses.mean_squared_error,\n",
    "                },\n",
    "                loss_weights={'root': 1.0, 'dot': 0.1},\n",
    "                metrics={\n",
    "                    'root': ciou_metric,\n",
    "                    'dot': keras.metrics.mean_squared_error\n",
    "                })\n",
    "\n",
    "        eval_result = model.evaluate(X_test, ys_test)\n",
    "\n",
    "        results.append(eval_result)\n",
    "\n",
    "    return results\n",
    "\n",
    "\n",
    "# if not os.path.exists(accuracies_data_path):\n",
    "resx = get_accuracies_and_losses(model_names)\n",
    "\n",
    "print(resx)\n",
    "\n",
    "    # with open(accuracies_data_path, 'w') as json_file:\n",
    "    #     json.dump(accuracies, json_file, indent=4)"
   ],
   "metadata": {
    "collapsed": false
   }
  },
  {
   "cell_type": "code",
   "execution_count": null,
   "outputs": [],
   "source": [],
   "metadata": {
    "collapsed": false
   }
  }
 ],
 "metadata": {
  "kernelspec": {
   "display_name": "Python 3",
   "language": "python",
   "name": "python3"
  },
  "language_info": {
   "codemirror_mode": {
    "name": "ipython",
    "version": 2
   },
   "file_extension": ".py",
   "mimetype": "text/x-python",
   "name": "python",
   "nbconvert_exporter": "python",
   "pygments_lexer": "ipython2",
   "version": "2.7.6"
  }
 },
 "nbformat": 4,
 "nbformat_minor": 0
}
