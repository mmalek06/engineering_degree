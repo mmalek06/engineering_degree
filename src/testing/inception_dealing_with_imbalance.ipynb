{
 "cells": [
  {
   "cell_type": "code",
   "execution_count": 1,
   "metadata": {
    "collapsed": true
   },
   "outputs": [],
   "source": [
    "import os\n",
    "import sys\n",
    "import json\n",
    "\n",
    "import numpy as np\n",
    "import matplotlib.pyplot as plt\n",
    "import seaborn as sns\n",
    "\n",
    "from tensorflow import keras\n",
    "from scipy.stats import shapiro, f_oneway\n",
    "from sklearn.metrics import classification_report, confusion_matrix\n",
    "\n",
    "module_path = os.path.abspath(os.path.join('..'))\n",
    "\n",
    "if module_path not in sys.path:\n",
    "    sys.path.append(os.path.join(module_path))\n",
    "\n",
    "from functions.plotting import plot_bars, plot_bar_from_dict\n",
    "\n",
    "WIDTH = 150\n",
    "HEIGHT = 150"
   ]
  },
  {
   "cell_type": "code",
   "execution_count": 2,
   "outputs": [
    {
     "name": "stdout",
     "output_type": "stream",
     "text": [
      "Found 2000 files belonging to 7 classes.\n"
     ]
    }
   ],
   "source": [
    "data_dir = os.path.join(\n",
    "    '..',\n",
    "    '..',\n",
    "    '..',\n",
    "    'data1',\n",
    "    'images_original_inception_resnet_v2_150x150_categorized')\n",
    "test_data_dir = os.path.join(data_dir, 'validation')\n",
    "test_ds = keras.utils.image_dataset_from_directory(\n",
    "    directory=test_data_dir,\n",
    "    labels='inferred',\n",
    "    label_mode='categorical',\n",
    "    batch_size=32,\n",
    "    image_size=(HEIGHT, WIDTH))"
   ],
   "metadata": {
    "collapsed": false
   }
  },
  {
   "cell_type": "code",
   "execution_count": 3,
   "outputs": [],
   "source": [
    "ROOT_NAME = 'inception_dealing_with_imbalance_using'\n",
    "models_dir = os.path.join(\n",
    "    '..',\n",
    "    '..',\n",
    "    'models',\n",
    "    'data1')\n",
    "model_file_names = \\\n",
    "    list(\n",
    "        filter(\n",
    "            lambda model_file_name: ROOT_NAME in model_file_name,\n",
    "            os.listdir(models_dir)))"
   ],
   "metadata": {
    "collapsed": false
   }
  },
  {
   "cell_type": "code",
   "execution_count": 4,
   "outputs": [],
   "source": [
    "def get_accuracies_and_losses(models: list[str]) -> (dict[str, float], dict[str, float]):\n",
    "    accuracies = {}\n",
    "    losses = {}\n",
    "\n",
    "    for model_name in models:\n",
    "        model_path = os.path.join(models_dir, model_name)\n",
    "        model = keras.models.load_model(model_path)\n",
    "        loss, _, _, accuracy, _, _ = model.evaluate(test_ds)\n",
    "        accuracies[model_name] = accuracy\n",
    "        losses[model_name] = loss\n",
    "\n",
    "    return accuracies, losses"
   ],
   "metadata": {
    "collapsed": false
   }
  },
  {
   "cell_type": "code",
   "execution_count": 5,
   "outputs": [],
   "source": [
    "accuracies_file = os.path.join('..', '..', 'histories', f'{ROOT_NAME}_accuracies.json')\n",
    "losses_file = os.path.join('..', '..', 'histories', f'{ROOT_NAME}_losses.json')"
   ],
   "metadata": {
    "collapsed": false
   }
  },
  {
   "cell_type": "code",
   "execution_count": 6,
   "outputs": [],
   "source": [
    "if not os.path.exists(accuracies_file):\n",
    "    accuracies, losses = get_accuracies_and_losses(model_file_names)\n",
    "\n",
    "    with open(accuracies_file, 'w') as json_file:\n",
    "        json.dump(accuracies, json_file, indent=4)\n",
    "    with open(losses_file, 'w') as json_file:\n",
    "        json.dump(losses, json_file, indent=4)"
   ],
   "metadata": {
    "collapsed": false
   }
  },
  {
   "cell_type": "code",
   "execution_count": 7,
   "outputs": [],
   "source": [
    "with open(accuracies_file, 'r') as accuracies_file_handle:\n",
    "    accuracies = json.load(accuracies_file_handle)\n",
    "with open(losses_file, 'r') as losses_file_handle:\n",
    "    losses = json.load(losses_file_handle)"
   ],
   "metadata": {
    "collapsed": false
   }
  },
  {
   "cell_type": "code",
   "execution_count": null,
   "outputs": [],
   "source": [
    "root = os.path.join('..', '..', 'plots', 'testing')\n",
    "accuracies_pdf_path = os.path.join(root, f'{ROOT_NAME}_accuracies.pdf')\n",
    "\n",
    "plot_bar_from_dict(accuracies, 'Model Accuracies', 'Name', 'Accuracy', accuracies_pdf_path)"
   ],
   "metadata": {
    "collapsed": false,
    "pycharm": {
     "is_executing": true
    }
   }
  },
  {
   "cell_type": "code",
   "execution_count": null,
   "outputs": [],
   "source": [
    "losses_pdf_path = os.path.join(root, f'{ROOT_NAME}_losses.pdf')\n",
    "\n",
    "plot_bar_from_dict(losses, 'Model Losses', 'Name', 'Accuracy', losses_pdf_path)"
   ],
   "metadata": {
    "collapsed": false,
    "pycharm": {
     "is_executing": true
    }
   }
  },
  {
   "cell_type": "markdown",
   "source": [
    "Analysis part of model testing:"
   ],
   "metadata": {
    "collapsed": false
   }
  },
  {
   "cell_type": "code",
   "execution_count": 15,
   "outputs": [],
   "source": [
    "model_categories = set(map(lambda name: '_'.join(name.split('_')[:-2]), model_file_names))\n",
    "grouped_models = {key: list(filter(lambda name: name.startswith(key), model_file_names)) for key in model_categories}\n",
    "keyed_accuracies = {key: [] for key in grouped_models}\n",
    "keyed_losses = {key: [] for key in grouped_models}\n",
    "\n",
    "\n",
    "def categorize_numbers(for_dict: dict[str, list[float]], numbers_dict: dict[str, float]) -> None:\n",
    "    for group, value in for_dict.items():\n",
    "        vals = [\n",
    "            value for key, value in numbers_dict.items()\n",
    "            if key.startswith(group)]\n",
    "\n",
    "        value.extend(vals)\n",
    "\n",
    "\n",
    "categorize_numbers(keyed_accuracies, accuracies)\n",
    "categorize_numbers(keyed_losses, losses)"
   ],
   "metadata": {
    "collapsed": false
   }
  },
  {
   "cell_type": "code",
   "execution_count": 16,
   "outputs": [],
   "source": [
    "ALPHA = .05\n",
    "anova_testable_groups = []\n",
    "kruskal_walis_testable_groups = []\n",
    "\n",
    "\n",
    "def assign_models_to_groups(models: list[float], col: str) -> None:\n",
    "    _, p_value = shapiro(models)\n",
    "\n",
    "    if p_value >= ALPHA:\n",
    "        anova_testable_groups.append(col)\n",
    "    else:\n",
    "        kruskal_walis_testable_groups.append(col)\n",
    "\n",
    "\n",
    "first_col = next(iter(keyed_accuracies))\n",
    "second_col = next(iter(keyed_accuracies))\n",
    "\n",
    "assign_models_to_groups(keyed_accuracies[first_col], first_col)\n",
    "assign_models_to_groups(keyed_accuracies[second_col], second_col)"
   ],
   "metadata": {
    "collapsed": false
   }
  },
  {
   "cell_type": "markdown",
   "source": [
    "Only normal distributed outcomes here, so let's go with anova tests"
   ],
   "metadata": {
    "collapsed": false
   }
  },
  {
   "cell_type": "code",
   "execution_count": 17,
   "outputs": [
    {
     "name": "stdout",
     "output_type": "stream",
     "text": [
      "ANOVA p-value: 1.0\n"
     ]
    }
   ],
   "source": [
    "anova_values = []\n",
    "anova_cols = []\n",
    "\n",
    "for col in anova_testable_groups:\n",
    "    if col in keyed_accuracies:\n",
    "        anova_values.append(keyed_accuracies[col])\n",
    "        anova_cols.append(col)\n",
    "\n",
    "\n",
    "f_stat_anova, p_value_anova = f_oneway(*anova_values)\n",
    "\n",
    "print(f'ANOVA p-value: {p_value_anova}')"
   ],
   "metadata": {
    "collapsed": false
   }
  },
  {
   "cell_type": "markdown",
   "source": [
    "The models are the same and the differentiating factor is that one was trained for 100 epochs max and the other for 200 epochs max. Therefore, it makes sense that the p-value is big: 1.0 - a null hypothesis should not be rejected.\n",
    "\n",
    "Out of all the tries one result stood out, so that one will be picked for evaluation."
   ],
   "metadata": {
    "collapsed": false
   }
  },
  {
   "cell_type": "code",
   "execution_count": 18,
   "outputs": [
    {
     "name": "stdout",
     "output_type": "stream",
     "text": [
      "63/63 [==============================] - 11s 61ms/step\n"
     ]
    }
   ],
   "source": [
    "name = ''\n",
    "best_acc = 0\n",
    "\n",
    "for key, value in accuracies.items():\n",
    "    if '3_whole_model_trainable_with_attention_module_on_top' in key and value > best_acc:\n",
    "        name = key\n",
    "        best_acc = value\n",
    "\n",
    "model_path = os.path.join(models_dir, name)\n",
    "model = keras.models.load_model(model_path)\n",
    "y_pred_labels = model.predict(test_ds)"
   ],
   "metadata": {
    "collapsed": false
   }
  },
  {
   "cell_type": "code",
   "execution_count": 21,
   "outputs": [
    {
     "name": "stdout",
     "output_type": "stream",
     "text": [
      "              precision    recall  f1-score   support\n",
      "\n",
      "       akiec       0.04      0.05      0.04        65\n",
      "         bcc       0.06      0.07      0.06       102\n",
      "         bkl       0.12      0.11      0.11       219\n",
      "          df       0.00      0.00      0.00        23\n",
      "         mel       0.14      0.06      0.09       222\n",
      "          nv       0.68      0.75      0.71      1341\n",
      "        vasc       0.08      0.07      0.07        28\n",
      "\n",
      "    accuracy                           0.53      2000\n",
      "   macro avg       0.16      0.16      0.16      2000\n",
      "weighted avg       0.49      0.53      0.51      2000\n",
      "\n"
     ]
    },
    {
     "data": {
      "text/plain": "<Figure size 1000x1000 with 2 Axes>",
      "image/png": "[encoded data removed]"
     },
     "metadata": {},
     "output_type": "display_data"
    }
   ],
   "source": [
    "y_pred_labels = np.argmax(y_pred_labels, axis=1)\n",
    "y_test = []\n",
    "\n",
    "for _, labels in test_ds:\n",
    "    y_test.extend(np.argmax(labels.numpy(), axis=-1))\n",
    "\n",
    "y_test = np.array(y_test)\n",
    "report = classification_report(y_test, y_pred_labels, target_names=test_ds.class_names, zero_division=0)\n",
    "print(report)\n",
    "\n",
    "cm = confusion_matrix(y_test, y_pred_labels)\n",
    "\n",
    "plt.figure(figsize=(10,10))\n",
    "sns.heatmap(cm, annot=True, fmt='d', cmap='Blues', xticklabels=test_ds.class_names, yticklabels=test_ds.class_names)\n",
    "plt.ylabel('Actual')\n",
    "plt.xlabel('Predicted')\n",
    "plt.title('Confusion Matrix')\n",
    "plt.show()"
   ],
   "metadata": {
    "collapsed": false
   }
  },
  {
   "cell_type": "markdown",
   "source": [
    "It's very visible that the model despite having over 81% accuracy, still gets confused a lot by the classes that are not often encountered in the dataset, although it's slightly better than the model that is ignoring the imbalance."
   ],
   "metadata": {
    "collapsed": false
   }
  },
  {
   "cell_type": "code",
   "execution_count": null,
   "outputs": [],
   "source": [],
   "metadata": {
    "collapsed": false
   }
  }
 ],
 "metadata": {
  "kernelspec": {
   "display_name": "Python 3",
   "language": "python",
   "name": "python3"
  },
  "language_info": {
   "codemirror_mode": {
    "name": "ipython",
    "version": 2
   },
   "file_extension": ".py",
   "mimetype": "text/x-python",
   "name": "python",
   "nbconvert_exporter": "python",
   "pygments_lexer": "ipython2",
   "version": "2.7.6"
  }
 },
 "nbformat": 4,
 "nbformat_minor": 0
}
