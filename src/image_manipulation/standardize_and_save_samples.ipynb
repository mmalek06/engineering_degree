{
 "cells": [
  {
   "cell_type": "code",
   "execution_count": 1,
   "metadata": {
    "collapsed": true
   },
   "outputs": [],
   "source": [
    "import os\n",
    "import sys\n",
    "\n",
    "module_path = os.path.abspath(os.path.join('..'))\n",
    "\n",
    "if module_path not in sys.path:\n",
    "    sys.path.append(os.path.join(module_path))\n",
    "\n",
    "import numpy as np\n",
    "import tensorflow as tf\n",
    "\n",
    "from tensorflow.keras.preprocessing.image import \\\n",
    "    load_img, \\\n",
    "    img_to_array, \\\n",
    "    array_to_img, \\\n",
    "    save_img\n",
    "\n",
    "from image_manipulation.layers.samplewise_center import SamplewiseCenter"
   ]
  },
  {
   "cell_type": "code",
   "execution_count": 5,
   "outputs": [],
   "source": [
    "source_data_dir = os.path.join(\n",
    "    '..',\n",
    "    '..',\n",
    "    '..',\n",
    "    'data1',\n",
    "    'images_original_inception_resnet_v2_150x150_categorized',\n",
    "    'training')\n",
    "dest_data_training_dir = os.path.join(\n",
    "    '..',\n",
    "    '..',\n",
    "    '..',\n",
    "    'data1',\n",
    "    'images_original_inception_resnet_v2_150x150_categorized_and_normalized',\n",
    "    'training')\n",
    "dest_data_validation_dir = os.path.join(dest_data_training_dir, '..', 'validation')"
   ],
   "metadata": {
    "collapsed": false
   }
  },
  {
   "cell_type": "code",
   "execution_count": 6,
   "outputs": [],
   "source": [
    "centering = SamplewiseCenter()\n",
    "model = tf.keras.Sequential([centering])"
   ],
   "metadata": {
    "collapsed": false
   }
  },
  {
   "cell_type": "code",
   "execution_count": 7,
   "outputs": [],
   "source": [
    "for folder in os.listdir(source_data_dir):\n",
    "    source_folder_path = os.path.join(source_data_dir, folder)\n",
    "    destination_folder_path = os.path.join(dest_data_training_dir, folder)\n",
    "\n",
    "    if not os.path.exists(destination_folder_path):\n",
    "        os.makedirs(destination_folder_path)\n",
    "\n",
    "    for img_name in os.listdir(source_folder_path):\n",
    "        img_path = os.path.join(source_folder_path, img_name)\n",
    "        img_array = img_to_array(load_img(img_path))\n",
    "        augmented_imgs = model(np.expand_dims(img_array, 0))\n",
    "        aug_img = array_to_img(augmented_imgs[0])\n",
    "        save_path = os.path.join(destination_folder_path, img_name)\n",
    "\n",
    "        aug_img.save(save_path)"
   ],
   "metadata": {
    "collapsed": false
   }
  },
  {
   "cell_type": "code",
   "execution_count": null,
   "outputs": [],
   "source": [],
   "metadata": {
    "collapsed": false
   }
  }
 ],
 "metadata": {
  "kernelspec": {
   "display_name": "Python 3",
   "language": "python",
   "name": "python3"
  },
  "language_info": {
   "codemirror_mode": {
    "name": "ipython",
    "version": 2
   },
   "file_extension": ".py",
   "mimetype": "text/x-python",
   "name": "python",
   "nbconvert_exporter": "python",
   "pygments_lexer": "ipython2",
   "version": "2.7.6"
  }
 },
 "nbformat": 4,
 "nbformat_minor": 0
}
