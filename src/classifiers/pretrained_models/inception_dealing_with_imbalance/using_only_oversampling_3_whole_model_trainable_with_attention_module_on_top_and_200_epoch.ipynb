{
 "cells": [
  {
   "cell_type": "code",
   "execution_count": 1,
   "metadata": {
    "collapsed": true,
    "execution": {
     "iopub.execute_input": "2023-09-16T03:06:08.368928Z",
     "iopub.status.busy": "2023-09-16T03:06:08.368928Z",
     "iopub.status.idle": "2023-09-16T03:06:13.780428Z",
     "shell.execute_reply": "2023-09-16T03:06:13.780428Z"
    }
   },
   "outputs": [],
   "source": [
    "import os\n",
    "import sys\n",
    "import numpy as np\n",
    "\n",
    "from tensorflow import keras\n",
    "\n",
    "module_path = os.path.abspath(os.path.join('..', '..', '..'))\n",
    "\n",
    "if module_path not in sys.path:\n",
    "    sys.path.append(os.path.join(module_path))\n",
    "\n",
    "from functions.augmentation import get_augmentation_layers\n",
    "from functions.loading_data import load_dataset, load_rebalanced_dataset\n",
    "from functions.model_running import get_run_number, run_model\n",
    "from models.inception_resnet_v2_models import get_model_with_attention"
   ]
  },
  {
   "cell_type": "code",
   "execution_count": 2,
   "metadata": {
    "collapsed": false,
    "execution": {
     "iopub.execute_input": "2023-09-16T03:06:13.780428Z",
     "iopub.status.busy": "2023-09-16T03:06:13.780428Z",
     "iopub.status.idle": "2023-09-16T03:06:13.796053Z",
     "shell.execute_reply": "2023-09-16T03:06:13.796053Z"
    }
   },
   "outputs": [],
   "source": [
    "WIDTH = 150\n",
    "HEIGHT = 150\n",
    "ROOT = os.path.join('..', '..', '..', '..')\n",
    "DS_NAME = 'data1'\n",
    "DATA_DIR = os.path.join(\n",
    "    ROOT,\n",
    "    '..',\n",
    "    DS_NAME,\n",
    "    'images_original_inception_resnet_v2_150x150_categorized')\n",
    "MODEL_NAME_BASE = 'inception_dealing_with_imbalance_using_only_oversampling_3_whole_model_trainable_with_attention_module_on_top_and_200_epoch'"
   ]
  },
  {
   "cell_type": "code",
   "execution_count": 3,
   "metadata": {
    "collapsed": false,
    "execution": {
     "iopub.execute_input": "2023-09-16T03:06:13.796053Z",
     "iopub.status.busy": "2023-09-16T03:06:13.796053Z",
     "iopub.status.idle": "2023-09-16T03:06:15.991947Z",
     "shell.execute_reply": "2023-09-16T03:06:15.991947Z"
    }
   },
   "outputs": [
    {
     "name": "stdout",
     "output_type": "stream",
     "text": [
      "Found 8015 files belonging to 7 classes.\n",
      "Found 8015 files belonging to 7 classes.\n"
     ]
    }
   ],
   "source": [
    "BATCH_SIZE = 64\n",
    "unbalanced_dataset = load_dataset(WIDTH, HEIGHT, DATA_DIR, 'training', BATCH_SIZE)\n",
    "balanced_train_dataset = load_rebalanced_dataset(WIDTH, HEIGHT, DATA_DIR, 'training', BATCH_SIZE)"
   ]
  },
  {
   "cell_type": "code",
   "execution_count": 4,
   "metadata": {
    "collapsed": false,
    "execution": {
     "iopub.execute_input": "2023-09-16T03:06:15.991947Z",
     "iopub.status.busy": "2023-09-16T03:06:15.991947Z",
     "iopub.status.idle": "2023-09-16T03:06:48.694960Z",
     "shell.execute_reply": "2023-09-16T03:06:48.694960Z"
    }
   },
   "outputs": [],
   "source": [
    "all_labels = []\n",
    "\n",
    "for images, labels in balanced_train_dataset.take(100):\n",
    "    all_labels.append(labels.numpy())\n",
    "\n",
    "all_labels = np.concatenate(all_labels)\n",
    "class_counts = np.sum(all_labels, axis=0)"
   ]
  },
  {
   "cell_type": "code",
   "execution_count": 5,
   "metadata": {
    "collapsed": false,
    "execution": {
     "iopub.execute_input": "2023-09-16T03:06:48.694960Z",
     "iopub.status.busy": "2023-09-16T03:06:48.694960Z",
     "iopub.status.idle": "2023-09-16T03:06:48.710598Z",
     "shell.execute_reply": "2023-09-16T03:06:48.710598Z"
    }
   },
   "outputs": [],
   "source": [
    "mean_class_count = np.mean(class_counts)\n",
    "resampled_steps_per_epoch = np.ceil(2.0 * mean_class_count / BATCH_SIZE)"
   ]
  },
  {
   "cell_type": "code",
   "execution_count": 6,
   "metadata": {
    "collapsed": false,
    "execution": {
     "iopub.execute_input": "2023-09-16T03:06:48.710598Z",
     "iopub.status.busy": "2023-09-16T03:06:48.710598Z",
     "iopub.status.idle": "2023-09-16T03:06:48.757494Z",
     "shell.execute_reply": "2023-09-16T03:06:48.757494Z"
    }
   },
   "outputs": [],
   "source": [
    "METRICS = [\n",
    "    keras.metrics.CategoricalCrossentropy(name='categorical cross entropy'),\n",
    "    keras.metrics.MeanSquaredError(name='mean squared error'),\n",
    "    keras.metrics.CategoricalAccuracy(name='accuracy'),\n",
    "    keras.metrics.AUC(name='auc', multi_label=True),\n",
    "    keras.metrics.AUC(name='prc', curve='PR', multi_label=True)\n",
    "]"
   ]
  },
  {
   "cell_type": "code",
   "execution_count": null,
   "metadata": {
    "collapsed": false,
    "execution": {
     "iopub.execute_input": "2023-09-16T03:06:48.757494Z",
     "iopub.status.busy": "2023-09-16T03:06:48.757494Z",
     "iopub.status.idle": "2023-09-16T03:49:59.187103Z",
     "shell.execute_reply": "2023-09-16T03:49:59.187103Z"
    },
    "pycharm": {
     "is_executing": true
    }
   },
   "outputs": [],
   "source": [
    "_, history = run_model(\n",
    "    ROOT,\n",
    "    HEIGHT,\n",
    "    WIDTH,\n",
    "    DATA_DIR,\n",
    "    DS_NAME,\n",
    "    MODEL_NAME_BASE,\n",
    "    lambda num_classes: lambda: get_model_with_attention(HEIGHT, WIDTH, num_classes, metrics=METRICS),\n",
    "    get_augmentation_layers,\n",
    "    batch_size=BATCH_SIZE,\n",
    "    train_dataset=balanced_train_dataset,\n",
    "    steps_per_epoch=resampled_steps_per_epoch,\n",
    "    stopping_patience=20,\n",
    "    epochs=200)"
   ]
  },
  {
   "cell_type": "code",
   "execution_count": null,
   "metadata": {
    "collapsed": false
   },
   "outputs": [],
   "source": []
  }
 ],
 "metadata": {
  "kernelspec": {
   "display_name": "Python 3",
   "language": "python",
   "name": "python3"
  },
  "language_info": {
   "codemirror_mode": {
    "name": "ipython",
    "version": 3
   },
   "file_extension": ".py",
   "mimetype": "text/x-python",
   "name": "python",
   "nbconvert_exporter": "python",
   "pygments_lexer": "ipython3",
   "version": "3.9.16"
  }
 },
 "nbformat": 4,
 "nbformat_minor": 0
}
