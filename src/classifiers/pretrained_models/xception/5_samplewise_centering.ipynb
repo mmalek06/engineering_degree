{
 "cells": [
  {
   "cell_type": "code",
   "execution_count": 1,
   "metadata": {
    "collapsed": true,
    "execution": {
     "iopub.execute_input": "2023-10-11T20:47:18.977360Z",
     "iopub.status.busy": "2023-10-11T20:47:18.977360Z",
     "iopub.status.idle": "2023-10-11T20:47:21.911398Z",
     "shell.execute_reply": "2023-10-11T20:47:21.911398Z"
    }
   },
   "outputs": [],
   "source": [
    "import os\n",
    "import sys\n",
    "\n",
    "from tensorflow import keras\n",
    "\n",
    "module_path = os.path.abspath(os.path.join('..', '..', '..'))\n",
    "\n",
    "if module_path not in sys.path:\n",
    "    sys.path.append(os.path.join(module_path))\n",
    "\n",
    "from functions.augmentation import get_augmentation_layers\n",
    "from functions.model_running import get_run_number, run_model\n",
    "from models.xception import get_basic_model"
   ]
  },
  {
   "cell_type": "code",
   "execution_count": 2,
   "metadata": {
    "collapsed": false,
    "execution": {
     "iopub.execute_input": "2023-10-11T20:47:21.911398Z",
     "iopub.status.busy": "2023-10-11T20:47:21.911398Z",
     "iopub.status.idle": "2023-10-11T20:47:21.927053Z",
     "shell.execute_reply": "2023-10-11T20:47:21.927053Z"
    }
   },
   "outputs": [],
   "source": [
    "WIDTH = 150\n",
    "HEIGHT = 150\n",
    "ROOT = os.path.join('..', '..', '..', '..')\n",
    "DS_NAME = 'data1'\n",
    "DATA_DIR = os.path.join(\n",
    "    ROOT,\n",
    "    '..',\n",
    "    DS_NAME,\n",
    "    'images_original_inception_resnet_v2_150x150_categorized_and_normalized')\n",
    "MODEL_NAME_BASE = 'xception_5_samplewise_centering'"
   ]
  },
  {
   "cell_type": "code",
   "execution_count": 3,
   "metadata": {
    "collapsed": false,
    "execution": {
     "iopub.execute_input": "2023-10-11T20:47:21.927053Z",
     "iopub.status.busy": "2023-10-11T20:47:21.927053Z",
     "iopub.status.idle": "2023-10-11T20:47:22.648799Z",
     "shell.execute_reply": "2023-10-11T20:47:22.648799Z"
    }
   },
   "outputs": [],
   "source": [
    "METRICS = [\n",
    "    keras.metrics.CategoricalCrossentropy(name='categorical cross entropy'),\n",
    "    keras.metrics.MeanSquaredError(name='mean squared error'),\n",
    "    keras.metrics.CategoricalAccuracy(name='accuracy'),\n",
    "    keras.metrics.AUC(name='auc', multi_label=True),\n",
    "    keras.metrics.AUC(name='prc', curve='PR', multi_label=True)\n",
    "]"
   ]
  },
  {
   "cell_type": "code",
   "execution_count": null,
   "metadata": {
    "collapsed": false,
    "execution": {
     "iopub.execute_input": "2023-10-11T20:47:22.648799Z",
     "iopub.status.busy": "2023-10-11T20:47:22.648799Z",
     "iopub.status.idle": "2023-10-11T21:34:01.994750Z",
     "shell.execute_reply": "2023-10-11T21:34:01.994750Z"
    },
    "pycharm": {
     "is_executing": true
    }
   },
   "outputs": [],
   "source": [
    "run_model(\n",
    "    ROOT,\n",
    "    HEIGHT,\n",
    "    WIDTH,\n",
    "    DATA_DIR,\n",
    "    DS_NAME,\n",
    "    MODEL_NAME_BASE,\n",
    "    lambda num_classes:\n",
    "        lambda: get_basic_model(\n",
    "            HEIGHT,\n",
    "            WIDTH,\n",
    "            num_classes,\n",
    "            metrics=METRICS),\n",
    "    get_augmentation_layers)"
   ]
  },
  {
   "cell_type": "code",
   "execution_count": null,
   "metadata": {
    "collapsed": false
   },
   "outputs": [],
   "source": []
  }
 ],
 "metadata": {
  "kernelspec": {
   "display_name": "Python 3",
   "language": "python",
   "name": "python3"
  },
  "language_info": {
   "codemirror_mode": {
    "name": "ipython",
    "version": 3
   },
   "file_extension": ".py",
   "mimetype": "text/x-python",
   "name": "python",
   "nbconvert_exporter": "python",
   "pygments_lexer": "ipython3",
   "version": "3.9.16"
  }
 },
 "nbformat": 4,
 "nbformat_minor": 0
}
