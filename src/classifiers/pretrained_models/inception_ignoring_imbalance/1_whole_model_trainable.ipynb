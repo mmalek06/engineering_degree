{
 "cells": [
  {
   "cell_type": "code",
   "execution_count": 1,
   "metadata": {
    "collapsed": true,
    "execution": {
     "iopub.execute_input": "2023-08-10T00:22:15.832169Z",
     "iopub.status.busy": "2023-08-10T00:22:15.832169Z",
     "iopub.status.idle": "2023-08-10T00:22:22.031480Z",
     "shell.execute_reply": "2023-08-10T00:22:22.031480Z"
    }
   },
   "outputs": [],
   "source": [
    "import os\n",
    "import sys\n",
    "\n",
    "module_path = os.path.abspath(os.path.join('..', '..', '..'))\n",
    "\n",
    "if module_path not in sys.path:\n",
    "    sys.path.append(os.path.join(module_path))\n",
    "\n",
    "from functions.augmentation import get_augmentation_layers\n",
    "from functions.model_running import run_model\n",
    "from models.inception_resnet_v2_models import get_basic_model"
   ]
  },
  {
   "cell_type": "code",
   "execution_count": null,
   "metadata": {
    "collapsed": false,
    "execution": {
     "iopub.execute_input": "2023-08-10T00:22:22.031480Z",
     "iopub.status.busy": "2023-08-10T00:22:22.031480Z",
     "iopub.status.idle": "2023-08-10T00:22:24.182321Z",
     "shell.execute_reply": "2023-08-10T00:22:24.182321Z"
    },
    "pycharm": {
     "is_executing": true
    }
   },
   "outputs": [],
   "source": [
    "WIDTH = 150\n",
    "HEIGHT = 150\n",
    "ROOT = os.path.join('..', '..', '..', '..')\n",
    "DATA_DIR = os.path.join(\n",
    "    ROOT,\n",
    "    '..',\n",
    "    'data2',\n",
    "    'images_original_inception_resnet_v2_150x150_categorized_no_test')\n",
    "MODEL_NAME_BASE = 'inception_ignoring_imbalance_1_whole_model_trainable'"
   ]
  },
  {
   "cell_type": "code",
   "execution_count": null,
   "outputs": [],
   "source": [
    "run_model(\n",
    "    ROOT,\n",
    "    HEIGHT,\n",
    "    WIDTH,\n",
    "    DATA_DIR,\n",
    "    MODEL_NAME_BASE,\n",
    "    lambda num_classes: lambda: get_basic_model(HEIGHT, WIDTH, num_classes),\n",
    "    get_augmentation_layers)"
   ],
   "metadata": {
    "collapsed": false
   }
  }
 ],
 "metadata": {
  "kernelspec": {
   "display_name": "Python 3",
   "language": "python",
   "name": "python3"
  },
  "language_info": {
   "codemirror_mode": {
    "name": "ipython",
    "version": 3
   },
   "file_extension": ".py",
   "mimetype": "text/x-python",
   "name": "python",
   "nbconvert_exporter": "python",
   "pygments_lexer": "ipython3",
   "version": "3.9.16"
  }
 },
 "nbformat": 4,
 "nbformat_minor": 0
}
