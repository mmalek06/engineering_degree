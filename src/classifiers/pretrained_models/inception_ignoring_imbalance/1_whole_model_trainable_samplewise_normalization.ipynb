{
 "cells": [
  {
   "cell_type": "code",
   "execution_count": 1,
   "metadata": {
    "collapsed": true,
    "execution": {
     "iopub.execute_input": "2023-08-14T02:12:50.268482Z",
     "iopub.status.busy": "2023-08-14T02:12:50.268482Z",
     "iopub.status.idle": "2023-08-14T02:12:53.140144Z",
     "shell.execute_reply": "2023-08-14T02:12:53.140144Z"
    }
   },
   "outputs": [],
   "source": [
    "import os\n",
    "import sys\n",
    "\n",
    "module_path = os.path.abspath(os.path.join('..', '..', '..'))\n",
    "\n",
    "if module_path not in sys.path:\n",
    "    sys.path.append(os.path.join(module_path))\n",
    "\n",
    "from functions.augmentation import get_augmentation_layers_with_sample_augmentation\n",
    "from functions.model_running import get_run_number, run_model\n",
    "from models.inception_resnet_v2_models import get_basic_model"
   ]
  },
  {
   "cell_type": "code",
   "execution_count": 2,
   "metadata": {
    "collapsed": false,
    "execution": {
     "iopub.execute_input": "2023-08-14T02:12:53.140144Z",
     "iopub.status.busy": "2023-08-14T02:12:53.140144Z",
     "iopub.status.idle": "2023-08-14T02:12:53.155763Z",
     "shell.execute_reply": "2023-08-14T02:12:53.155763Z"
    }
   },
   "outputs": [],
   "source": [
    "WIDTH = 150\n",
    "HEIGHT = 150\n",
    "ROOT = os.path.join('..', '..', '..', '..')\n",
    "DS_NAME = 'data2'\n",
    "DATA_DIR = os.path.join(\n",
    "    ROOT,\n",
    "    '..',\n",
    "    DS_NAME,\n",
    "    'images_original_inception_resnet_v2_150x150_categorized_no_test')\n",
    "MODEL_NAME_BASE = 'inception_ignoring_imbalance_1_whole_model_trainable_samplewise_normalization'"
   ]
  },
  {
   "cell_type": "code",
   "execution_count": 3,
   "metadata": {
    "collapsed": false,
    "execution": {
     "iopub.execute_input": "2023-08-14T02:12:53.155763Z",
     "iopub.status.busy": "2023-08-14T02:12:53.155763Z",
     "iopub.status.idle": "2023-08-14T07:22:18.343144Z",
     "shell.execute_reply": "2023-08-14T07:22:18.341659Z"
    }
   },
   "outputs": [
    {
     "name": "stdout",
     "output_type": "stream",
     "text": [
      "Found 21024 files belonging to 8 classes.\n",
      "Found 4307 files belonging to 8 classes.\n",
      "WARNING:tensorflow:Using a while_loop for converting RngReadAndSkip cause there is no registered converter for this op.\n",
      "WARNING:tensorflow:Using a while_loop for converting Bitcast cause there is no registered converter for this op.\n",
      "WARNING:tensorflow:Using a while_loop for converting Bitcast cause there is no registered converter for this op.\n",
      "WARNING:tensorflow:Using a while_loop for converting StatelessRandomUniformV2 cause there is no registered converter for this op.\n",
      "WARNING:tensorflow:Using a while_loop for converting ImageProjectiveTransformV3 cause there is no registered converter for this op.\n",
      "WARNING:tensorflow:Using a while_loop for converting RngReadAndSkip cause there is no registered converter for this op.\n",
      "WARNING:tensorflow:Using a while_loop for converting Bitcast cause there is no registered converter for this op.\n",
      "WARNING:tensorflow:Using a while_loop for converting Bitcast cause there is no registered converter for this op.\n",
      "WARNING:tensorflow:Using a while_loop for converting StatelessRandomUniformV2 cause there is no registered converter for this op.\n",
      "WARNING:tensorflow:Using a while_loop for converting RngReadAndSkip cause there is no registered converter for this op.\n",
      "WARNING:tensorflow:Using a while_loop for converting Bitcast cause there is no registered converter for this op.\n",
      "WARNING:tensorflow:Using a while_loop for converting Bitcast cause there is no registered converter for this op.\n",
      "WARNING:tensorflow:Using a while_loop for converting StatelessRandomUniformFullIntV2 cause there is no registered converter for this op.\n",
      "WARNING:tensorflow:Using a while_loop for converting StatelessRandomGetKeyCounter cause there is no registered converter for this op.\n",
      "WARNING:tensorflow:Using a while_loop for converting StatelessRandomUniformV2 cause there is no registered converter for this op.\n",
      "WARNING:tensorflow:Using a while_loop for converting AdjustContrastv2 cause Input \"contrast_factor\" of op 'AdjustContrastv2' expected to be loop invariant.\n",
      "WARNING:tensorflow:Using a while_loop for converting RngReadAndSkip cause there is no registered converter for this op.\n",
      "WARNING:tensorflow:Using a while_loop for converting Bitcast cause there is no registered converter for this op.\n",
      "WARNING:tensorflow:Using a while_loop for converting Bitcast cause there is no registered converter for this op.\n",
      "WARNING:tensorflow:Using a while_loop for converting StatelessRandomUniformV2 cause there is no registered converter for this op.\n",
      "WARNING:tensorflow:Using a while_loop for converting RngReadAndSkip cause there is no registered converter for this op.\n",
      "WARNING:tensorflow:Using a while_loop for converting Bitcast cause there is no registered converter for this op.\n",
      "WARNING:tensorflow:Using a while_loop for converting Bitcast cause there is no registered converter for this op.\n",
      "WARNING:tensorflow:Using a while_loop for converting StatelessRandomUniformV2 cause there is no registered converter for this op.\n",
      "WARNING:tensorflow:Using a while_loop for converting ImageProjectiveTransformV3 cause there is no registered converter for this op.\n",
      "WARNING:tensorflow:Using a while_loop for converting RngReadAndSkip cause there is no registered converter for this op.\n",
      "WARNING:tensorflow:Using a while_loop for converting Bitcast cause there is no registered converter for this op.\n",
      "WARNING:tensorflow:Using a while_loop for converting Bitcast cause there is no registered converter for this op.\n",
      "WARNING:tensorflow:Using a while_loop for converting StatelessRandomUniformV2 cause there is no registered converter for this op.\n",
      "WARNING:tensorflow:Using a while_loop for converting ImageProjectiveTransformV3 cause there is no registered converter for this op.\n",
      "WARNING:tensorflow:Using a while_loop for converting RngReadAndSkip cause there is no registered converter for this op.\n",
      "WARNING:tensorflow:Using a while_loop for converting Bitcast cause there is no registered converter for this op.\n",
      "WARNING:tensorflow:Using a while_loop for converting Bitcast cause there is no registered converter for this op.\n",
      "WARNING:tensorflow:Using a while_loop for converting StatelessRandomUniformV2 cause there is no registered converter for this op.\n",
      "WARNING:tensorflow:Using a while_loop for converting RngReadAndSkip cause there is no registered converter for this op.\n",
      "WARNING:tensorflow:Using a while_loop for converting Bitcast cause there is no registered converter for this op.\n",
      "WARNING:tensorflow:Using a while_loop for converting Bitcast cause there is no registered converter for this op.\n",
      "WARNING:tensorflow:Using a while_loop for converting StatelessRandomUniformFullIntV2 cause there is no registered converter for this op.\n",
      "WARNING:tensorflow:Using a while_loop for converting StatelessRandomGetKeyCounter cause there is no registered converter for this op.\n",
      "WARNING:tensorflow:Using a while_loop for converting StatelessRandomUniformV2 cause there is no registered converter for this op.\n",
      "WARNING:tensorflow:Using a while_loop for converting AdjustContrastv2 cause Input \"contrast_factor\" of op 'AdjustContrastv2' expected to be loop invariant.\n",
      "WARNING:tensorflow:Using a while_loop for converting RngReadAndSkip cause there is no registered converter for this op.\n",
      "WARNING:tensorflow:Using a while_loop for converting Bitcast cause there is no registered converter for this op.\n",
      "WARNING:tensorflow:Using a while_loop for converting Bitcast cause there is no registered converter for this op.\n",
      "WARNING:tensorflow:Using a while_loop for converting StatelessRandomUniformV2 cause there is no registered converter for this op.\n",
      "WARNING:tensorflow:Using a while_loop for converting RngReadAndSkip cause there is no registered converter for this op.\n",
      "WARNING:tensorflow:Using a while_loop for converting Bitcast cause there is no registered converter for this op.\n",
      "WARNING:tensorflow:Using a while_loop for converting Bitcast cause there is no registered converter for this op.\n",
      "WARNING:tensorflow:Using a while_loop for converting StatelessRandomUniformV2 cause there is no registered converter for this op.\n",
      "WARNING:tensorflow:Using a while_loop for converting ImageProjectiveTransformV3 cause there is no registered converter for this op.\n",
      "Epoch 1/100\n",
      "657/657 [==============================] - ETA: 0s - loss: 1.7349 - accuracy: 0.5023"
     ]
    },
    {
     "name": "stderr",
     "output_type": "stream",
     "text": [
      "WARNING:absl:Found untraced functions such as _jit_compiled_convolution_op, _jit_compiled_convolution_op, _jit_compiled_convolution_op, _jit_compiled_convolution_op, _jit_compiled_convolution_op while saving (showing 5 of 244). These functions will not be directly callable after loading.\n"
     ]
    },
    {
     "name": "stdout",
     "output_type": "stream",
     "text": [
      "INFO:tensorflow:Assets written to: ..\\..\\..\\..\\tmp_models\\inception_ignoring_imbalance_1_whole_model_trainable_samplewise_normalization_6_1\\assets\n"
     ]
    },
    {
     "name": "stderr",
     "output_type": "stream",
     "text": [
      "INFO:tensorflow:Assets written to: ..\\..\\..\\..\\tmp_models\\inception_ignoring_imbalance_1_whole_model_trainable_samplewise_normalization_6_1\\assets\n"
     ]
    },
    {
     "name": "stdout",
     "output_type": "stream",
     "text": [
      "657/657 [==============================] - 225s 310ms/step - loss: 1.7349 - accuracy: 0.5023 - val_loss: 1595.7671 - val_accuracy: 0.0977 - lr: 0.0010\n",
      "Epoch 2/100\n",
      "657/657 [==============================] - ETA: 0s - loss: 1.4691 - accuracy: 0.5051"
     ]
    },
    {
     "name": "stderr",
     "output_type": "stream",
     "text": [
      "WARNING:absl:Found untraced functions such as _jit_compiled_convolution_op, _jit_compiled_convolution_op, _jit_compiled_convolution_op, _jit_compiled_convolution_op, _jit_compiled_convolution_op while saving (showing 5 of 244). These functions will not be directly callable after loading.\n"
     ]
    },
    {
     "name": "stdout",
     "output_type": "stream",
     "text": [
      "INFO:tensorflow:Assets written to: ..\\..\\..\\..\\tmp_models\\inception_ignoring_imbalance_1_whole_model_trainable_samplewise_normalization_6_2\\assets\n"
     ]
    },
    {
     "name": "stderr",
     "output_type": "stream",
     "text": [
      "INFO:tensorflow:Assets written to: ..\\..\\..\\..\\tmp_models\\inception_ignoring_imbalance_1_whole_model_trainable_samplewise_normalization_6_2\\assets\n"
     ]
    },
    {
     "name": "stdout",
     "output_type": "stream",
     "text": [
      "657/657 [==============================] - 204s 310ms/step - loss: 1.4691 - accuracy: 0.5051 - val_loss: 88.4951 - val_accuracy: 0.5152 - lr: 0.0010\n",
      "Epoch 3/100\n",
      "657/657 [==============================] - ETA: 0s - loss: 1.4372 - accuracy: 0.5106"
     ]
    },
    {
     "name": "stderr",
     "output_type": "stream",
     "text": [
      "WARNING:absl:Found untraced functions such as _jit_compiled_convolution_op, _jit_compiled_convolution_op, _jit_compiled_convolution_op, _jit_compiled_convolution_op, _jit_compiled_convolution_op while saving (showing 5 of 244). These functions will not be directly callable after loading.\n"
     ]
    },
    {
     "name": "stdout",
     "output_type": "stream",
     "text": [
      "INFO:tensorflow:Assets written to: ..\\..\\..\\..\\tmp_models\\inception_ignoring_imbalance_1_whole_model_trainable_samplewise_normalization_6_3\\assets\n"
     ]
    },
    {
     "name": "stderr",
     "output_type": "stream",
     "text": [
      "INFO:tensorflow:Assets written to: ..\\..\\..\\..\\tmp_models\\inception_ignoring_imbalance_1_whole_model_trainable_samplewise_normalization_6_3\\assets\n"
     ]
    },
    {
     "name": "stdout",
     "output_type": "stream",
     "text": [
      "657/657 [==============================] - 209s 317ms/step - loss: 1.4372 - accuracy: 0.5106 - val_loss: 3.5072 - val_accuracy: 0.1500 - lr: 0.0010\n",
      "Epoch 4/100\n",
      "657/657 [==============================] - 157s 239ms/step - loss: 1.4167 - accuracy: 0.5165 - val_loss: 399.6385 - val_accuracy: 0.5152 - lr: 0.0010\n",
      "Epoch 5/100\n",
      "657/657 [==============================] - ETA: 0s - loss: 1.3945 - accuracy: 0.5207"
     ]
    },
    {
     "name": "stderr",
     "output_type": "stream",
     "text": [
      "WARNING:absl:Found untraced functions such as _jit_compiled_convolution_op, _jit_compiled_convolution_op, _jit_compiled_convolution_op, _jit_compiled_convolution_op, _jit_compiled_convolution_op while saving (showing 5 of 244). These functions will not be directly callable after loading.\n"
     ]
    },
    {
     "name": "stdout",
     "output_type": "stream",
     "text": [
      "INFO:tensorflow:Assets written to: ..\\..\\..\\..\\tmp_models\\inception_ignoring_imbalance_1_whole_model_trainable_samplewise_normalization_6_5\\assets\n"
     ]
    },
    {
     "name": "stderr",
     "output_type": "stream",
     "text": [
      "INFO:tensorflow:Assets written to: ..\\..\\..\\..\\tmp_models\\inception_ignoring_imbalance_1_whole_model_trainable_samplewise_normalization_6_5\\assets\n"
     ]
    },
    {
     "name": "stdout",
     "output_type": "stream",
     "text": [
      "657/657 [==============================] - 213s 324ms/step - loss: 1.3945 - accuracy: 0.5207 - val_loss: 1.8998 - val_accuracy: 0.5152 - lr: 0.0010\n",
      "Epoch 6/100\n",
      "657/657 [==============================] - 156s 237ms/step - loss: 1.4886 - accuracy: 0.5077 - val_loss: 580.8702 - val_accuracy: 0.0232 - lr: 0.0010\n",
      "Epoch 7/100\n",
      "657/657 [==============================] - 157s 239ms/step - loss: 1.4381 - accuracy: 0.5117 - val_loss: 396.5043 - val_accuracy: 0.5152 - lr: 0.0010\n",
      "Epoch 8/100\n",
      "657/657 [==============================] - 157s 239ms/step - loss: 1.4199 - accuracy: 0.5130 - val_loss: 3.2389 - val_accuracy: 0.4778 - lr: 0.0010\n",
      "Epoch 9/100\n",
      "657/657 [==============================] - 157s 239ms/step - loss: 1.4378 - accuracy: 0.5132 - val_loss: 7.7345 - val_accuracy: 0.4625 - lr: 0.0010\n",
      "Epoch 10/100\n",
      "657/657 [==============================] - ETA: 0s - loss: 1.4254 - accuracy: 0.5148"
     ]
    },
    {
     "name": "stderr",
     "output_type": "stream",
     "text": [
      "WARNING:absl:Found untraced functions such as _jit_compiled_convolution_op, _jit_compiled_convolution_op, _jit_compiled_convolution_op, _jit_compiled_convolution_op, _jit_compiled_convolution_op while saving (showing 5 of 244). These functions will not be directly callable after loading.\n"
     ]
    },
    {
     "name": "stdout",
     "output_type": "stream",
     "text": [
      "INFO:tensorflow:Assets written to: ..\\..\\..\\..\\tmp_models\\inception_ignoring_imbalance_1_whole_model_trainable_samplewise_normalization_6_10\\assets\n"
     ]
    },
    {
     "name": "stderr",
     "output_type": "stream",
     "text": [
      "INFO:tensorflow:Assets written to: ..\\..\\..\\..\\tmp_models\\inception_ignoring_imbalance_1_whole_model_trainable_samplewise_normalization_6_10\\assets\n"
     ]
    },
    {
     "name": "stdout",
     "output_type": "stream",
     "text": [
      "657/657 [==============================] - 212s 323ms/step - loss: 1.4254 - accuracy: 0.5148 - val_loss: 1.7003 - val_accuracy: 0.5152 - lr: 0.0010\n",
      "Epoch 11/100\n",
      "657/657 [==============================] - ETA: 0s - loss: 1.4427 - accuracy: 0.5098"
     ]
    },
    {
     "name": "stderr",
     "output_type": "stream",
     "text": [
      "WARNING:absl:Found untraced functions such as _jit_compiled_convolution_op, _jit_compiled_convolution_op, _jit_compiled_convolution_op, _jit_compiled_convolution_op, _jit_compiled_convolution_op while saving (showing 5 of 244). These functions will not be directly callable after loading.\n"
     ]
    },
    {
     "name": "stdout",
     "output_type": "stream",
     "text": [
      "INFO:tensorflow:Assets written to: ..\\..\\..\\..\\tmp_models\\inception_ignoring_imbalance_1_whole_model_trainable_samplewise_normalization_6_11\\assets\n"
     ]
    },
    {
     "name": "stderr",
     "output_type": "stream",
     "text": [
      "INFO:tensorflow:Assets written to: ..\\..\\..\\..\\tmp_models\\inception_ignoring_imbalance_1_whole_model_trainable_samplewise_normalization_6_11\\assets\n"
     ]
    },
    {
     "name": "stdout",
     "output_type": "stream",
     "text": [
      "657/657 [==============================] - 216s 329ms/step - loss: 1.4427 - accuracy: 0.5098 - val_loss: 1.6715 - val_accuracy: 0.5152 - lr: 0.0010\n",
      "Epoch 12/100\n",
      "657/657 [==============================] - ETA: 0s - loss: 1.4488 - accuracy: 0.5085"
     ]
    },
    {
     "name": "stderr",
     "output_type": "stream",
     "text": [
      "WARNING:absl:Found untraced functions such as _jit_compiled_convolution_op, _jit_compiled_convolution_op, _jit_compiled_convolution_op, _jit_compiled_convolution_op, _jit_compiled_convolution_op while saving (showing 5 of 244). These functions will not be directly callable after loading.\n"
     ]
    },
    {
     "name": "stdout",
     "output_type": "stream",
     "text": [
      "INFO:tensorflow:Assets written to: ..\\..\\..\\..\\tmp_models\\inception_ignoring_imbalance_1_whole_model_trainable_samplewise_normalization_6_12\\assets\n"
     ]
    },
    {
     "name": "stderr",
     "output_type": "stream",
     "text": [
      "INFO:tensorflow:Assets written to: ..\\..\\..\\..\\tmp_models\\inception_ignoring_imbalance_1_whole_model_trainable_samplewise_normalization_6_12\\assets\n"
     ]
    },
    {
     "name": "stdout",
     "output_type": "stream",
     "text": [
      "657/657 [==============================] - 226s 343ms/step - loss: 1.4488 - accuracy: 0.5085 - val_loss: 1.6406 - val_accuracy: 0.5152 - lr: 0.0010\n",
      "Epoch 13/100\n",
      "657/657 [==============================] - 170s 259ms/step - loss: 1.4487 - accuracy: 0.5070 - val_loss: 916.4317 - val_accuracy: 0.1272 - lr: 0.0010\n",
      "Epoch 14/100\n",
      "657/657 [==============================] - ETA: 0s - loss: 1.4242 - accuracy: 0.5117"
     ]
    },
    {
     "name": "stderr",
     "output_type": "stream",
     "text": [
      "WARNING:absl:Found untraced functions such as _jit_compiled_convolution_op, _jit_compiled_convolution_op, _jit_compiled_convolution_op, _jit_compiled_convolution_op, _jit_compiled_convolution_op while saving (showing 5 of 244). These functions will not be directly callable after loading.\n"
     ]
    },
    {
     "name": "stdout",
     "output_type": "stream",
     "text": [
      "INFO:tensorflow:Assets written to: ..\\..\\..\\..\\tmp_models\\inception_ignoring_imbalance_1_whole_model_trainable_samplewise_normalization_6_14\\assets\n"
     ]
    },
    {
     "name": "stderr",
     "output_type": "stream",
     "text": [
      "INFO:tensorflow:Assets written to: ..\\..\\..\\..\\tmp_models\\inception_ignoring_imbalance_1_whole_model_trainable_samplewise_normalization_6_14\\assets\n"
     ]
    },
    {
     "name": "stdout",
     "output_type": "stream",
     "text": [
      "657/657 [==============================] - 226s 344ms/step - loss: 1.4242 - accuracy: 0.5117 - val_loss: 1.5892 - val_accuracy: 0.5157 - lr: 0.0010\n",
      "Epoch 15/100\n",
      "657/657 [==============================] - 163s 248ms/step - loss: 1.4534 - accuracy: 0.5077 - val_loss: 632.5917 - val_accuracy: 0.1825 - lr: 0.0010\n",
      "Epoch 16/100\n",
      "657/657 [==============================] - ETA: 0s - loss: 1.4216 - accuracy: 0.5119"
     ]
    },
    {
     "name": "stderr",
     "output_type": "stream",
     "text": [
      "WARNING:absl:Found untraced functions such as _jit_compiled_convolution_op, _jit_compiled_convolution_op, _jit_compiled_convolution_op, _jit_compiled_convolution_op, _jit_compiled_convolution_op while saving (showing 5 of 244). These functions will not be directly callable after loading.\n"
     ]
    },
    {
     "name": "stdout",
     "output_type": "stream",
     "text": [
      "INFO:tensorflow:Assets written to: ..\\..\\..\\..\\tmp_models\\inception_ignoring_imbalance_1_whole_model_trainable_samplewise_normalization_6_16\\assets\n"
     ]
    },
    {
     "name": "stderr",
     "output_type": "stream",
     "text": [
      "INFO:tensorflow:Assets written to: ..\\..\\..\\..\\tmp_models\\inception_ignoring_imbalance_1_whole_model_trainable_samplewise_normalization_6_16\\assets\n"
     ]
    },
    {
     "name": "stdout",
     "output_type": "stream",
     "text": [
      "657/657 [==============================] - 222s 338ms/step - loss: 1.4216 - accuracy: 0.5119 - val_loss: 1.5581 - val_accuracy: 0.5152 - lr: 0.0010\n",
      "Epoch 17/100\n",
      "657/657 [==============================] - ETA: 0s - loss: 1.4027 - accuracy: 0.5170"
     ]
    },
    {
     "name": "stderr",
     "output_type": "stream",
     "text": [
      "WARNING:absl:Found untraced functions such as _jit_compiled_convolution_op, _jit_compiled_convolution_op, _jit_compiled_convolution_op, _jit_compiled_convolution_op, _jit_compiled_convolution_op while saving (showing 5 of 244). These functions will not be directly callable after loading.\n"
     ]
    },
    {
     "name": "stdout",
     "output_type": "stream",
     "text": [
      "INFO:tensorflow:Assets written to: ..\\..\\..\\..\\tmp_models\\inception_ignoring_imbalance_1_whole_model_trainable_samplewise_normalization_6_17\\assets\n"
     ]
    },
    {
     "name": "stderr",
     "output_type": "stream",
     "text": [
      "INFO:tensorflow:Assets written to: ..\\..\\..\\..\\tmp_models\\inception_ignoring_imbalance_1_whole_model_trainable_samplewise_normalization_6_17\\assets\n"
     ]
    },
    {
     "name": "stdout",
     "output_type": "stream",
     "text": [
      "657/657 [==============================] - 220s 335ms/step - loss: 1.4027 - accuracy: 0.5170 - val_loss: 1.5510 - val_accuracy: 0.5171 - lr: 0.0010\n",
      "Epoch 18/100\n",
      "657/657 [==============================] - 167s 254ms/step - loss: 1.3989 - accuracy: 0.5181 - val_loss: 59.5675 - val_accuracy: 0.2173 - lr: 0.0010\n",
      "Epoch 19/100\n",
      "657/657 [==============================] - ETA: 0s - loss: 1.3931 - accuracy: 0.5183"
     ]
    },
    {
     "name": "stderr",
     "output_type": "stream",
     "text": [
      "WARNING:absl:Found untraced functions such as _jit_compiled_convolution_op, _jit_compiled_convolution_op, _jit_compiled_convolution_op, _jit_compiled_convolution_op, _jit_compiled_convolution_op while saving (showing 5 of 244). These functions will not be directly callable after loading.\n"
     ]
    },
    {
     "name": "stdout",
     "output_type": "stream",
     "text": [
      "INFO:tensorflow:Assets written to: ..\\..\\..\\..\\tmp_models\\inception_ignoring_imbalance_1_whole_model_trainable_samplewise_normalization_6_19\\assets\n"
     ]
    },
    {
     "name": "stderr",
     "output_type": "stream",
     "text": [
      "INFO:tensorflow:Assets written to: ..\\..\\..\\..\\tmp_models\\inception_ignoring_imbalance_1_whole_model_trainable_samplewise_normalization_6_19\\assets\n"
     ]
    },
    {
     "name": "stdout",
     "output_type": "stream",
     "text": [
      "657/657 [==============================] - 224s 340ms/step - loss: 1.3931 - accuracy: 0.5183 - val_loss: 1.5279 - val_accuracy: 0.5159 - lr: 0.0010\n",
      "Epoch 20/100\n",
      "657/657 [==============================] - ETA: 0s - loss: 1.3803 - accuracy: 0.5212"
     ]
    },
    {
     "name": "stderr",
     "output_type": "stream",
     "text": [
      "WARNING:absl:Found untraced functions such as _jit_compiled_convolution_op, _jit_compiled_convolution_op, _jit_compiled_convolution_op, _jit_compiled_convolution_op, _jit_compiled_convolution_op while saving (showing 5 of 244). These functions will not be directly callable after loading.\n"
     ]
    },
    {
     "name": "stdout",
     "output_type": "stream",
     "text": [
      "INFO:tensorflow:Assets written to: ..\\..\\..\\..\\tmp_models\\inception_ignoring_imbalance_1_whole_model_trainable_samplewise_normalization_6_20\\assets\n"
     ]
    },
    {
     "name": "stderr",
     "output_type": "stream",
     "text": [
      "INFO:tensorflow:Assets written to: ..\\..\\..\\..\\tmp_models\\inception_ignoring_imbalance_1_whole_model_trainable_samplewise_normalization_6_20\\assets\n"
     ]
    },
    {
     "name": "stdout",
     "output_type": "stream",
     "text": [
      "657/657 [==============================] - 227s 345ms/step - loss: 1.3803 - accuracy: 0.5212 - val_loss: 1.5128 - val_accuracy: 0.5154 - lr: 0.0010\n",
      "Epoch 21/100\n",
      "657/657 [==============================] - 165s 250ms/step - loss: 1.3817 - accuracy: 0.5225 - val_loss: 223.2560 - val_accuracy: 0.5152 - lr: 0.0010\n",
      "Epoch 22/100\n",
      "657/657 [==============================] - ETA: 0s - loss: 1.4206 - accuracy: 0.5127"
     ]
    },
    {
     "name": "stderr",
     "output_type": "stream",
     "text": [
      "WARNING:absl:Found untraced functions such as _jit_compiled_convolution_op, _jit_compiled_convolution_op, _jit_compiled_convolution_op, _jit_compiled_convolution_op, _jit_compiled_convolution_op while saving (showing 5 of 244). These functions will not be directly callable after loading.\n"
     ]
    },
    {
     "name": "stdout",
     "output_type": "stream",
     "text": [
      "INFO:tensorflow:Assets written to: ..\\..\\..\\..\\tmp_models\\inception_ignoring_imbalance_1_whole_model_trainable_samplewise_normalization_6_22\\assets\n"
     ]
    },
    {
     "name": "stderr",
     "output_type": "stream",
     "text": [
      "INFO:tensorflow:Assets written to: ..\\..\\..\\..\\tmp_models\\inception_ignoring_imbalance_1_whole_model_trainable_samplewise_normalization_6_22\\assets\n"
     ]
    },
    {
     "name": "stdout",
     "output_type": "stream",
     "text": [
      "657/657 [==============================] - 221s 336ms/step - loss: 1.4206 - accuracy: 0.5127 - val_loss: 1.4991 - val_accuracy: 0.5157 - lr: 0.0010\n",
      "Epoch 23/100\n",
      "657/657 [==============================] - 166s 251ms/step - loss: 1.4040 - accuracy: 0.5187 - val_loss: 4.0574 - val_accuracy: 0.1830 - lr: 0.0010\n",
      "Epoch 24/100\n",
      "657/657 [==============================] - ETA: 0s - loss: 1.4088 - accuracy: 0.5154"
     ]
    },
    {
     "name": "stderr",
     "output_type": "stream",
     "text": [
      "WARNING:absl:Found untraced functions such as _jit_compiled_convolution_op, _jit_compiled_convolution_op, _jit_compiled_convolution_op, _jit_compiled_convolution_op, _jit_compiled_convolution_op while saving (showing 5 of 244). These functions will not be directly callable after loading.\n"
     ]
    },
    {
     "name": "stdout",
     "output_type": "stream",
     "text": [
      "INFO:tensorflow:Assets written to: ..\\..\\..\\..\\tmp_models\\inception_ignoring_imbalance_1_whole_model_trainable_samplewise_normalization_6_24\\assets\n"
     ]
    },
    {
     "name": "stderr",
     "output_type": "stream",
     "text": [
      "INFO:tensorflow:Assets written to: ..\\..\\..\\..\\tmp_models\\inception_ignoring_imbalance_1_whole_model_trainable_samplewise_normalization_6_24\\assets\n"
     ]
    },
    {
     "name": "stdout",
     "output_type": "stream",
     "text": [
      "657/657 [==============================] - 222s 338ms/step - loss: 1.4088 - accuracy: 0.5154 - val_loss: 1.4951 - val_accuracy: 0.5145 - lr: 0.0010\n",
      "Epoch 25/100\n",
      "657/657 [==============================] - ETA: 0s - loss: 1.3837 - accuracy: 0.5216"
     ]
    },
    {
     "name": "stderr",
     "output_type": "stream",
     "text": [
      "WARNING:absl:Found untraced functions such as _jit_compiled_convolution_op, _jit_compiled_convolution_op, _jit_compiled_convolution_op, _jit_compiled_convolution_op, _jit_compiled_convolution_op while saving (showing 5 of 244). These functions will not be directly callable after loading.\n"
     ]
    },
    {
     "name": "stdout",
     "output_type": "stream",
     "text": [
      "INFO:tensorflow:Assets written to: ..\\..\\..\\..\\tmp_models\\inception_ignoring_imbalance_1_whole_model_trainable_samplewise_normalization_6_25\\assets\n"
     ]
    },
    {
     "name": "stderr",
     "output_type": "stream",
     "text": [
      "INFO:tensorflow:Assets written to: ..\\..\\..\\..\\tmp_models\\inception_ignoring_imbalance_1_whole_model_trainable_samplewise_normalization_6_25\\assets\n"
     ]
    },
    {
     "name": "stdout",
     "output_type": "stream",
     "text": [
      "657/657 [==============================] - 228s 347ms/step - loss: 1.3837 - accuracy: 0.5216 - val_loss: 1.4829 - val_accuracy: 0.5152 - lr: 0.0010\n",
      "Epoch 26/100\n",
      "657/657 [==============================] - ETA: 0s - loss: 1.3764 - accuracy: 0.5264"
     ]
    },
    {
     "name": "stderr",
     "output_type": "stream",
     "text": [
      "WARNING:absl:Found untraced functions such as _jit_compiled_convolution_op, _jit_compiled_convolution_op, _jit_compiled_convolution_op, _jit_compiled_convolution_op, _jit_compiled_convolution_op while saving (showing 5 of 244). These functions will not be directly callable after loading.\n"
     ]
    },
    {
     "name": "stdout",
     "output_type": "stream",
     "text": [
      "INFO:tensorflow:Assets written to: ..\\..\\..\\..\\tmp_models\\inception_ignoring_imbalance_1_whole_model_trainable_samplewise_normalization_6_26\\assets\n"
     ]
    },
    {
     "name": "stderr",
     "output_type": "stream",
     "text": [
      "INFO:tensorflow:Assets written to: ..\\..\\..\\..\\tmp_models\\inception_ignoring_imbalance_1_whole_model_trainable_samplewise_normalization_6_26\\assets\n"
     ]
    },
    {
     "name": "stdout",
     "output_type": "stream",
     "text": [
      "657/657 [==============================] - 231s 351ms/step - loss: 1.3764 - accuracy: 0.5264 - val_loss: 1.4775 - val_accuracy: 0.5152 - lr: 0.0010\n",
      "Epoch 27/100\n",
      "657/657 [==============================] - ETA: 0s - loss: 1.3937 - accuracy: 0.5171"
     ]
    },
    {
     "name": "stderr",
     "output_type": "stream",
     "text": [
      "WARNING:absl:Found untraced functions such as _jit_compiled_convolution_op, _jit_compiled_convolution_op, _jit_compiled_convolution_op, _jit_compiled_convolution_op, _jit_compiled_convolution_op while saving (showing 5 of 244). These functions will not be directly callable after loading.\n"
     ]
    },
    {
     "name": "stdout",
     "output_type": "stream",
     "text": [
      "INFO:tensorflow:Assets written to: ..\\..\\..\\..\\tmp_models\\inception_ignoring_imbalance_1_whole_model_trainable_samplewise_normalization_6_27\\assets\n"
     ]
    },
    {
     "name": "stderr",
     "output_type": "stream",
     "text": [
      "INFO:tensorflow:Assets written to: ..\\..\\..\\..\\tmp_models\\inception_ignoring_imbalance_1_whole_model_trainable_samplewise_normalization_6_27\\assets\n"
     ]
    },
    {
     "name": "stdout",
     "output_type": "stream",
     "text": [
      "657/657 [==============================] - 231s 350ms/step - loss: 1.3937 - accuracy: 0.5171 - val_loss: 1.4728 - val_accuracy: 0.5152 - lr: 0.0010\n",
      "Epoch 28/100\n",
      "657/657 [==============================] - ETA: 0s - loss: 1.3791 - accuracy: 0.5210"
     ]
    },
    {
     "name": "stderr",
     "output_type": "stream",
     "text": [
      "WARNING:absl:Found untraced functions such as _jit_compiled_convolution_op, _jit_compiled_convolution_op, _jit_compiled_convolution_op, _jit_compiled_convolution_op, _jit_compiled_convolution_op while saving (showing 5 of 244). These functions will not be directly callable after loading.\n"
     ]
    },
    {
     "name": "stdout",
     "output_type": "stream",
     "text": [
      "INFO:tensorflow:Assets written to: ..\\..\\..\\..\\tmp_models\\inception_ignoring_imbalance_1_whole_model_trainable_samplewise_normalization_6_28\\assets\n"
     ]
    },
    {
     "name": "stderr",
     "output_type": "stream",
     "text": [
      "INFO:tensorflow:Assets written to: ..\\..\\..\\..\\tmp_models\\inception_ignoring_imbalance_1_whole_model_trainable_samplewise_normalization_6_28\\assets\n"
     ]
    },
    {
     "name": "stdout",
     "output_type": "stream",
     "text": [
      "657/657 [==============================] - 235s 358ms/step - loss: 1.3791 - accuracy: 0.5210 - val_loss: 1.4699 - val_accuracy: 0.5152 - lr: 0.0010\n",
      "Epoch 29/100\n",
      "657/657 [==============================] - ETA: 0s - loss: 1.3841 - accuracy: 0.5221"
     ]
    },
    {
     "name": "stderr",
     "output_type": "stream",
     "text": [
      "WARNING:absl:Found untraced functions such as _jit_compiled_convolution_op, _jit_compiled_convolution_op, _jit_compiled_convolution_op, _jit_compiled_convolution_op, _jit_compiled_convolution_op while saving (showing 5 of 244). These functions will not be directly callable after loading.\n"
     ]
    },
    {
     "name": "stdout",
     "output_type": "stream",
     "text": [
      "INFO:tensorflow:Assets written to: ..\\..\\..\\..\\tmp_models\\inception_ignoring_imbalance_1_whole_model_trainable_samplewise_normalization_6_29\\assets\n"
     ]
    },
    {
     "name": "stderr",
     "output_type": "stream",
     "text": [
      "INFO:tensorflow:Assets written to: ..\\..\\..\\..\\tmp_models\\inception_ignoring_imbalance_1_whole_model_trainable_samplewise_normalization_6_29\\assets\n"
     ]
    },
    {
     "name": "stdout",
     "output_type": "stream",
     "text": [
      "657/657 [==============================] - 236s 359ms/step - loss: 1.3841 - accuracy: 0.5221 - val_loss: 1.4673 - val_accuracy: 0.5152 - lr: 0.0010\n",
      "Epoch 30/100\n",
      "657/657 [==============================] - 177s 268ms/step - loss: 1.3760 - accuracy: 0.5233 - val_loss: 1.4696 - val_accuracy: 0.5129 - lr: 0.0010\n",
      "Epoch 31/100\n",
      "657/657 [==============================] - ETA: 0s - loss: 1.3812 - accuracy: 0.5234"
     ]
    },
    {
     "name": "stderr",
     "output_type": "stream",
     "text": [
      "WARNING:absl:Found untraced functions such as _jit_compiled_convolution_op, _jit_compiled_convolution_op, _jit_compiled_convolution_op, _jit_compiled_convolution_op, _jit_compiled_convolution_op while saving (showing 5 of 244). These functions will not be directly callable after loading.\n"
     ]
    },
    {
     "name": "stdout",
     "output_type": "stream",
     "text": [
      "INFO:tensorflow:Assets written to: ..\\..\\..\\..\\tmp_models\\inception_ignoring_imbalance_1_whole_model_trainable_samplewise_normalization_6_31\\assets\n"
     ]
    },
    {
     "name": "stderr",
     "output_type": "stream",
     "text": [
      "INFO:tensorflow:Assets written to: ..\\..\\..\\..\\tmp_models\\inception_ignoring_imbalance_1_whole_model_trainable_samplewise_normalization_6_31\\assets\n"
     ]
    },
    {
     "name": "stdout",
     "output_type": "stream",
     "text": [
      "657/657 [==============================] - 235s 357ms/step - loss: 1.3812 - accuracy: 0.5234 - val_loss: 1.4624 - val_accuracy: 0.5152 - lr: 0.0010\n",
      "Epoch 32/100\n",
      "657/657 [==============================] - ETA: 0s - loss: 1.3932 - accuracy: 0.5200"
     ]
    },
    {
     "name": "stderr",
     "output_type": "stream",
     "text": [
      "WARNING:absl:Found untraced functions such as _jit_compiled_convolution_op, _jit_compiled_convolution_op, _jit_compiled_convolution_op, _jit_compiled_convolution_op, _jit_compiled_convolution_op while saving (showing 5 of 244). These functions will not be directly callable after loading.\n"
     ]
    },
    {
     "name": "stdout",
     "output_type": "stream",
     "text": [
      "INFO:tensorflow:Assets written to: ..\\..\\..\\..\\tmp_models\\inception_ignoring_imbalance_1_whole_model_trainable_samplewise_normalization_6_32\\assets\n"
     ]
    },
    {
     "name": "stderr",
     "output_type": "stream",
     "text": [
      "INFO:tensorflow:Assets written to: ..\\..\\..\\..\\tmp_models\\inception_ignoring_imbalance_1_whole_model_trainable_samplewise_normalization_6_32\\assets\n"
     ]
    },
    {
     "name": "stdout",
     "output_type": "stream",
     "text": [
      "657/657 [==============================] - 229s 348ms/step - loss: 1.3932 - accuracy: 0.5200 - val_loss: 1.4589 - val_accuracy: 0.5152 - lr: 0.0010\n",
      "Epoch 33/100\n",
      "657/657 [==============================] - ETA: 0s - loss: 1.4373 - accuracy: 0.5083"
     ]
    },
    {
     "name": "stderr",
     "output_type": "stream",
     "text": [
      "WARNING:absl:Found untraced functions such as _jit_compiled_convolution_op, _jit_compiled_convolution_op, _jit_compiled_convolution_op, _jit_compiled_convolution_op, _jit_compiled_convolution_op while saving (showing 5 of 244). These functions will not be directly callable after loading.\n"
     ]
    },
    {
     "name": "stdout",
     "output_type": "stream",
     "text": [
      "INFO:tensorflow:Assets written to: ..\\..\\..\\..\\tmp_models\\inception_ignoring_imbalance_1_whole_model_trainable_samplewise_normalization_6_33\\assets\n"
     ]
    },
    {
     "name": "stderr",
     "output_type": "stream",
     "text": [
      "INFO:tensorflow:Assets written to: ..\\..\\..\\..\\tmp_models\\inception_ignoring_imbalance_1_whole_model_trainable_samplewise_normalization_6_33\\assets\n"
     ]
    },
    {
     "name": "stdout",
     "output_type": "stream",
     "text": [
      "657/657 [==============================] - 232s 353ms/step - loss: 1.4373 - accuracy: 0.5083 - val_loss: 1.4572 - val_accuracy: 0.5152 - lr: 0.0010\n",
      "Epoch 34/100\n",
      "657/657 [==============================] - 177s 269ms/step - loss: 1.4342 - accuracy: 0.5081 - val_loss: 76.6670 - val_accuracy: 0.5152 - lr: 0.0010\n",
      "Epoch 35/100\n",
      "657/657 [==============================] - ETA: 0s - loss: 1.4197 - accuracy: 0.5110"
     ]
    },
    {
     "name": "stderr",
     "output_type": "stream",
     "text": [
      "WARNING:absl:Found untraced functions such as _jit_compiled_convolution_op, _jit_compiled_convolution_op, _jit_compiled_convolution_op, _jit_compiled_convolution_op, _jit_compiled_convolution_op while saving (showing 5 of 244). These functions will not be directly callable after loading.\n"
     ]
    },
    {
     "name": "stdout",
     "output_type": "stream",
     "text": [
      "INFO:tensorflow:Assets written to: ..\\..\\..\\..\\tmp_models\\inception_ignoring_imbalance_1_whole_model_trainable_samplewise_normalization_6_35\\assets\n"
     ]
    },
    {
     "name": "stderr",
     "output_type": "stream",
     "text": [
      "INFO:tensorflow:Assets written to: ..\\..\\..\\..\\tmp_models\\inception_ignoring_imbalance_1_whole_model_trainable_samplewise_normalization_6_35\\assets\n"
     ]
    },
    {
     "name": "stdout",
     "output_type": "stream",
     "text": [
      "657/657 [==============================] - 235s 358ms/step - loss: 1.4197 - accuracy: 0.5110 - val_loss: 1.4545 - val_accuracy: 0.5152 - lr: 0.0010\n",
      "Epoch 36/100\n",
      "657/657 [==============================] - ETA: 0s - loss: 1.4083 - accuracy: 0.5119"
     ]
    },
    {
     "name": "stderr",
     "output_type": "stream",
     "text": [
      "WARNING:absl:Found untraced functions such as _jit_compiled_convolution_op, _jit_compiled_convolution_op, _jit_compiled_convolution_op, _jit_compiled_convolution_op, _jit_compiled_convolution_op while saving (showing 5 of 244). These functions will not be directly callable after loading.\n"
     ]
    },
    {
     "name": "stdout",
     "output_type": "stream",
     "text": [
      "INFO:tensorflow:Assets written to: ..\\..\\..\\..\\tmp_models\\inception_ignoring_imbalance_1_whole_model_trainable_samplewise_normalization_6_36\\assets\n"
     ]
    },
    {
     "name": "stderr",
     "output_type": "stream",
     "text": [
      "INFO:tensorflow:Assets written to: ..\\..\\..\\..\\tmp_models\\inception_ignoring_imbalance_1_whole_model_trainable_samplewise_normalization_6_36\\assets\n"
     ]
    },
    {
     "name": "stdout",
     "output_type": "stream",
     "text": [
      "657/657 [==============================] - 233s 355ms/step - loss: 1.4083 - accuracy: 0.5119 - val_loss: 1.4537 - val_accuracy: 0.5152 - lr: 0.0010\n",
      "Epoch 37/100\n",
      "657/657 [==============================] - 181s 275ms/step - loss: 1.4078 - accuracy: 0.5141 - val_loss: 19.2905 - val_accuracy: 0.5159 - lr: 0.0010\n",
      "Epoch 38/100\n",
      "657/657 [==============================] - 180s 273ms/step - loss: 1.4051 - accuracy: 0.5170 - val_loss: 14.6616 - val_accuracy: 0.4813 - lr: 0.0010\n",
      "Epoch 39/100\n",
      "657/657 [==============================] - 179s 272ms/step - loss: 1.4014 - accuracy: 0.5155 - val_loss: 86.4451 - val_accuracy: 0.1286 - lr: 0.0010\n",
      "Epoch 40/100\n",
      "657/657 [==============================] - ETA: 0s - loss: 1.3951 - accuracy: 0.5159"
     ]
    },
    {
     "name": "stderr",
     "output_type": "stream",
     "text": [
      "WARNING:absl:Found untraced functions such as _jit_compiled_convolution_op, _jit_compiled_convolution_op, _jit_compiled_convolution_op, _jit_compiled_convolution_op, _jit_compiled_convolution_op while saving (showing 5 of 244). These functions will not be directly callable after loading.\n"
     ]
    },
    {
     "name": "stdout",
     "output_type": "stream",
     "text": [
      "INFO:tensorflow:Assets written to: ..\\..\\..\\..\\tmp_models\\inception_ignoring_imbalance_1_whole_model_trainable_samplewise_normalization_6_40\\assets\n"
     ]
    },
    {
     "name": "stderr",
     "output_type": "stream",
     "text": [
      "INFO:tensorflow:Assets written to: ..\\..\\..\\..\\tmp_models\\inception_ignoring_imbalance_1_whole_model_trainable_samplewise_normalization_6_40\\assets\n"
     ]
    },
    {
     "name": "stdout",
     "output_type": "stream",
     "text": [
      "657/657 [==============================] - 236s 360ms/step - loss: 1.3951 - accuracy: 0.5159 - val_loss: 1.4502 - val_accuracy: 0.5152 - lr: 0.0010\n",
      "Epoch 41/100\n",
      "657/657 [==============================] - ETA: 0s - loss: 1.3968 - accuracy: 0.5213"
     ]
    },
    {
     "name": "stderr",
     "output_type": "stream",
     "text": [
      "WARNING:absl:Found untraced functions such as _jit_compiled_convolution_op, _jit_compiled_convolution_op, _jit_compiled_convolution_op, _jit_compiled_convolution_op, _jit_compiled_convolution_op while saving (showing 5 of 244). These functions will not be directly callable after loading.\n"
     ]
    },
    {
     "name": "stdout",
     "output_type": "stream",
     "text": [
      "INFO:tensorflow:Assets written to: ..\\..\\..\\..\\tmp_models\\inception_ignoring_imbalance_1_whole_model_trainable_samplewise_normalization_6_41\\assets\n"
     ]
    },
    {
     "name": "stderr",
     "output_type": "stream",
     "text": [
      "INFO:tensorflow:Assets written to: ..\\..\\..\\..\\tmp_models\\inception_ignoring_imbalance_1_whole_model_trainable_samplewise_normalization_6_41\\assets\n"
     ]
    },
    {
     "name": "stdout",
     "output_type": "stream",
     "text": [
      "657/657 [==============================] - 233s 354ms/step - loss: 1.3968 - accuracy: 0.5213 - val_loss: 1.4488 - val_accuracy: 0.5152 - lr: 0.0010\n",
      "Epoch 42/100\n",
      "657/657 [==============================] - ETA: 0s - loss: 1.3905 - accuracy: 0.5192"
     ]
    },
    {
     "name": "stderr",
     "output_type": "stream",
     "text": [
      "WARNING:absl:Found untraced functions such as _jit_compiled_convolution_op, _jit_compiled_convolution_op, _jit_compiled_convolution_op, _jit_compiled_convolution_op, _jit_compiled_convolution_op while saving (showing 5 of 244). These functions will not be directly callable after loading.\n"
     ]
    },
    {
     "name": "stdout",
     "output_type": "stream",
     "text": [
      "INFO:tensorflow:Assets written to: ..\\..\\..\\..\\tmp_models\\inception_ignoring_imbalance_1_whole_model_trainable_samplewise_normalization_6_42\\assets\n"
     ]
    },
    {
     "name": "stderr",
     "output_type": "stream",
     "text": [
      "INFO:tensorflow:Assets written to: ..\\..\\..\\..\\tmp_models\\inception_ignoring_imbalance_1_whole_model_trainable_samplewise_normalization_6_42\\assets\n"
     ]
    },
    {
     "name": "stdout",
     "output_type": "stream",
     "text": [
      "657/657 [==============================] - 234s 356ms/step - loss: 1.3905 - accuracy: 0.5192 - val_loss: 1.4482 - val_accuracy: 0.5152 - lr: 0.0010\n",
      "Epoch 43/100\n",
      "657/657 [==============================] - 178s 271ms/step - loss: 1.3920 - accuracy: 0.5201 - val_loss: 108.4359 - val_accuracy: 0.0102 - lr: 0.0010\n",
      "Epoch 44/100\n",
      "657/657 [==============================] - ETA: 0s - loss: 1.3873 - accuracy: 0.5203"
     ]
    },
    {
     "name": "stderr",
     "output_type": "stream",
     "text": [
      "WARNING:absl:Found untraced functions such as _jit_compiled_convolution_op, _jit_compiled_convolution_op, _jit_compiled_convolution_op, _jit_compiled_convolution_op, _jit_compiled_convolution_op while saving (showing 5 of 244). These functions will not be directly callable after loading.\n"
     ]
    },
    {
     "name": "stdout",
     "output_type": "stream",
     "text": [
      "INFO:tensorflow:Assets written to: ..\\..\\..\\..\\tmp_models\\inception_ignoring_imbalance_1_whole_model_trainable_samplewise_normalization_6_44\\assets\n"
     ]
    },
    {
     "name": "stderr",
     "output_type": "stream",
     "text": [
      "INFO:tensorflow:Assets written to: ..\\..\\..\\..\\tmp_models\\inception_ignoring_imbalance_1_whole_model_trainable_samplewise_normalization_6_44\\assets\n"
     ]
    },
    {
     "name": "stdout",
     "output_type": "stream",
     "text": [
      "657/657 [==============================] - 236s 359ms/step - loss: 1.3873 - accuracy: 0.5203 - val_loss: 1.4455 - val_accuracy: 0.5152 - lr: 0.0010\n",
      "Epoch 45/100\n",
      "657/657 [==============================] - ETA: 0s - loss: 1.3776 - accuracy: 0.5237"
     ]
    },
    {
     "name": "stderr",
     "output_type": "stream",
     "text": [
      "WARNING:absl:Found untraced functions such as _jit_compiled_convolution_op, _jit_compiled_convolution_op, _jit_compiled_convolution_op, _jit_compiled_convolution_op, _jit_compiled_convolution_op while saving (showing 5 of 244). These functions will not be directly callable after loading.\n"
     ]
    },
    {
     "name": "stdout",
     "output_type": "stream",
     "text": [
      "INFO:tensorflow:Assets written to: ..\\..\\..\\..\\tmp_models\\inception_ignoring_imbalance_1_whole_model_trainable_samplewise_normalization_6_45\\assets\n"
     ]
    },
    {
     "name": "stderr",
     "output_type": "stream",
     "text": [
      "INFO:tensorflow:Assets written to: ..\\..\\..\\..\\tmp_models\\inception_ignoring_imbalance_1_whole_model_trainable_samplewise_normalization_6_45\\assets\n"
     ]
    },
    {
     "name": "stdout",
     "output_type": "stream",
     "text": [
      "657/657 [==============================] - 228s 346ms/step - loss: 1.3776 - accuracy: 0.5237 - val_loss: 1.4444 - val_accuracy: 0.5152 - lr: 0.0010\n",
      "Epoch 46/100\n",
      "657/657 [==============================] - ETA: 0s - loss: 1.3744 - accuracy: 0.5231"
     ]
    },
    {
     "name": "stderr",
     "output_type": "stream",
     "text": [
      "WARNING:absl:Found untraced functions such as _jit_compiled_convolution_op, _jit_compiled_convolution_op, _jit_compiled_convolution_op, _jit_compiled_convolution_op, _jit_compiled_convolution_op while saving (showing 5 of 244). These functions will not be directly callable after loading.\n"
     ]
    },
    {
     "name": "stdout",
     "output_type": "stream",
     "text": [
      "INFO:tensorflow:Assets written to: ..\\..\\..\\..\\tmp_models\\inception_ignoring_imbalance_1_whole_model_trainable_samplewise_normalization_6_46\\assets\n"
     ]
    },
    {
     "name": "stderr",
     "output_type": "stream",
     "text": [
      "INFO:tensorflow:Assets written to: ..\\..\\..\\..\\tmp_models\\inception_ignoring_imbalance_1_whole_model_trainable_samplewise_normalization_6_46\\assets\n"
     ]
    },
    {
     "name": "stdout",
     "output_type": "stream",
     "text": [
      "657/657 [==============================] - 233s 355ms/step - loss: 1.3744 - accuracy: 0.5231 - val_loss: 1.4440 - val_accuracy: 0.5152 - lr: 0.0010\n",
      "Epoch 47/100\n",
      "657/657 [==============================] - ETA: 0s - loss: 1.3740 - accuracy: 0.5265"
     ]
    },
    {
     "name": "stderr",
     "output_type": "stream",
     "text": [
      "WARNING:absl:Found untraced functions such as _jit_compiled_convolution_op, _jit_compiled_convolution_op, _jit_compiled_convolution_op, _jit_compiled_convolution_op, _jit_compiled_convolution_op while saving (showing 5 of 244). These functions will not be directly callable after loading.\n"
     ]
    },
    {
     "name": "stdout",
     "output_type": "stream",
     "text": [
      "INFO:tensorflow:Assets written to: ..\\..\\..\\..\\tmp_models\\inception_ignoring_imbalance_1_whole_model_trainable_samplewise_normalization_6_47\\assets\n"
     ]
    },
    {
     "name": "stderr",
     "output_type": "stream",
     "text": [
      "INFO:tensorflow:Assets written to: ..\\..\\..\\..\\tmp_models\\inception_ignoring_imbalance_1_whole_model_trainable_samplewise_normalization_6_47\\assets\n"
     ]
    },
    {
     "name": "stdout",
     "output_type": "stream",
     "text": [
      "657/657 [==============================] - 233s 354ms/step - loss: 1.3740 - accuracy: 0.5265 - val_loss: 1.4435 - val_accuracy: 0.5152 - lr: 0.0010\n",
      "Epoch 48/100\n",
      "657/657 [==============================] - ETA: 0s - loss: 1.3755 - accuracy: 0.5263"
     ]
    },
    {
     "name": "stderr",
     "output_type": "stream",
     "text": [
      "WARNING:absl:Found untraced functions such as _jit_compiled_convolution_op, _jit_compiled_convolution_op, _jit_compiled_convolution_op, _jit_compiled_convolution_op, _jit_compiled_convolution_op while saving (showing 5 of 244). These functions will not be directly callable after loading.\n"
     ]
    },
    {
     "name": "stdout",
     "output_type": "stream",
     "text": [
      "INFO:tensorflow:Assets written to: ..\\..\\..\\..\\tmp_models\\inception_ignoring_imbalance_1_whole_model_trainable_samplewise_normalization_6_48\\assets\n"
     ]
    },
    {
     "name": "stderr",
     "output_type": "stream",
     "text": [
      "INFO:tensorflow:Assets written to: ..\\..\\..\\..\\tmp_models\\inception_ignoring_imbalance_1_whole_model_trainable_samplewise_normalization_6_48\\assets\n"
     ]
    },
    {
     "name": "stdout",
     "output_type": "stream",
     "text": [
      "657/657 [==============================] - 237s 361ms/step - loss: 1.3755 - accuracy: 0.5263 - val_loss: 1.4428 - val_accuracy: 0.5152 - lr: 0.0010\n",
      "Epoch 49/100\n",
      "657/657 [==============================] - ETA: 0s - loss: 1.3665 - accuracy: 0.5287"
     ]
    },
    {
     "name": "stderr",
     "output_type": "stream",
     "text": [
      "WARNING:absl:Found untraced functions such as _jit_compiled_convolution_op, _jit_compiled_convolution_op, _jit_compiled_convolution_op, _jit_compiled_convolution_op, _jit_compiled_convolution_op while saving (showing 5 of 244). These functions will not be directly callable after loading.\n"
     ]
    },
    {
     "name": "stdout",
     "output_type": "stream",
     "text": [
      "INFO:tensorflow:Assets written to: ..\\..\\..\\..\\tmp_models\\inception_ignoring_imbalance_1_whole_model_trainable_samplewise_normalization_6_49\\assets\n"
     ]
    },
    {
     "name": "stderr",
     "output_type": "stream",
     "text": [
      "INFO:tensorflow:Assets written to: ..\\..\\..\\..\\tmp_models\\inception_ignoring_imbalance_1_whole_model_trainable_samplewise_normalization_6_49\\assets\n"
     ]
    },
    {
     "name": "stdout",
     "output_type": "stream",
     "text": [
      "657/657 [==============================] - 237s 360ms/step - loss: 1.3665 - accuracy: 0.5287 - val_loss: 1.4426 - val_accuracy: 0.5152 - lr: 0.0010\n",
      "Epoch 50/100\n",
      "657/657 [==============================] - ETA: 0s - loss: 1.3637 - accuracy: 0.5290"
     ]
    },
    {
     "name": "stderr",
     "output_type": "stream",
     "text": [
      "WARNING:absl:Found untraced functions such as _jit_compiled_convolution_op, _jit_compiled_convolution_op, _jit_compiled_convolution_op, _jit_compiled_convolution_op, _jit_compiled_convolution_op while saving (showing 5 of 244). These functions will not be directly callable after loading.\n"
     ]
    },
    {
     "name": "stdout",
     "output_type": "stream",
     "text": [
      "INFO:tensorflow:Assets written to: ..\\..\\..\\..\\tmp_models\\inception_ignoring_imbalance_1_whole_model_trainable_samplewise_normalization_6_50\\assets\n"
     ]
    },
    {
     "name": "stderr",
     "output_type": "stream",
     "text": [
      "INFO:tensorflow:Assets written to: ..\\..\\..\\..\\tmp_models\\inception_ignoring_imbalance_1_whole_model_trainable_samplewise_normalization_6_50\\assets\n"
     ]
    },
    {
     "name": "stdout",
     "output_type": "stream",
     "text": [
      "657/657 [==============================] - 242s 367ms/step - loss: 1.3637 - accuracy: 0.5290 - val_loss: 1.4421 - val_accuracy: 0.5152 - lr: 0.0010\n",
      "Epoch 51/100\n",
      "657/657 [==============================] - ETA: 0s - loss: 1.3627 - accuracy: 0.5295"
     ]
    },
    {
     "name": "stderr",
     "output_type": "stream",
     "text": [
      "WARNING:absl:Found untraced functions such as _jit_compiled_convolution_op, _jit_compiled_convolution_op, _jit_compiled_convolution_op, _jit_compiled_convolution_op, _jit_compiled_convolution_op while saving (showing 5 of 244). These functions will not be directly callable after loading.\n"
     ]
    },
    {
     "name": "stdout",
     "output_type": "stream",
     "text": [
      "INFO:tensorflow:Assets written to: ..\\..\\..\\..\\tmp_models\\inception_ignoring_imbalance_1_whole_model_trainable_samplewise_normalization_6_51\\assets\n"
     ]
    },
    {
     "name": "stderr",
     "output_type": "stream",
     "text": [
      "INFO:tensorflow:Assets written to: ..\\..\\..\\..\\tmp_models\\inception_ignoring_imbalance_1_whole_model_trainable_samplewise_normalization_6_51\\assets\n"
     ]
    },
    {
     "name": "stdout",
     "output_type": "stream",
     "text": [
      "657/657 [==============================] - 246s 374ms/step - loss: 1.3627 - accuracy: 0.5295 - val_loss: 1.4420 - val_accuracy: 0.5152 - lr: 0.0010\n",
      "Epoch 52/100\n",
      "657/657 [==============================] - ETA: 0s - loss: 1.3517 - accuracy: 0.5329"
     ]
    },
    {
     "name": "stderr",
     "output_type": "stream",
     "text": [
      "WARNING:absl:Found untraced functions such as _jit_compiled_convolution_op, _jit_compiled_convolution_op, _jit_compiled_convolution_op, _jit_compiled_convolution_op, _jit_compiled_convolution_op while saving (showing 5 of 244). These functions will not be directly callable after loading.\n"
     ]
    },
    {
     "name": "stdout",
     "output_type": "stream",
     "text": [
      "INFO:tensorflow:Assets written to: ..\\..\\..\\..\\tmp_models\\inception_ignoring_imbalance_1_whole_model_trainable_samplewise_normalization_6_52\\assets\n"
     ]
    },
    {
     "name": "stderr",
     "output_type": "stream",
     "text": [
      "INFO:tensorflow:Assets written to: ..\\..\\..\\..\\tmp_models\\inception_ignoring_imbalance_1_whole_model_trainable_samplewise_normalization_6_52\\assets\n"
     ]
    },
    {
     "name": "stdout",
     "output_type": "stream",
     "text": [
      "657/657 [==============================] - 243s 369ms/step - loss: 1.3517 - accuracy: 0.5329 - val_loss: 1.4416 - val_accuracy: 0.5152 - lr: 0.0010\n",
      "Epoch 53/100\n",
      "657/657 [==============================] - ETA: 0s - loss: 1.3548 - accuracy: 0.5299"
     ]
    },
    {
     "name": "stderr",
     "output_type": "stream",
     "text": [
      "WARNING:absl:Found untraced functions such as _jit_compiled_convolution_op, _jit_compiled_convolution_op, _jit_compiled_convolution_op, _jit_compiled_convolution_op, _jit_compiled_convolution_op while saving (showing 5 of 244). These functions will not be directly callable after loading.\n"
     ]
    },
    {
     "name": "stdout",
     "output_type": "stream",
     "text": [
      "INFO:tensorflow:Assets written to: ..\\..\\..\\..\\tmp_models\\inception_ignoring_imbalance_1_whole_model_trainable_samplewise_normalization_6_53\\assets\n"
     ]
    },
    {
     "name": "stderr",
     "output_type": "stream",
     "text": [
      "INFO:tensorflow:Assets written to: ..\\..\\..\\..\\tmp_models\\inception_ignoring_imbalance_1_whole_model_trainable_samplewise_normalization_6_53\\assets\n"
     ]
    },
    {
     "name": "stdout",
     "output_type": "stream",
     "text": [
      "657/657 [==============================] - 242s 367ms/step - loss: 1.3548 - accuracy: 0.5299 - val_loss: 1.4415 - val_accuracy: 0.5152 - lr: 0.0010\n",
      "Epoch 54/100\n",
      "657/657 [==============================] - 187s 284ms/step - loss: 1.3755 - accuracy: 0.5313 - val_loss: 1.4568 - val_accuracy: 0.5152 - lr: 0.0010\n",
      "Epoch 55/100\n",
      "657/657 [==============================] - 186s 283ms/step - loss: 1.3475 - accuracy: 0.5339 - val_loss: 116.5547 - val_accuracy: 0.0265 - lr: 0.0010\n",
      "Epoch 56/100\n",
      "657/657 [==============================] - 193s 294ms/step - loss: 1.3541 - accuracy: 0.5297 - val_loss: 42511.9414 - val_accuracy: 0.1282 - lr: 0.0010\n",
      "Epoch 57/100\n",
      "657/657 [==============================] - 191s 290ms/step - loss: 1.3764 - accuracy: 0.5242 - val_loss: 1.6070 - val_accuracy: 0.4955 - lr: 0.0010\n",
      "Epoch 58/100\n",
      "657/657 [==============================] - ETA: 0s - loss: 1.3719 - accuracy: 0.5273"
     ]
    },
    {
     "name": "stderr",
     "output_type": "stream",
     "text": [
      "WARNING:absl:Found untraced functions such as _jit_compiled_convolution_op, _jit_compiled_convolution_op, _jit_compiled_convolution_op, _jit_compiled_convolution_op, _jit_compiled_convolution_op while saving (showing 5 of 244). These functions will not be directly callable after loading.\n"
     ]
    },
    {
     "name": "stdout",
     "output_type": "stream",
     "text": [
      "INFO:tensorflow:Assets written to: ..\\..\\..\\..\\tmp_models\\inception_ignoring_imbalance_1_whole_model_trainable_samplewise_normalization_6_58\\assets\n"
     ]
    },
    {
     "name": "stderr",
     "output_type": "stream",
     "text": [
      "INFO:tensorflow:Assets written to: ..\\..\\..\\..\\tmp_models\\inception_ignoring_imbalance_1_whole_model_trainable_samplewise_normalization_6_58\\assets\n"
     ]
    },
    {
     "name": "stdout",
     "output_type": "stream",
     "text": [
      "657/657 [==============================] - 249s 380ms/step - loss: 1.3719 - accuracy: 0.5273 - val_loss: 1.4405 - val_accuracy: 0.5152 - lr: 0.0010\n",
      "Epoch 59/100\n",
      "657/657 [==============================] - ETA: 0s - loss: 1.3535 - accuracy: 0.5318"
     ]
    },
    {
     "name": "stderr",
     "output_type": "stream",
     "text": [
      "WARNING:absl:Found untraced functions such as _jit_compiled_convolution_op, _jit_compiled_convolution_op, _jit_compiled_convolution_op, _jit_compiled_convolution_op, _jit_compiled_convolution_op while saving (showing 5 of 244). These functions will not be directly callable after loading.\n"
     ]
    },
    {
     "name": "stdout",
     "output_type": "stream",
     "text": [
      "INFO:tensorflow:Assets written to: ..\\..\\..\\..\\tmp_models\\inception_ignoring_imbalance_1_whole_model_trainable_samplewise_normalization_6_59\\assets\n"
     ]
    },
    {
     "name": "stderr",
     "output_type": "stream",
     "text": [
      "INFO:tensorflow:Assets written to: ..\\..\\..\\..\\tmp_models\\inception_ignoring_imbalance_1_whole_model_trainable_samplewise_normalization_6_59\\assets\n"
     ]
    },
    {
     "name": "stdout",
     "output_type": "stream",
     "text": [
      "657/657 [==============================] - 255s 388ms/step - loss: 1.3535 - accuracy: 0.5318 - val_loss: 1.4399 - val_accuracy: 0.5152 - lr: 0.0010\n",
      "Epoch 60/100\n",
      "657/657 [==============================] - ETA: 0s - loss: 1.3462 - accuracy: 0.5321"
     ]
    },
    {
     "name": "stderr",
     "output_type": "stream",
     "text": [
      "WARNING:absl:Found untraced functions such as _jit_compiled_convolution_op, _jit_compiled_convolution_op, _jit_compiled_convolution_op, _jit_compiled_convolution_op, _jit_compiled_convolution_op while saving (showing 5 of 244). These functions will not be directly callable after loading.\n"
     ]
    },
    {
     "name": "stdout",
     "output_type": "stream",
     "text": [
      "INFO:tensorflow:Assets written to: ..\\..\\..\\..\\tmp_models\\inception_ignoring_imbalance_1_whole_model_trainable_samplewise_normalization_6_60\\assets\n"
     ]
    },
    {
     "name": "stderr",
     "output_type": "stream",
     "text": [
      "INFO:tensorflow:Assets written to: ..\\..\\..\\..\\tmp_models\\inception_ignoring_imbalance_1_whole_model_trainable_samplewise_normalization_6_60\\assets\n"
     ]
    },
    {
     "name": "stdout",
     "output_type": "stream",
     "text": [
      "657/657 [==============================] - 254s 387ms/step - loss: 1.3462 - accuracy: 0.5321 - val_loss: 1.4393 - val_accuracy: 0.5152 - lr: 0.0010\n",
      "Epoch 61/100\n",
      "657/657 [==============================] - 194s 294ms/step - loss: 1.3464 - accuracy: 0.5322 - val_loss: 1.4393 - val_accuracy: 0.5152 - lr: 0.0010\n",
      "Epoch 62/100\n",
      "657/657 [==============================] - 194s 294ms/step - loss: 1.3631 - accuracy: 0.5319 - val_loss: 14.4374 - val_accuracy: 0.1110 - lr: 0.0010\n",
      "Epoch 63/100\n",
      "657/657 [==============================] - ETA: 0s - loss: 1.3624 - accuracy: 0.5278"
     ]
    },
    {
     "name": "stderr",
     "output_type": "stream",
     "text": [
      "WARNING:absl:Found untraced functions such as _jit_compiled_convolution_op, _jit_compiled_convolution_op, _jit_compiled_convolution_op, _jit_compiled_convolution_op, _jit_compiled_convolution_op while saving (showing 5 of 244). These functions will not be directly callable after loading.\n"
     ]
    },
    {
     "name": "stdout",
     "output_type": "stream",
     "text": [
      "INFO:tensorflow:Assets written to: ..\\..\\..\\..\\tmp_models\\inception_ignoring_imbalance_1_whole_model_trainable_samplewise_normalization_6_63\\assets\n"
     ]
    },
    {
     "name": "stderr",
     "output_type": "stream",
     "text": [
      "INFO:tensorflow:Assets written to: ..\\..\\..\\..\\tmp_models\\inception_ignoring_imbalance_1_whole_model_trainable_samplewise_normalization_6_63\\assets\n"
     ]
    },
    {
     "name": "stdout",
     "output_type": "stream",
     "text": [
      "657/657 [==============================] - 254s 386ms/step - loss: 1.3624 - accuracy: 0.5278 - val_loss: 1.4381 - val_accuracy: 0.5152 - lr: 0.0010\n",
      "Epoch 64/100\n",
      "657/657 [==============================] - ETA: 0s - loss: 1.3514 - accuracy: 0.5327"
     ]
    },
    {
     "name": "stderr",
     "output_type": "stream",
     "text": [
      "WARNING:absl:Found untraced functions such as _jit_compiled_convolution_op, _jit_compiled_convolution_op, _jit_compiled_convolution_op, _jit_compiled_convolution_op, _jit_compiled_convolution_op while saving (showing 5 of 244). These functions will not be directly callable after loading.\n"
     ]
    },
    {
     "name": "stdout",
     "output_type": "stream",
     "text": [
      "INFO:tensorflow:Assets written to: ..\\..\\..\\..\\tmp_models\\inception_ignoring_imbalance_1_whole_model_trainable_samplewise_normalization_6_64\\assets\n"
     ]
    },
    {
     "name": "stderr",
     "output_type": "stream",
     "text": [
      "INFO:tensorflow:Assets written to: ..\\..\\..\\..\\tmp_models\\inception_ignoring_imbalance_1_whole_model_trainable_samplewise_normalization_6_64\\assets\n"
     ]
    },
    {
     "name": "stdout",
     "output_type": "stream",
     "text": [
      "657/657 [==============================] - 252s 384ms/step - loss: 1.3514 - accuracy: 0.5327 - val_loss: 1.4379 - val_accuracy: 0.5152 - lr: 0.0010\n",
      "Epoch 65/100\n",
      "657/657 [==============================] - 191s 289ms/step - loss: 1.3433 - accuracy: 0.5350 - val_loss: 1.4379 - val_accuracy: 0.5152 - lr: 0.0010\n",
      "Epoch 66/100\n",
      "657/657 [==============================] - ETA: 0s - loss: 1.3396 - accuracy: 0.5371"
     ]
    },
    {
     "name": "stderr",
     "output_type": "stream",
     "text": [
      "WARNING:absl:Found untraced functions such as _jit_compiled_convolution_op, _jit_compiled_convolution_op, _jit_compiled_convolution_op, _jit_compiled_convolution_op, _jit_compiled_convolution_op while saving (showing 5 of 244). These functions will not be directly callable after loading.\n"
     ]
    },
    {
     "name": "stdout",
     "output_type": "stream",
     "text": [
      "INFO:tensorflow:Assets written to: ..\\..\\..\\..\\tmp_models\\inception_ignoring_imbalance_1_whole_model_trainable_samplewise_normalization_6_66\\assets\n"
     ]
    },
    {
     "name": "stderr",
     "output_type": "stream",
     "text": [
      "INFO:tensorflow:Assets written to: ..\\..\\..\\..\\tmp_models\\inception_ignoring_imbalance_1_whole_model_trainable_samplewise_normalization_6_66\\assets\n"
     ]
    },
    {
     "name": "stdout",
     "output_type": "stream",
     "text": [
      "657/657 [==============================] - 254s 387ms/step - loss: 1.3396 - accuracy: 0.5371 - val_loss: 1.4376 - val_accuracy: 0.5152 - lr: 0.0010\n",
      "Epoch 67/100\n",
      "657/657 [==============================] - ETA: 0s - loss: 1.3284 - accuracy: 0.5375"
     ]
    },
    {
     "name": "stderr",
     "output_type": "stream",
     "text": [
      "WARNING:absl:Found untraced functions such as _jit_compiled_convolution_op, _jit_compiled_convolution_op, _jit_compiled_convolution_op, _jit_compiled_convolution_op, _jit_compiled_convolution_op while saving (showing 5 of 244). These functions will not be directly callable after loading.\n"
     ]
    },
    {
     "name": "stdout",
     "output_type": "stream",
     "text": [
      "INFO:tensorflow:Assets written to: ..\\..\\..\\..\\tmp_models\\inception_ignoring_imbalance_1_whole_model_trainable_samplewise_normalization_6_67\\assets\n"
     ]
    },
    {
     "name": "stderr",
     "output_type": "stream",
     "text": [
      "INFO:tensorflow:Assets written to: ..\\..\\..\\..\\tmp_models\\inception_ignoring_imbalance_1_whole_model_trainable_samplewise_normalization_6_67\\assets\n"
     ]
    },
    {
     "name": "stdout",
     "output_type": "stream",
     "text": [
      "657/657 [==============================] - 253s 385ms/step - loss: 1.3284 - accuracy: 0.5375 - val_loss: 1.4369 - val_accuracy: 0.5157 - lr: 0.0010\n",
      "Epoch 68/100\n",
      "657/657 [==============================] - 193s 293ms/step - loss: 1.3523 - accuracy: 0.5327 - val_loss: 1.4384 - val_accuracy: 0.5152 - lr: 0.0010\n",
      "Epoch 69/100\n",
      "657/657 [==============================] - 192s 293ms/step - loss: 1.3447 - accuracy: 0.5359 - val_loss: 1.4380 - val_accuracy: 0.5152 - lr: 0.0010\n",
      "Epoch 70/100\n",
      "657/657 [==============================] - 195s 297ms/step - loss: 1.3334 - accuracy: 0.5390 - val_loss: 1.4387 - val_accuracy: 0.5150 - lr: 0.0010\n",
      "Epoch 71/100\n",
      "657/657 [==============================] - ETA: 0s - loss: 1.3390 - accuracy: 0.5375"
     ]
    },
    {
     "name": "stderr",
     "output_type": "stream",
     "text": [
      "WARNING:absl:Found untraced functions such as _jit_compiled_convolution_op, _jit_compiled_convolution_op, _jit_compiled_convolution_op, _jit_compiled_convolution_op, _jit_compiled_convolution_op while saving (showing 5 of 244). These functions will not be directly callable after loading.\n"
     ]
    },
    {
     "name": "stdout",
     "output_type": "stream",
     "text": [
      "INFO:tensorflow:Assets written to: ..\\..\\..\\..\\tmp_models\\inception_ignoring_imbalance_1_whole_model_trainable_samplewise_normalization_6_71\\assets\n"
     ]
    },
    {
     "name": "stderr",
     "output_type": "stream",
     "text": [
      "INFO:tensorflow:Assets written to: ..\\..\\..\\..\\tmp_models\\inception_ignoring_imbalance_1_whole_model_trainable_samplewise_normalization_6_71\\assets\n"
     ]
    },
    {
     "name": "stdout",
     "output_type": "stream",
     "text": [
      "657/657 [==============================] - 258s 393ms/step - loss: 1.3390 - accuracy: 0.5375 - val_loss: 1.4366 - val_accuracy: 0.5152 - lr: 0.0010\n",
      "Epoch 72/100\n",
      "657/657 [==============================] - 191s 291ms/step - loss: 1.3251 - accuracy: 0.5403 - val_loss: 1.4369 - val_accuracy: 0.5152 - lr: 0.0010\n",
      "Epoch 73/100\n",
      "657/657 [==============================] - 190s 289ms/step - loss: 1.3256 - accuracy: 0.5385 - val_loss: 1.4373 - val_accuracy: 0.5152 - lr: 0.0010\n",
      "Epoch 74/100\n",
      "657/657 [==============================] - ETA: 0s - loss: 1.3417 - accuracy: 0.5344"
     ]
    },
    {
     "name": "stderr",
     "output_type": "stream",
     "text": [
      "WARNING:absl:Found untraced functions such as _jit_compiled_convolution_op, _jit_compiled_convolution_op, _jit_compiled_convolution_op, _jit_compiled_convolution_op, _jit_compiled_convolution_op while saving (showing 5 of 244). These functions will not be directly callable after loading.\n"
     ]
    },
    {
     "name": "stdout",
     "output_type": "stream",
     "text": [
      "INFO:tensorflow:Assets written to: ..\\..\\..\\..\\tmp_models\\inception_ignoring_imbalance_1_whole_model_trainable_samplewise_normalization_6_74\\assets\n"
     ]
    },
    {
     "name": "stderr",
     "output_type": "stream",
     "text": [
      "INFO:tensorflow:Assets written to: ..\\..\\..\\..\\tmp_models\\inception_ignoring_imbalance_1_whole_model_trainable_samplewise_normalization_6_74\\assets\n"
     ]
    },
    {
     "name": "stdout",
     "output_type": "stream",
     "text": [
      "657/657 [==============================] - 252s 383ms/step - loss: 1.3417 - accuracy: 0.5344 - val_loss: 1.4364 - val_accuracy: 0.5152 - lr: 0.0010\n",
      "Epoch 75/100\n",
      "657/657 [==============================] - ETA: 0s - loss: 1.3543 - accuracy: 0.5326"
     ]
    },
    {
     "name": "stderr",
     "output_type": "stream",
     "text": [
      "WARNING:absl:Found untraced functions such as _jit_compiled_convolution_op, _jit_compiled_convolution_op, _jit_compiled_convolution_op, _jit_compiled_convolution_op, _jit_compiled_convolution_op while saving (showing 5 of 244). These functions will not be directly callable after loading.\n"
     ]
    },
    {
     "name": "stdout",
     "output_type": "stream",
     "text": [
      "INFO:tensorflow:Assets written to: ..\\..\\..\\..\\tmp_models\\inception_ignoring_imbalance_1_whole_model_trainable_samplewise_normalization_6_75\\assets\n"
     ]
    },
    {
     "name": "stderr",
     "output_type": "stream",
     "text": [
      "INFO:tensorflow:Assets written to: ..\\..\\..\\..\\tmp_models\\inception_ignoring_imbalance_1_whole_model_trainable_samplewise_normalization_6_75\\assets\n"
     ]
    },
    {
     "name": "stdout",
     "output_type": "stream",
     "text": [
      "657/657 [==============================] - 259s 393ms/step - loss: 1.3543 - accuracy: 0.5326 - val_loss: 1.4363 - val_accuracy: 0.5152 - lr: 0.0010\n",
      "Epoch 76/100\n",
      "657/657 [==============================] - 196s 298ms/step - loss: 1.3362 - accuracy: 0.5381 - val_loss: 1.4365 - val_accuracy: 0.5152 - lr: 0.0010\n",
      "Epoch 77/100\n",
      "657/657 [==============================] - ETA: 0s - loss: 1.3310 - accuracy: 0.5376\n",
      "Epoch 77: ReduceLROnPlateau reducing learning rate to 0.0009500000451225787.\n"
     ]
    },
    {
     "name": "stderr",
     "output_type": "stream",
     "text": [
      "WARNING:absl:Found untraced functions such as _jit_compiled_convolution_op, _jit_compiled_convolution_op, _jit_compiled_convolution_op, _jit_compiled_convolution_op, _jit_compiled_convolution_op while saving (showing 5 of 244). These functions will not be directly callable after loading.\n"
     ]
    },
    {
     "name": "stdout",
     "output_type": "stream",
     "text": [
      "INFO:tensorflow:Assets written to: ..\\..\\..\\..\\tmp_models\\inception_ignoring_imbalance_1_whole_model_trainable_samplewise_normalization_6_77\\assets\n"
     ]
    },
    {
     "name": "stderr",
     "output_type": "stream",
     "text": [
      "INFO:tensorflow:Assets written to: ..\\..\\..\\..\\tmp_models\\inception_ignoring_imbalance_1_whole_model_trainable_samplewise_normalization_6_77\\assets\n"
     ]
    },
    {
     "name": "stdout",
     "output_type": "stream",
     "text": [
      "657/657 [==============================] - 258s 392ms/step - loss: 1.3310 - accuracy: 0.5376 - val_loss: 1.4363 - val_accuracy: 0.5152 - lr: 0.0010\n",
      "Epoch 78/100\n",
      "657/657 [==============================] - 201s 306ms/step - loss: 1.3230 - accuracy: 0.5410 - val_loss: 1.4363 - val_accuracy: 0.5152 - lr: 9.5000e-04\n",
      "Epoch 79/100\n",
      "657/657 [==============================] - ETA: 0s - loss: 1.3212 - accuracy: 0.5434"
     ]
    },
    {
     "name": "stderr",
     "output_type": "stream",
     "text": [
      "WARNING:absl:Found untraced functions such as _jit_compiled_convolution_op, _jit_compiled_convolution_op, _jit_compiled_convolution_op, _jit_compiled_convolution_op, _jit_compiled_convolution_op while saving (showing 5 of 244). These functions will not be directly callable after loading.\n"
     ]
    },
    {
     "name": "stdout",
     "output_type": "stream",
     "text": [
      "INFO:tensorflow:Assets written to: ..\\..\\..\\..\\tmp_models\\inception_ignoring_imbalance_1_whole_model_trainable_samplewise_normalization_6_79\\assets\n"
     ]
    },
    {
     "name": "stderr",
     "output_type": "stream",
     "text": [
      "INFO:tensorflow:Assets written to: ..\\..\\..\\..\\tmp_models\\inception_ignoring_imbalance_1_whole_model_trainable_samplewise_normalization_6_79\\assets\n"
     ]
    },
    {
     "name": "stdout",
     "output_type": "stream",
     "text": [
      "657/657 [==============================] - 263s 400ms/step - loss: 1.3212 - accuracy: 0.5434 - val_loss: 1.4362 - val_accuracy: 0.5152 - lr: 9.5000e-04\n",
      "Epoch 80/100\n",
      "657/657 [==============================] - 196s 298ms/step - loss: 1.3144 - accuracy: 0.5433 - val_loss: 1.4362 - val_accuracy: 0.5152 - lr: 9.5000e-04\n",
      "Epoch 81/100\n",
      "657/657 [==============================] - 194s 295ms/step - loss: 1.3149 - accuracy: 0.5451 - val_loss: 1.4362 - val_accuracy: 0.5152 - lr: 9.5000e-04\n",
      "Epoch 82/100\n",
      "657/657 [==============================] - 193s 294ms/step - loss: 1.3218 - accuracy: 0.5406 - val_loss: 1.4362 - val_accuracy: 0.5152 - lr: 9.5000e-04\n",
      "Epoch 83/100\n",
      "657/657 [==============================] - 193s 294ms/step - loss: 1.3104 - accuracy: 0.5468 - val_loss: 1.4366 - val_accuracy: 0.5152 - lr: 9.5000e-04\n",
      "Epoch 84/100\n",
      "657/657 [==============================] - 196s 298ms/step - loss: 1.3068 - accuracy: 0.5492 - val_loss: 1.4366 - val_accuracy: 0.5152 - lr: 9.5000e-04\n",
      "Epoch 85/100\n",
      "657/657 [==============================] - 193s 294ms/step - loss: 1.3076 - accuracy: 0.5484 - val_loss: 1.4366 - val_accuracy: 0.5152 - lr: 9.5000e-04\n",
      "Epoch 86/100\n",
      "657/657 [==============================] - 196s 298ms/step - loss: 1.3059 - accuracy: 0.5482 - val_loss: 1.4372 - val_accuracy: 0.5152 - lr: 9.5000e-04\n",
      "Epoch 87/100\n",
      "657/657 [==============================] - ETA: 0s - loss: 1.3169 - accuracy: 0.5442\n",
      "Epoch 87: ReduceLROnPlateau reducing learning rate to 0.0009025000152178108.\n",
      "657/657 [==============================] - 197s 300ms/step - loss: 1.3169 - accuracy: 0.5442 - val_loss: 11.0601 - val_accuracy: 0.3703 - lr: 9.5000e-04\n"
     ]
    },
    {
     "data": {
      "image/png": "[encoded data removed]",
      "text/plain": [
       "<Figure size 1200x600 with 2 Axes>"
      ]
     },
     "metadata": {},
     "output_type": "display_data"
    }
   ],
   "source": [
    "run_model(\n",
    "    ROOT,\n",
    "    HEIGHT,\n",
    "    WIDTH,\n",
    "    DATA_DIR,\n",
    "    DS_NAME,\n",
    "    MODEL_NAME_BASE,\n",
    "    lambda num_classes: lambda: get_basic_model(HEIGHT, WIDTH, num_classes),\n",
    "    get_augmentation_layers_with_sample_augmentation)"
   ]
  }
 ],
 "metadata": {
  "kernelspec": {
   "display_name": "Python 3",
   "language": "python",
   "name": "python3"
  },
  "language_info": {
   "codemirror_mode": {
    "name": "ipython",
    "version": 3
   },
   "file_extension": ".py",
   "mimetype": "text/x-python",
   "name": "python",
   "nbconvert_exporter": "python",
   "pygments_lexer": "ipython3",
   "version": "3.9.16"
  }
 },
 "nbformat": 4,
 "nbformat_minor": 0
}
