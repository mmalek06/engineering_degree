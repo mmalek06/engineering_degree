{
 "cells": [
  {
   "cell_type": "code",
   "execution_count": 31,
   "metadata": {
    "collapsed": true,
    "execution": {
     "iopub.execute_input": "2023-08-24T19:17:26.062960Z",
     "iopub.status.busy": "2023-08-24T19:17:26.062960Z",
     "iopub.status.idle": "2023-08-24T19:17:28.965347Z",
     "shell.execute_reply": "2023-08-24T19:17:28.965347Z"
    }
   },
   "outputs": [],
   "source": [
    "import os\n",
    "import sys\n",
    "import numpy as np\n",
    "\n",
    "from tensorflow import keras\n",
    "\n",
    "module_path = os.path.abspath(os.path.join('..', '..', '..'))\n",
    "\n",
    "if module_path not in sys.path:\n",
    "    sys.path.append(os.path.join(module_path))\n",
    "\n",
    "from functions.augmentation import get_augmentation_layers\n",
    "from functions.history import save_history\n",
    "from functions.model_running import get_run_number, run_model\n",
    "from models.inception_resnet_v2_models import get_model_with_attention"
   ]
  },
  {
   "cell_type": "code",
   "execution_count": 2,
   "metadata": {
    "collapsed": false,
    "execution": {
     "iopub.execute_input": "2023-08-24T19:17:28.965347Z",
     "iopub.status.busy": "2023-08-24T19:17:28.965347Z",
     "iopub.status.idle": "2023-08-24T19:17:28.980973Z",
     "shell.execute_reply": "2023-08-24T19:17:28.980973Z"
    }
   },
   "outputs": [],
   "source": [
    "WIDTH = 150\n",
    "HEIGHT = 150\n",
    "ROOT = os.path.join('..', '..', '..', '..')\n",
    "DS_NAME = 'data1'\n",
    "DATA_DIR = os.path.join(\n",
    "    ROOT,\n",
    "    '..',\n",
    "    DS_NAME,\n",
    "    'images_original_inception_resnet_v2_150x150_categorized')\n",
    "MODEL_NAME_BASE = 'inception_dealing_with_imbalance_3_whole_model_trainable_with_attention_module_on_top'"
   ]
  },
  {
   "cell_type": "code",
   "execution_count": 3,
   "outputs": [],
   "source": [
    "METRICS = [\n",
    "    keras.metrics.CategoricalCrossentropy(name='categorical cross entropy'),\n",
    "    keras.metrics.MeanSquaredError(name='mean squared error'),\n",
    "    keras.metrics.CategoricalAccuracy(name='accuracy'),\n",
    "    keras.metrics.AUC(name='auc', multi_label=True),\n",
    "    keras.metrics.AUC(name='prc', curve='PR', multi_label=True)\n",
    "]"
   ],
   "metadata": {
    "collapsed": false
   }
  },
  {
   "cell_type": "code",
   "execution_count": null,
   "metadata": {
    "collapsed": false,
    "execution": {
     "iopub.execute_input": "2023-08-24T19:17:28.980973Z",
     "iopub.status.busy": "2023-08-24T19:17:28.980973Z",
     "iopub.status.idle": "2023-08-24T20:39:50.916964Z",
     "shell.execute_reply": "2023-08-24T20:39:50.916964Z"
    },
    "pycharm": {
     "is_executing": true
    }
   },
   "outputs": [],
   "source": [
    "_, no_bias_history = run_model(\n",
    "    ROOT,\n",
    "    HEIGHT,\n",
    "    WIDTH,\n",
    "    DATA_DIR,\n",
    "    DS_NAME,\n",
    "    f'{MODEL_NAME_BASE}_no_biases_baseline',\n",
    "    lambda num_classes: lambda: get_model_with_attention(HEIGHT, WIDTH, num_classes, metrics=METRICS),\n",
    "    get_augmentation_layers,\n",
    "    batch_size=128)"
   ]
  },
  {
   "cell_type": "markdown",
   "source": [
    "To calculate biases for each respective class this formula has to be used:<br /><br />\n",
    "\n",
    "$b_i = \\log\\left(\\frac{{n_i}}{{N - n_i}}\\right)$\n",
    "\n",
    "\n",
    "Where: <br />\n",
    "- $b_i$ is the i-th class bias\n",
    "- $n_i$ is the number of samples in the i-th class\n",
    "- $N$ is the total number of samples"
   ],
   "metadata": {
    "collapsed": false
   }
  },
  {
   "cell_type": "code",
   "execution_count": 5,
   "outputs": [],
   "source": [
    "train_ds_dir = os.path.join(DATA_DIR, 'training')\n",
    "class_dirs = [\n",
    "    os.path.join(train_ds_dir, class_dir)\n",
    "    for class_dir in os.listdir(train_ds_dir)\n",
    "    if os.path.isdir(os.path.join(train_ds_dir, class_dir))]\n",
    "class_counts = [len(os.listdir(class_dir)) for class_dir in class_dirs]\n",
    "total_samples = np.sum(class_counts)\n",
    "initial_biases = np.log(class_counts / (total_samples - class_counts))"
   ],
   "metadata": {
    "collapsed": false
   }
  },
  {
   "cell_type": "code",
   "execution_count": null,
   "outputs": [],
   "source": [
    "biased_model, biased_history = run_model(\n",
    "    ROOT,\n",
    "    HEIGHT,\n",
    "    WIDTH,\n",
    "    DATA_DIR,\n",
    "    DS_NAME,\n",
    "    f'{MODEL_NAME_BASE}_with_initialized_biases',\n",
    "    lambda num_classes:\n",
    "        lambda: get_model_with_attention(\n",
    "            HEIGHT,\n",
    "            WIDTH,\n",
    "            num_classes,\n",
    "            metrics=METRICS,\n",
    "            biases=keras.initializers.Constant(initial_biases)),\n",
    "    get_augmentation_layers,\n",
    "    batch_size=128)"
   ],
   "metadata": {
    "collapsed": false,
    "pycharm": {
     "is_executing": true
    }
   }
  },
  {
   "cell_type": "code",
   "execution_count": 32,
   "outputs": [],
   "source": [
    "initial_weights = os.path.join(ROOT, 'histories', 'initial_weights')\n",
    "\n",
    "biased_model.save_weights(initial_weights)\n",
    "save_history(biased_history, 'biased_history')\n",
    "save_history(no_bias_history, 'no_bias_history')"
   ],
   "metadata": {
    "collapsed": false
   }
  },
  {
   "cell_type": "code",
   "execution_count": null,
   "outputs": [],
   "source": [],
   "metadata": {
    "collapsed": false
   }
  }
 ],
 "metadata": {
  "kernelspec": {
   "display_name": "Python 3",
   "language": "python",
   "name": "python3"
  },
  "language_info": {
   "codemirror_mode": {
    "name": "ipython",
    "version": 3
   },
   "file_extension": ".py",
   "mimetype": "text/x-python",
   "name": "python",
   "nbconvert_exporter": "python",
   "pygments_lexer": "ipython3",
   "version": "3.9.16"
  }
 },
 "nbformat": 4,
 "nbformat_minor": 0
}
