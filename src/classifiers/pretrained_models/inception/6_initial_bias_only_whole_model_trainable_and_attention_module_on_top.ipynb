{
 "cells": [
  {
   "cell_type": "code",
   "execution_count": 1,
   "metadata": {
    "collapsed": true,
    "execution": {
     "iopub.execute_input": "2023-10-19T18:42:14.962905Z",
     "iopub.status.busy": "2023-10-19T18:42:14.962905Z",
     "iopub.status.idle": "2023-10-19T18:42:17.881542Z",
     "shell.execute_reply": "2023-10-19T18:42:17.881542Z"
    }
   },
   "outputs": [],
   "source": [
    "import os\n",
    "import sys\n",
    "import numpy as np\n",
    "\n",
    "from tensorflow import keras\n",
    "\n",
    "module_path = os.path.abspath(os.path.join('..', '..', '..'))\n",
    "\n",
    "if module_path not in sys.path:\n",
    "    sys.path.append(os.path.join(module_path))\n",
    "\n",
    "from functions.augmentation import get_augmentation_layers\n",
    "from functions.model_running import get_run_number, run_model\n",
    "from models.inception_resnet_v2_models import get_model_with_attention"
   ]
  },
  {
   "cell_type": "code",
   "execution_count": 2,
   "metadata": {
    "collapsed": false,
    "execution": {
     "iopub.execute_input": "2023-10-19T18:42:17.881542Z",
     "iopub.status.busy": "2023-10-19T18:42:17.881542Z",
     "iopub.status.idle": "2023-10-19T18:42:17.897167Z",
     "shell.execute_reply": "2023-10-19T18:42:17.897167Z"
    }
   },
   "outputs": [],
   "source": [
    "BATCH_SIZE = 64\n",
    "WIDTH = 150\n",
    "HEIGHT = 150\n",
    "ROOT = os.path.join('..', '..', '..', '..')\n",
    "DS_NAME = 'data1'\n",
    "DATA_DIR = os.path.join(\n",
    "    ROOT,\n",
    "    '..',\n",
    "    DS_NAME,\n",
    "    'images_original_inception_resnet_v2_150x150_categorized')\n",
    "MODEL_NAME_BASE = 'inception_6_initial_bias_only_whole_model_trainable_and_attention_module_on_top'"
   ]
  },
  {
   "cell_type": "code",
   "execution_count": 3,
   "metadata": {
    "collapsed": false,
    "execution": {
     "iopub.execute_input": "2023-10-19T18:42:17.897167Z",
     "iopub.status.busy": "2023-10-19T18:42:17.897167Z",
     "iopub.status.idle": "2023-10-19T18:42:18.618982Z",
     "shell.execute_reply": "2023-10-19T18:42:18.618982Z"
    }
   },
   "outputs": [],
   "source": [
    "METRICS = [\n",
    "    keras.metrics.CategoricalCrossentropy(name='categorical cross entropy'),\n",
    "    keras.metrics.MeanSquaredError(name='mean squared error'),\n",
    "    keras.metrics.CategoricalAccuracy(name='accuracy'),\n",
    "    keras.metrics.AUC(name='auc', multi_label=True),\n",
    "    keras.metrics.AUC(name='prc', curve='PR', multi_label=True)\n",
    "]"
   ]
  },
  {
   "cell_type": "code",
   "execution_count": 4,
   "metadata": {
    "collapsed": false,
    "execution": {
     "iopub.execute_input": "2023-10-19T18:42:18.620517Z",
     "iopub.status.busy": "2023-10-19T18:42:18.620517Z",
     "iopub.status.idle": "2023-10-19T18:42:18.635023Z",
     "shell.execute_reply": "2023-10-19T18:42:18.635023Z"
    }
   },
   "outputs": [],
   "source": [
    "train_ds_dir = os.path.join(DATA_DIR, 'training')\n",
    "class_dirs = [\n",
    "    os.path.join(train_ds_dir, class_dir)\n",
    "    for class_dir in os.listdir(train_ds_dir)\n",
    "    if os.path.isdir(os.path.join(train_ds_dir, class_dir))]\n",
    "class_counts = [len(os.listdir(class_dir)) for class_dir in class_dirs]\n",
    "total_samples = np.sum(class_counts)\n",
    "initial_biases = np.log(class_counts / (total_samples - class_counts))"
   ]
  },
  {
   "cell_type": "code",
   "execution_count": null,
   "metadata": {
    "collapsed": false,
    "execution": {
     "iopub.execute_input": "2023-10-19T18:42:18.635023Z",
     "iopub.status.busy": "2023-10-19T18:42:18.635023Z",
     "iopub.status.idle": "2023-10-19T19:51:04.295756Z",
     "shell.execute_reply": "2023-10-19T19:51:04.295756Z"
    },
    "pycharm": {
     "is_executing": true
    }
   },
   "outputs": [],
   "source": [
    "_, history = run_model(\n",
    "    ROOT,\n",
    "    HEIGHT,\n",
    "    WIDTH,\n",
    "    DATA_DIR,\n",
    "    DS_NAME,\n",
    "    MODEL_NAME_BASE,\n",
    "    lambda num_classes:\n",
    "        lambda: get_model_with_attention(\n",
    "            HEIGHT,\n",
    "            WIDTH,\n",
    "            num_classes,\n",
    "            metrics=METRICS,\n",
    "            biases=keras.initializers.Constant(initial_biases)),\n",
    "    get_augmentation_layers,\n",
    "    batch_size=BATCH_SIZE,\n",
    "    stopping_patience=20)"
   ]
  }
 ],
 "metadata": {
  "kernelspec": {
   "display_name": "Python 3",
   "language": "python",
   "name": "python3"
  },
  "language_info": {
   "codemirror_mode": {
    "name": "ipython",
    "version": 3
   },
   "file_extension": ".py",
   "mimetype": "text/x-python",
   "name": "python",
   "nbconvert_exporter": "python",
   "pygments_lexer": "ipython3",
   "version": "3.9.16"
  }
 },
 "nbformat": 4,
 "nbformat_minor": 0
}
