{
 "cells": [
  {
   "cell_type": "code",
   "execution_count": 1,
   "metadata": {
    "collapsed": true,
    "execution": {
     "iopub.execute_input": "2023-10-13T04:48:50.285308Z",
     "iopub.status.busy": "2023-10-13T04:48:50.285308Z",
     "iopub.status.idle": "2023-10-13T04:48:53.361522Z",
     "shell.execute_reply": "2023-10-13T04:48:53.361522Z"
    }
   },
   "outputs": [],
   "source": [
    "import os\n",
    "import sys\n",
    "import numpy as np\n",
    "\n",
    "from tensorflow import keras\n",
    "\n",
    "module_path = os.path.abspath(os.path.join('..', '..', '..'))\n",
    "\n",
    "if module_path not in sys.path:\n",
    "    sys.path.append(os.path.join(module_path))\n",
    "\n",
    "from functions.augmentation import get_augmentation_layers\n",
    "from functions.loading_data import load_dataset\n",
    "from functions.class_weights import calculate_class_weight\n",
    "from functions.model_running import get_run_number, run_model\n",
    "from models.inception_resnet_v2_models import get_model_with_attention"
   ]
  },
  {
   "cell_type": "code",
   "execution_count": 2,
   "metadata": {
    "collapsed": false,
    "execution": {
     "iopub.execute_input": "2023-10-13T04:48:53.361522Z",
     "iopub.status.busy": "2023-10-13T04:48:53.361522Z",
     "iopub.status.idle": "2023-10-13T04:48:53.377146Z",
     "shell.execute_reply": "2023-10-13T04:48:53.377146Z"
    }
   },
   "outputs": [],
   "source": [
    "WIDTH = 150\n",
    "HEIGHT = 150\n",
    "ROOT = os.path.join('..', '..', '..', '..')\n",
    "DS_NAME = 'data1'\n",
    "DATA_DIR = os.path.join(\n",
    "    ROOT,\n",
    "    '..',\n",
    "    DS_NAME,\n",
    "    'images_original_inception_resnet_v2_150x150_categorized')\n",
    "MODEL_NAME_BASE = 'inception_10_class_weight_and_bias_whole_model_trainable_with_attention_module_on_top'"
   ]
  },
  {
   "cell_type": "code",
   "execution_count": 3,
   "metadata": {
    "collapsed": false,
    "execution": {
     "iopub.execute_input": "2023-10-13T04:48:53.377146Z",
     "iopub.status.busy": "2023-10-13T04:48:53.377146Z",
     "iopub.status.idle": "2023-10-13T04:48:55.887807Z",
     "shell.execute_reply": "2023-10-13T04:48:55.887807Z"
    }
   },
   "outputs": [
    {
     "name": "stdout",
     "output_type": "stream",
     "text": [
      "Found 8015 files belonging to 7 classes.\n"
     ]
    }
   ],
   "source": [
    "BATCH_SIZE = 64\n",
    "dataset = load_dataset(HEIGHT, WIDTH, DATA_DIR, 'training', BATCH_SIZE)\n",
    "class_weight = calculate_class_weight(dataset, .6)"
   ]
  },
  {
   "cell_type": "code",
   "execution_count": 4,
   "metadata": {
    "collapsed": false,
    "execution": {
     "iopub.execute_input": "2023-10-13T04:48:55.887807Z",
     "iopub.status.busy": "2023-10-13T04:48:55.887807Z",
     "iopub.status.idle": "2023-10-13T04:48:55.919088Z",
     "shell.execute_reply": "2023-10-13T04:48:55.919088Z"
    }
   },
   "outputs": [],
   "source": [
    "METRICS = [\n",
    "    keras.metrics.CategoricalCrossentropy(name='categorical cross entropy'),\n",
    "    keras.metrics.MeanSquaredError(name='mean squared error'),\n",
    "    keras.metrics.CategoricalAccuracy(name='accuracy'),\n",
    "    keras.metrics.AUC(name='auc', multi_label=True),\n",
    "    keras.metrics.AUC(name='prc', curve='PR', multi_label=True)\n",
    "]"
   ]
  },
  {
   "cell_type": "code",
   "execution_count": 5,
   "metadata": {
    "collapsed": false,
    "execution": {
     "iopub.execute_input": "2023-10-13T04:48:55.919088Z",
     "iopub.status.busy": "2023-10-13T04:48:55.919088Z",
     "iopub.status.idle": "2023-10-13T04:48:55.950816Z",
     "shell.execute_reply": "2023-10-13T04:48:55.950816Z"
    }
   },
   "outputs": [],
   "source": [
    "train_ds_dir = os.path.join(DATA_DIR, 'training')\n",
    "class_dirs = [\n",
    "    os.path.join(train_ds_dir, class_dir)\n",
    "    for class_dir in os.listdir(train_ds_dir)\n",
    "    if os.path.isdir(os.path.join(train_ds_dir, class_dir))]\n",
    "class_counts = [len(os.listdir(class_dir)) for class_dir in class_dirs]\n",
    "total_samples = np.sum(class_counts)\n",
    "initial_biases = np.log(class_counts / (total_samples - class_counts))"
   ]
  },
  {
   "cell_type": "code",
   "execution_count": null,
   "metadata": {
    "collapsed": false,
    "execution": {
     "iopub.execute_input": "2023-10-13T04:48:55.950816Z",
     "iopub.status.busy": "2023-10-13T04:48:55.950816Z",
     "iopub.status.idle": "2023-10-13T05:36:26.918309Z",
     "shell.execute_reply": "2023-10-13T05:36:26.917231Z"
    },
    "pycharm": {
     "is_executing": true
    }
   },
   "outputs": [],
   "source": [
    "_, history = run_model(\n",
    "    ROOT,\n",
    "    HEIGHT,\n",
    "    WIDTH,\n",
    "    DATA_DIR,\n",
    "    DS_NAME,\n",
    "    MODEL_NAME_BASE,\n",
    "    lambda num_classes:\n",
    "        lambda: get_model_with_attention(\n",
    "            HEIGHT,\n",
    "            WIDTH,\n",
    "            num_classes,\n",
    "            metrics=METRICS,\n",
    "            biases=keras.initializers.Constant(initial_biases)),\n",
    "    get_augmentation_layers,\n",
    "    batch_size=BATCH_SIZE,\n",
    "    train_dataset=dataset,\n",
    "    class_weight=class_weight,\n",
    "    stopping_patience=20)"
   ]
  },
  {
   "cell_type": "code",
   "execution_count": null,
   "metadata": {
    "collapsed": false
   },
   "outputs": [],
   "source": []
  }
 ],
 "metadata": {
  "kernelspec": {
   "display_name": "Python 3",
   "language": "python",
   "name": "python3"
  },
  "language_info": {
   "codemirror_mode": {
    "name": "ipython",
    "version": 3
   },
   "file_extension": ".py",
   "mimetype": "text/x-python",
   "name": "python",
   "nbconvert_exporter": "python",
   "pygments_lexer": "ipython3",
   "version": "3.9.16"
  }
 },
 "nbformat": 4,
 "nbformat_minor": 0
}
