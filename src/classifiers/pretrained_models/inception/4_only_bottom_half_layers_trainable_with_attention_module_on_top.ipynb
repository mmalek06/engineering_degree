{
 "cells": [
  {
   "cell_type": "code",
   "execution_count": 1,
   "metadata": {
    "collapsed": true,
    "execution": {
     "iopub.execute_input": "2023-10-26T19:09:56.918892Z",
     "iopub.status.busy": "2023-10-26T19:09:56.918892Z",
     "iopub.status.idle": "2023-10-26T19:09:59.963014Z",
     "shell.execute_reply": "2023-10-26T19:09:59.963014Z"
    }
   },
   "outputs": [],
   "source": [
    "import os\n",
    "import sys\n",
    "\n",
    "module_path = os.path.abspath(os.path.join('..', '..', '..'))\n",
    "\n",
    "if module_path not in sys.path:\n",
    "    sys.path.append(os.path.join(module_path))\n",
    "\n",
    "from functions.augmentation import get_augmentation_layers\n",
    "from functions.model_running import get_run_number, run_model\n",
    "from models.inception_resnet_v2_models import get_model_with_attention"
   ]
  },
  {
   "cell_type": "code",
   "execution_count": 2,
   "metadata": {
    "collapsed": false,
    "execution": {
     "iopub.execute_input": "2023-10-26T19:09:59.963014Z",
     "iopub.status.busy": "2023-10-26T19:09:59.963014Z",
     "iopub.status.idle": "2023-10-26T19:09:59.978638Z",
     "shell.execute_reply": "2023-10-26T19:09:59.978638Z"
    }
   },
   "outputs": [],
   "source": [
    "WIDTH = 150\n",
    "HEIGHT = 150\n",
    "ROOT = os.path.join('..', '..', '..', '..')\n",
    "DS_NAME = 'data1'\n",
    "DATA_DIR = os.path.join(\n",
    "    ROOT,\n",
    "    '..',\n",
    "    DS_NAME,\n",
    "    'images_original_inception_resnet_v2_150x150_categorized')\n",
    "MODEL_NAME_BASE = 'inception_4_only_bottom_half_layers_trainable_with_attention_module_on_top'"
   ]
  },
  {
   "cell_type": "code",
   "execution_count": null,
   "metadata": {
    "collapsed": false,
    "execution": {
     "iopub.execute_input": "2023-10-26T19:09:59.978638Z",
     "iopub.status.busy": "2023-10-26T19:09:59.978638Z",
     "iopub.status.idle": "2023-10-26T20:17:11.528002Z",
     "shell.execute_reply": "2023-10-26T20:17:11.528002Z"
    },
    "pycharm": {
     "is_executing": true
    }
   },
   "outputs": [],
   "source": [
    "run_model(\n",
    "    ROOT,\n",
    "    HEIGHT,\n",
    "    WIDTH,\n",
    "    DATA_DIR,\n",
    "    DS_NAME,\n",
    "    MODEL_NAME_BASE,\n",
    "    lambda num_classes: lambda: get_model_with_attention(HEIGHT, WIDTH, num_classes),\n",
    "    get_augmentation_layers)"
   ]
  }
 ],
 "metadata": {
  "kernelspec": {
   "display_name": "Python 3",
   "language": "python",
   "name": "python3"
  },
  "language_info": {
   "codemirror_mode": {
    "name": "ipython",
    "version": 3
   },
   "file_extension": ".py",
   "mimetype": "text/x-python",
   "name": "python",
   "nbconvert_exporter": "python",
   "pygments_lexer": "ipython3",
   "version": "3.9.16"
  }
 },
 "nbformat": 4,
 "nbformat_minor": 0
}
