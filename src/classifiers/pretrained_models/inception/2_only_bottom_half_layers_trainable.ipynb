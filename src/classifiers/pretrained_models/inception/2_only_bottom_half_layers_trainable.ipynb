{
 "cells": [
  {
   "cell_type": "code",
   "execution_count": 1,
   "metadata": {
    "collapsed": true,
    "execution": {
     "iopub.execute_input": "2023-10-15T12:29:58.344200Z",
     "iopub.status.busy": "2023-10-15T12:29:58.344200Z",
     "iopub.status.idle": "2023-10-15T12:30:05.657384Z",
     "shell.execute_reply": "2023-10-15T12:30:05.657384Z"
    }
   },
   "outputs": [],
   "source": [
    "import os\n",
    "import sys\n",
    "\n",
    "module_path = os.path.abspath(os.path.join('..', '..', '..'))\n",
    "\n",
    "if module_path not in sys.path:\n",
    "    sys.path.append(os.path.join(module_path))\n",
    "\n",
    "from functions.augmentation import get_augmentation_layers\n",
    "from functions.model_running import get_run_number, run_model\n",
    "from models.inception_resnet_v2_models import get_model_partly_frozen"
   ]
  },
  {
   "cell_type": "code",
   "execution_count": 2,
   "metadata": {
    "collapsed": false,
    "execution": {
     "iopub.execute_input": "2023-10-15T12:30:05.657384Z",
     "iopub.status.busy": "2023-10-15T12:30:05.657384Z",
     "iopub.status.idle": "2023-10-15T12:30:05.673011Z",
     "shell.execute_reply": "2023-10-15T12:30:05.673011Z"
    }
   },
   "outputs": [],
   "source": [
    "WIDTH = 150\n",
    "HEIGHT = 150\n",
    "ROOT = os.path.join('..', '..', '..', '..')\n",
    "DS_NAME = 'data1'\n",
    "DATA_DIR = os.path.join(\n",
    "    ROOT,\n",
    "    '..',\n",
    "    DS_NAME,\n",
    "    'images_original_inception_resnet_v2_150x150_categorized')\n",
    "MODEL_NAME_BASE = 'inception_2_only_bottom_half_layers_trainable'"
   ]
  },
  {
   "cell_type": "code",
   "execution_count": null,
   "metadata": {
    "collapsed": false,
    "execution": {
     "iopub.execute_input": "2023-10-15T12:30:05.673011Z",
     "iopub.status.busy": "2023-10-15T12:30:05.673011Z",
     "iopub.status.idle": "2023-10-15T13:26:13.155664Z",
     "shell.execute_reply": "2023-10-15T13:26:13.155664Z"
    },
    "pycharm": {
     "is_executing": true
    }
   },
   "outputs": [],
   "source": [
    "run_model(\n",
    "    ROOT,\n",
    "    HEIGHT,\n",
    "    WIDTH,\n",
    "    DATA_DIR,\n",
    "    DS_NAME,\n",
    "    MODEL_NAME_BASE,\n",
    "    lambda num_classes: lambda: get_model_partly_frozen(HEIGHT, WIDTH, num_classes),\n",
    "    get_augmentation_layers)"
   ]
  }
 ],
 "metadata": {
  "kernelspec": {
   "display_name": "Python 3",
   "language": "python",
   "name": "python3"
  },
  "language_info": {
   "codemirror_mode": {
    "name": "ipython",
    "version": 3
   },
   "file_extension": ".py",
   "mimetype": "text/x-python",
   "name": "python",
   "nbconvert_exporter": "python",
   "pygments_lexer": "ipython3",
   "version": "3.9.16"
  }
 },
 "nbformat": 4,
 "nbformat_minor": 0
}
