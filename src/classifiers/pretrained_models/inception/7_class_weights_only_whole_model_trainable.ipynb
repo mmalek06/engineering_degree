{
 "cells": [
  {
   "cell_type": "code",
   "execution_count": null,
   "metadata": {
    "collapsed": true
   },
   "outputs": [],
   "source": [
    "import os\n",
    "import sys\n",
    "import numpy as np\n",
    "\n",
    "from tensorflow import keras\n",
    "\n",
    "module_path = os.path.abspath(os.path.join('..', '..', '..'))\n",
    "\n",
    "if module_path not in sys.path:\n",
    "    sys.path.append(os.path.join(module_path))\n",
    "\n",
    "from functions.augmentation import get_augmentation_layers\n",
    "from functions.loading_data import load_dataset\n",
    "from functions.class_weights import calculate_class_weight\n",
    "from functions.model_running import get_run_number, run_model\n",
    "from models.inception_resnet_v2_models import get_basic_model"
   ]
  },
  {
   "cell_type": "code",
   "execution_count": null,
   "outputs": [],
   "source": [
    "WIDTH = 150\n",
    "HEIGHT = 150\n",
    "ROOT = os.path.join('..', '..', '..', '..')\n",
    "DS_NAME = 'data1'\n",
    "DATA_DIR = os.path.join(\n",
    "    ROOT,\n",
    "    '..',\n",
    "    DS_NAME,\n",
    "    'images_original_inception_resnet_v2_150x150_categorized')\n",
    "MODEL_NAME_BASE = '7_class_weights_only_whole_model_trainable'"
   ],
   "metadata": {
    "collapsed": false
   }
  },
  {
   "cell_type": "code",
   "execution_count": null,
   "outputs": [],
   "source": [
    "BATCH_SIZE = 64\n",
    "dataset = load_dataset(HEIGHT, WIDTH, DATA_DIR, 'training', BATCH_SIZE)\n",
    "class_weight = calculate_class_weight(dataset, .6)"
   ],
   "metadata": {
    "collapsed": false
   }
  },
  {
   "cell_type": "code",
   "execution_count": null,
   "outputs": [],
   "source": [
    "METRICS = [\n",
    "    keras.metrics.CategoricalCrossentropy(name='categorical cross entropy'),\n",
    "    keras.metrics.MeanSquaredError(name='mean squared error'),\n",
    "    keras.metrics.CategoricalAccuracy(name='accuracy'),\n",
    "    keras.metrics.AUC(name='auc', multi_label=True),\n",
    "    keras.metrics.AUC(name='prc', curve='PR', multi_label=True)\n",
    "]"
   ],
   "metadata": {
    "collapsed": false
   }
  },
  {
   "cell_type": "code",
   "execution_count": null,
   "outputs": [],
   "source": [
    "_, history = run_model(\n",
    "    ROOT,\n",
    "    HEIGHT,\n",
    "    WIDTH,\n",
    "    DATA_DIR,\n",
    "    DS_NAME,\n",
    "    MODEL_NAME_BASE,\n",
    "    lambda num_classes:\n",
    "        lambda: get_basic_model(\n",
    "            HEIGHT,\n",
    "            WIDTH,\n",
    "            num_classes,\n",
    "            metrics=METRICS),\n",
    "    get_augmentation_layers,\n",
    "    batch_size=BATCH_SIZE,\n",
    "    class_weight=class_weight,\n",
    "    stopping_patience=20)"
   ],
   "metadata": {
    "collapsed": false
   }
  }
 ],
 "metadata": {
  "kernelspec": {
   "display_name": "Python 3",
   "language": "python",
   "name": "python3"
  },
  "language_info": {
   "codemirror_mode": {
    "name": "ipython",
    "version": 2
   },
   "file_extension": ".py",
   "mimetype": "text/x-python",
   "name": "python",
   "nbconvert_exporter": "python",
   "pygments_lexer": "ipython2",
   "version": "2.7.6"
  }
 },
 "nbformat": 4,
 "nbformat_minor": 0
}
