{
 "cells": [
  {
   "cell_type": "code",
   "execution_count": null,
   "metadata": {
    "collapsed": true
   },
   "outputs": [],
   "source": [
    "import os\n",
    "import sys\n",
    "\n",
    "module_path = os.path.abspath(os.path.join('..', '..', '..'))\n",
    "\n",
    "if module_path not in sys.path:\n",
    "    sys.path.append(os.path.join(module_path))\n",
    "\n",
    "from functions.augmentation import get_augmentation_layers\n",
    "from functions.loading_data import load_dataset, prepare_train_dataset, prepare_valid_dataset\n",
    "from functions.model_initialization import calculate_initial_biases\n",
    "from functions.model_running import \\\n",
    "    run_model, \\\n",
    "    get_run_number, \\\n",
    "    increment_run_number,\\\n",
    "    preserve_best_runs\n",
    "from functions.plotting import plot_single_output_history\n",
    "from models.inception_resnet_v2_models import get_model_partly_frozen\n",
    "\n",
    "WIDTH = 150\n",
    "HEIGHT = 150"
   ]
  },
  {
   "cell_type": "code",
   "execution_count": null,
   "outputs": [],
   "source": [
    "data_dir = os.path.join(\n",
    "    '..',\n",
    "    '..',\n",
    "    '..',\n",
    "    '..',\n",
    "    '..',\n",
    "    'data2',\n",
    "    'images_original_inception_resnet_v2_150x150_categorized_no_test')\n",
    "train_dataset = load_dataset(HEIGHT, WIDTH, data_dir, 'training')\n",
    "valid_dataset = load_dataset(HEIGHT, WIDTH, data_dir, 'validation')"
   ],
   "metadata": {
    "collapsed": false
   }
  },
  {
   "cell_type": "code",
   "execution_count": null,
   "outputs": [],
   "source": [
    "MODEL_NAME_BASE = 'inception_dealing_with_imbalance_bias_only_2_only_bottom_half_layers_trainable'\n",
    "num_classes = len(train_dataset.class_names)\n",
    "run_number = get_run_number(MODEL_NAME_BASE)"
   ],
   "metadata": {
    "collapsed": false
   }
  },
  {
   "cell_type": "code",
   "execution_count": null,
   "outputs": [],
   "source": [
    "data_augmentation = get_augmentation_layers()\n",
    "train_dataset = prepare_train_dataset(train_dataset, data_augmentation)\n",
    "valid_dataset = prepare_valid_dataset(valid_dataset)"
   ],
   "metadata": {
    "collapsed": false
   }
  },
  {
   "cell_type": "code",
   "execution_count": null,
   "outputs": [],
   "source": [
    "model_name = f'{MODEL_NAME_BASE}_{run_number}'\n",
    "history = run_model(\n",
    "    train_dataset,\n",
    "    valid_dataset,\n",
    "    lambda: get_model_partly_frozen(HEIGHT, WIDTH, num_classes),\n",
    "    os.path.join('..', '..', '..', '..', 'tmp_models', model_name + '_{epoch}'),\n",
    "    os.path.join('..', '..', '..', '..', 'tensor_logs', model_name),\n",
    "    reduction_patience=10,\n",
    "    stopping_patience=20)"
   ],
   "metadata": {
    "collapsed": false
   }
  },
  {
   "cell_type": "code",
   "execution_count": null,
   "outputs": [],
   "source": [
    "increment_run_number(MODEL_NAME_BASE)\n",
    "preserve_best_runs(\n",
    "    os.path.join('..', '..', '..', '..', 'tmp_models'),\n",
    "    os.path.join('..', '..', '..', '..', 'models'))\n",
    "plot_single_output_history(history.history)"
   ],
   "metadata": {
    "collapsed": false
   }
  }
 ],
 "metadata": {
  "kernelspec": {
   "display_name": "Python 3",
   "language": "python",
   "name": "python3"
  },
  "language_info": {
   "codemirror_mode": {
    "name": "ipython",
    "version": 2
   },
   "file_extension": ".py",
   "mimetype": "text/x-python",
   "name": "python",
   "nbconvert_exporter": "python",
   "pygments_lexer": "ipython2",
   "version": "2.7.6"
  }
 },
 "nbformat": 4,
 "nbformat_minor": 0
}
