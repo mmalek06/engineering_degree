{
 "cells": [
  {
   "cell_type": "code",
   "execution_count": 88,
   "metadata": {
    "collapsed": true
   },
   "outputs": [],
   "source": [
    "import os\n",
    "import numpy as np\n",
    "\n",
    "from sklearn.model_selection import GridSearchCV\n",
    "from sklearn.neighbors import KNeighborsClassifier\n",
    "from sklearn.decomposition import PCA\n",
    "from sklearn.metrics import accuracy_score\n",
    "from sklearn.pipeline import Pipeline\n",
    "\n",
    "from tools.functions import load_images_from_folder"
   ]
  },
  {
   "cell_type": "code",
   "execution_count": 89,
   "outputs": [],
   "source": [
    "ROOT = os.path.join('..', '..', '..')\n",
    "DS_NAME = 'data1'\n",
    "DATA_DIR = os.path.join(\n",
    "    ROOT,\n",
    "    '..',\n",
    "    DS_NAME,\n",
    "    'images_original_inception_resnet_v2_150x150_categorized')\n",
    "TRAINING_DIR = os.path.join(DATA_DIR, 'training')\n",
    "VALIDATION_DIR = os.path.join(DATA_DIR, 'validation')\n",
    "X_train, y_train = load_images_from_folder(TRAINING_DIR, 200)\n",
    "X_test, y_test = load_images_from_folder(VALIDATION_DIR)"
   ],
   "metadata": {
    "collapsed": false
   }
  },
  {
   "cell_type": "code",
   "execution_count": 90,
   "outputs": [
    {
     "name": "stdout",
     "output_type": "stream",
     "text": [
      "Accuracy: 0.40891472868217055\n"
     ]
    }
   ],
   "source": [
    "neighbors = np.max(y_train)\n",
    "knn = KNeighborsClassifier(n_neighbors=neighbors)\n",
    "knn.fit(X_train, y_train)\n",
    "\n",
    "y_pred = knn.predict(X_test)\n",
    "\n",
    "print(f\"Accuracy: {accuracy_score(y_test, y_pred)}\")"
   ],
   "metadata": {
    "collapsed": false
   }
  },
  {
   "cell_type": "code",
   "execution_count": null,
   "outputs": [],
   "source": [
    "pipe = Pipeline([\n",
    "    ('reduce_dim', 'passthrough'),\n",
    "    ('classify', KNeighborsClassifier(n_neighbors=neighbors))\n",
    "])\n",
    "param_grid = [\n",
    "    {\n",
    "        'reduce_dim': [PCA()],\n",
    "        'reduce_dim__n_components': [2, 5, 10, 20, 30],\n",
    "        'reduce_dim__whiten': [True, False]\n",
    "    }\n",
    "]\n",
    "grid = GridSearchCV(pipe, cv=5, param_grid=param_grid, verbose=2)\n",
    "grid.fit(X_train, y_train)"
   ],
   "metadata": {
    "collapsed": false,
    "pycharm": {
     "is_executing": true
    }
   }
  },
  {
   "cell_type": "code",
   "execution_count": 94,
   "outputs": [
    {
     "name": "stdout",
     "output_type": "stream",
     "text": [
      "Accuracy: 0.4263565891472868\n",
      "{'reduce_dim': PCA(n_components=20), 'reduce_dim__n_components': 20, 'reduce_dim__whiten': False}\n"
     ]
    }
   ],
   "source": [
    "best_model = grid.best_estimator_\n",
    "y_pred = best_model.predict(X_test)\n",
    "\n",
    "print(f\"Accuracy: {accuracy_score(y_test, y_pred)}\")\n",
    "print(grid.best_params_)"
   ],
   "metadata": {
    "collapsed": false
   }
  },
  {
   "cell_type": "code",
   "execution_count": null,
   "outputs": [],
   "source": [],
   "metadata": {
    "collapsed": false
   }
  }
 ],
 "metadata": {
  "kernelspec": {
   "display_name": "Python 3",
   "language": "python",
   "name": "python3"
  },
  "language_info": {
   "codemirror_mode": {
    "name": "ipython",
    "version": 2
   },
   "file_extension": ".py",
   "mimetype": "text/x-python",
   "name": "python",
   "nbconvert_exporter": "python",
   "pygments_lexer": "ipython2",
   "version": "2.7.6"
  }
 },
 "nbformat": 4,
 "nbformat_minor": 0
}
