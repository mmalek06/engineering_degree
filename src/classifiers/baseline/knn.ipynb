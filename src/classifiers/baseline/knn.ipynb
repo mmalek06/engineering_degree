{
 "cells": [
  {
   "cell_type": "code",
   "execution_count": 88,
   "metadata": {
    "collapsed": true
   },
   "outputs": [],
   "source": [
    "import os\n",
    "import numpy as np\n",
    "\n",
    "from sklearn.model_selection import GridSearchCV\n",
    "from sklearn.neighbors import KNeighborsClassifier\n",
    "from sklearn.decomposition import PCA\n",
    "from sklearn.metrics import accuracy_score\n",
    "from sklearn.pipeline import Pipeline\n",
    "\n",
    "from tools.functions import load_images_from_folder"
   ]
  },
  {
   "cell_type": "code",
   "execution_count": 89,
   "outputs": [],
   "source": [
    "ROOT = os.path.join('..', '..', '..')\n",
    "DS_NAME = 'data1'\n",
    "DATA_DIR = os.path.join(\n",
    "    ROOT,\n",
    "    '..',\n",
    "    DS_NAME,\n",
    "    'images_original_inception_resnet_v2_150x150_categorized')\n",
    "TRAINING_DIR = os.path.join(DATA_DIR, 'training')\n",
    "VALIDATION_DIR = os.path.join(DATA_DIR, 'validation')\n",
    "X_train, y_train = load_images_from_folder(TRAINING_DIR, 200)\n",
    "X_test, y_test = load_images_from_folder(VALIDATION_DIR)"
   ],
   "metadata": {
    "collapsed": false
   }
  },
  {
   "cell_type": "code",
   "execution_count": 90,
   "outputs": [
    {
     "name": "stdout",
     "output_type": "stream",
     "text": [
      "Accuracy: 0.40891472868217055\n"
     ]
    }
   ],
   "source": [
    "neighbors = np.max(y_train)\n",
    "knn = KNeighborsClassifier(n_neighbors=neighbors)\n",
    "knn.fit(X_train, y_train)\n",
    "\n",
    "y_pred = knn.predict(X_test)\n",
    "\n",
    "print(f\"Accuracy: {accuracy_score(y_test, y_pred)}\")"
   ],
   "metadata": {
    "collapsed": false
   }
  },
  {
   "cell_type": "code",
   "execution_count": 93,
   "outputs": [
    {
     "name": "stdout",
     "output_type": "stream",
     "text": [
      "Fitting 5 folds for each of 5 candidates, totalling 25 fits\n",
      "[CV] END reduce_dim=PCA(), reduce_dim__n_components=2, reduce_dim__whiten=False; total time=   0.9s\n",
      "[CV] END reduce_dim=PCA(), reduce_dim__n_components=2, reduce_dim__whiten=False; total time=   0.8s\n",
      "[CV] END reduce_dim=PCA(), reduce_dim__n_components=2, reduce_dim__whiten=False; total time=   0.9s\n",
      "[CV] END reduce_dim=PCA(), reduce_dim__n_components=2, reduce_dim__whiten=False; total time=   0.9s\n",
      "[CV] END reduce_dim=PCA(), reduce_dim__n_components=2, reduce_dim__whiten=False; total time=   1.0s\n",
      "[CV] END reduce_dim=PCA(), reduce_dim__n_components=5, reduce_dim__whiten=False; total time=   1.0s\n",
      "[CV] END reduce_dim=PCA(), reduce_dim__n_components=5, reduce_dim__whiten=False; total time=   1.0s\n",
      "[CV] END reduce_dim=PCA(), reduce_dim__n_components=5, reduce_dim__whiten=False; total time=   0.9s\n",
      "[CV] END reduce_dim=PCA(), reduce_dim__n_components=5, reduce_dim__whiten=False; total time=   0.9s\n",
      "[CV] END reduce_dim=PCA(), reduce_dim__n_components=5, reduce_dim__whiten=False; total time=   0.9s\n",
      "[CV] END reduce_dim=PCA(), reduce_dim__n_components=10, reduce_dim__whiten=False; total time=   1.0s\n",
      "[CV] END reduce_dim=PCA(), reduce_dim__n_components=10, reduce_dim__whiten=False; total time=   1.0s\n",
      "[CV] END reduce_dim=PCA(), reduce_dim__n_components=10, reduce_dim__whiten=False; total time=   1.1s\n",
      "[CV] END reduce_dim=PCA(), reduce_dim__n_components=10, reduce_dim__whiten=False; total time=   1.1s\n",
      "[CV] END reduce_dim=PCA(), reduce_dim__n_components=10, reduce_dim__whiten=False; total time=   1.0s\n",
      "[CV] END reduce_dim=PCA(), reduce_dim__n_components=20, reduce_dim__whiten=False; total time=   1.3s\n",
      "[CV] END reduce_dim=PCA(), reduce_dim__n_components=20, reduce_dim__whiten=False; total time=   1.3s\n",
      "[CV] END reduce_dim=PCA(), reduce_dim__n_components=20, reduce_dim__whiten=False; total time=   1.3s\n",
      "[CV] END reduce_dim=PCA(), reduce_dim__n_components=20, reduce_dim__whiten=False; total time=   1.3s\n",
      "[CV] END reduce_dim=PCA(), reduce_dim__n_components=20, reduce_dim__whiten=False; total time=   1.3s\n",
      "[CV] END reduce_dim=PCA(), reduce_dim__n_components=30, reduce_dim__whiten=False; total time=   1.4s\n",
      "[CV] END reduce_dim=PCA(), reduce_dim__n_components=30, reduce_dim__whiten=False; total time=   1.3s\n",
      "[CV] END reduce_dim=PCA(), reduce_dim__n_components=30, reduce_dim__whiten=False; total time=   1.3s\n",
      "[CV] END reduce_dim=PCA(), reduce_dim__n_components=30, reduce_dim__whiten=False; total time=   1.3s\n",
      "[CV] END reduce_dim=PCA(), reduce_dim__n_components=30, reduce_dim__whiten=False; total time=   1.4s\n"
     ]
    },
    {
     "data": {
      "text/plain": "GridSearchCV(cv=5,\n             estimator=Pipeline(steps=[('reduce_dim', 'passthrough'),\n                                       ('classify',\n                                        KNeighborsClassifier(n_neighbors=6))]),\n             param_grid=[{'reduce_dim': [PCA(n_components=20)],\n                          'reduce_dim__n_components': [2, 5, 10, 20, 30],\n                          'reduce_dim__whiten': [False]}],\n             verbose=2)",
      "text/html": "<style>#sk-container-id-9 {color: black;background-color: white;}#sk-container-id-9 pre{padding: 0;}#sk-container-id-9 div.sk-toggleable {background-color: white;}#sk-container-id-9 label.sk-toggleable__label {cursor: pointer;display: block;width: 100%;margin-bottom: 0;padding: 0.3em;box-sizing: border-box;text-align: center;}#sk-container-id-9 label.sk-toggleable__label-arrow:before {content: \"▸\";float: left;margin-right: 0.25em;color: #696969;}#sk-container-id-9 label.sk-toggleable__label-arrow:hover:before {color: black;}#sk-container-id-9 div.sk-estimator:hover label.sk-toggleable__label-arrow:before {color: black;}#sk-container-id-9 div.sk-toggleable__content {max-height: 0;max-width: 0;overflow: hidden;text-align: left;background-color: #f0f8ff;}#sk-container-id-9 div.sk-toggleable__content pre {margin: 0.2em;color: black;border-radius: 0.25em;background-color: #f0f8ff;}#sk-container-id-9 input.sk-toggleable__control:checked~div.sk-toggleable__content {max-height: 200px;max-width: 100%;overflow: auto;}#sk-container-id-9 input.sk-toggleable__control:checked~label.sk-toggleable__label-arrow:before {content: \"▾\";}#sk-container-id-9 div.sk-estimator input.sk-toggleable__control:checked~label.sk-toggleable__label {background-color: #d4ebff;}#sk-container-id-9 div.sk-label input.sk-toggleable__control:checked~label.sk-toggleable__label {background-color: #d4ebff;}#sk-container-id-9 input.sk-hidden--visually {border: 0;clip: rect(1px 1px 1px 1px);clip: rect(1px, 1px, 1px, 1px);height: 1px;margin: -1px;overflow: hidden;padding: 0;position: absolute;width: 1px;}#sk-container-id-9 div.sk-estimator {font-family: monospace;background-color: #f0f8ff;border: 1px dotted black;border-radius: 0.25em;box-sizing: border-box;margin-bottom: 0.5em;}#sk-container-id-9 div.sk-estimator:hover {background-color: #d4ebff;}#sk-container-id-9 div.sk-parallel-item::after {content: \"\";width: 100%;border-bottom: 1px solid gray;flex-grow: 1;}#sk-container-id-9 div.sk-label:hover label.sk-toggleable__label {background-color: #d4ebff;}#sk-container-id-9 div.sk-serial::before {content: \"\";position: absolute;border-left: 1px solid gray;box-sizing: border-box;top: 0;bottom: 0;left: 50%;z-index: 0;}#sk-container-id-9 div.sk-serial {display: flex;flex-direction: column;align-items: center;background-color: white;padding-right: 0.2em;padding-left: 0.2em;position: relative;}#sk-container-id-9 div.sk-item {position: relative;z-index: 1;}#sk-container-id-9 div.sk-parallel {display: flex;align-items: stretch;justify-content: center;background-color: white;position: relative;}#sk-container-id-9 div.sk-item::before, #sk-container-id-9 div.sk-parallel-item::before {content: \"\";position: absolute;border-left: 1px solid gray;box-sizing: border-box;top: 0;bottom: 0;left: 50%;z-index: -1;}#sk-container-id-9 div.sk-parallel-item {display: flex;flex-direction: column;z-index: 1;position: relative;background-color: white;}#sk-container-id-9 div.sk-parallel-item:first-child::after {align-self: flex-end;width: 50%;}#sk-container-id-9 div.sk-parallel-item:last-child::after {align-self: flex-start;width: 50%;}#sk-container-id-9 div.sk-parallel-item:only-child::after {width: 0;}#sk-container-id-9 div.sk-dashed-wrapped {border: 1px dashed gray;margin: 0 0.4em 0.5em 0.4em;box-sizing: border-box;padding-bottom: 0.4em;background-color: white;}#sk-container-id-9 div.sk-label label {font-family: monospace;font-weight: bold;display: inline-block;line-height: 1.2em;}#sk-container-id-9 div.sk-label-container {text-align: center;}#sk-container-id-9 div.sk-container {/* jupyter's `normalize.less` sets `[hidden] { display: none; }` but bootstrap.min.css set `[hidden] { display: none !important; }` so we also need the `!important` here to be able to override the default hidden behavior on the sphinx rendered scikit-learn.org. See: https://github.com/scikit-learn/scikit-learn/issues/21755 */display: inline-block !important;position: relative;}#sk-container-id-9 div.sk-text-repr-fallback {display: none;}</style><div id=\"sk-container-id-9\" class=\"sk-top-container\"><div class=\"sk-text-repr-fallback\"><pre>GridSearchCV(cv=5,\n             estimator=Pipeline(steps=[(&#x27;reduce_dim&#x27;, &#x27;passthrough&#x27;),\n                                       (&#x27;classify&#x27;,\n                                        KNeighborsClassifier(n_neighbors=6))]),\n             param_grid=[{&#x27;reduce_dim&#x27;: [PCA(n_components=20)],\n                          &#x27;reduce_dim__n_components&#x27;: [2, 5, 10, 20, 30],\n                          &#x27;reduce_dim__whiten&#x27;: [False]}],\n             verbose=2)</pre><b>In a Jupyter environment, please rerun this cell to show the HTML representation or trust the notebook. <br />On GitHub, the HTML representation is unable to render, please try loading this page with nbviewer.org.</b></div><div class=\"sk-container\" hidden><div class=\"sk-item sk-dashed-wrapped\"><div class=\"sk-label-container\"><div class=\"sk-label sk-toggleable\"><input class=\"sk-toggleable__control sk-hidden--visually\" id=\"sk-estimator-id-25\" type=\"checkbox\" ><label for=\"sk-estimator-id-25\" class=\"sk-toggleable__label sk-toggleable__label-arrow\">GridSearchCV</label><div class=\"sk-toggleable__content\"><pre>GridSearchCV(cv=5,\n             estimator=Pipeline(steps=[(&#x27;reduce_dim&#x27;, &#x27;passthrough&#x27;),\n                                       (&#x27;classify&#x27;,\n                                        KNeighborsClassifier(n_neighbors=6))]),\n             param_grid=[{&#x27;reduce_dim&#x27;: [PCA(n_components=20)],\n                          &#x27;reduce_dim__n_components&#x27;: [2, 5, 10, 20, 30],\n                          &#x27;reduce_dim__whiten&#x27;: [False]}],\n             verbose=2)</pre></div></div></div><div class=\"sk-parallel\"><div class=\"sk-parallel-item\"><div class=\"sk-item\"><div class=\"sk-label-container\"><div class=\"sk-label sk-toggleable\"><input class=\"sk-toggleable__control sk-hidden--visually\" id=\"sk-estimator-id-26\" type=\"checkbox\" ><label for=\"sk-estimator-id-26\" class=\"sk-toggleable__label sk-toggleable__label-arrow\">estimator: Pipeline</label><div class=\"sk-toggleable__content\"><pre>Pipeline(steps=[(&#x27;reduce_dim&#x27;, &#x27;passthrough&#x27;),\n                (&#x27;classify&#x27;, KNeighborsClassifier(n_neighbors=6))])</pre></div></div></div><div class=\"sk-serial\"><div class=\"sk-item\"><div class=\"sk-serial\"><div class=\"sk-item\"><div class=\"sk-estimator sk-toggleable\"><input class=\"sk-toggleable__control sk-hidden--visually\" id=\"sk-estimator-id-27\" type=\"checkbox\" ><label for=\"sk-estimator-id-27\" class=\"sk-toggleable__label sk-toggleable__label-arrow\">passthrough</label><div class=\"sk-toggleable__content\"><pre>passthrough</pre></div></div></div><div class=\"sk-item\"><div class=\"sk-estimator sk-toggleable\"><input class=\"sk-toggleable__control sk-hidden--visually\" id=\"sk-estimator-id-28\" type=\"checkbox\" ><label for=\"sk-estimator-id-28\" class=\"sk-toggleable__label sk-toggleable__label-arrow\">KNeighborsClassifier</label><div class=\"sk-toggleable__content\"><pre>KNeighborsClassifier(n_neighbors=6)</pre></div></div></div></div></div></div></div></div></div></div></div></div>"
     },
     "execution_count": 93,
     "metadata": {},
     "output_type": "execute_result"
    }
   ],
   "source": [
    "pipe = Pipeline([\n",
    "    ('reduce_dim', 'passthrough'),\n",
    "    ('classify', KNeighborsClassifier(n_neighbors=neighbors))\n",
    "])\n",
    "param_grid = [\n",
    "    {\n",
    "        'reduce_dim': [PCA()],\n",
    "        'reduce_dim__n_components': [2, 5, 10, 20, 30],\n",
    "        'reduce_dim__whiten': [True, False]\n",
    "    }\n",
    "]\n",
    "grid = GridSearchCV(pipe, cv=5, param_grid=param_grid, verbose=2)\n",
    "grid.fit(X_train, y_train)"
   ],
   "metadata": {
    "collapsed": false
   }
  },
  {
   "cell_type": "code",
   "execution_count": 94,
   "outputs": [
    {
     "name": "stdout",
     "output_type": "stream",
     "text": [
      "Accuracy: 0.4263565891472868\n",
      "{'reduce_dim': PCA(n_components=20), 'reduce_dim__n_components': 20, 'reduce_dim__whiten': False}\n"
     ]
    }
   ],
   "source": [
    "best_model = grid.best_estimator_\n",
    "y_pred = best_model.predict(X_test)\n",
    "\n",
    "print(f\"Accuracy: {accuracy_score(y_test, y_pred)}\")\n",
    "print(grid.best_params_)"
   ],
   "metadata": {
    "collapsed": false
   }
  },
  {
   "cell_type": "code",
   "execution_count": null,
   "outputs": [],
   "source": [],
   "metadata": {
    "collapsed": false
   }
  }
 ],
 "metadata": {
  "kernelspec": {
   "display_name": "Python 3",
   "language": "python",
   "name": "python3"
  },
  "language_info": {
   "codemirror_mode": {
    "name": "ipython",
    "version": 2
   },
   "file_extension": ".py",
   "mimetype": "text/x-python",
   "name": "python",
   "nbconvert_exporter": "python",
   "pygments_lexer": "ipython2",
   "version": "2.7.6"
  }
 },
 "nbformat": 4,
 "nbformat_minor": 0
}
