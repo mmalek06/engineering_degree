{
 "cells": [
  {
   "cell_type": "code",
   "execution_count": 1,
   "metadata": {
    "collapsed": true
   },
   "outputs": [],
   "source": [
    "import os\n",
    "\n",
    "from sklearn.model_selection import GridSearchCV\n",
    "from sklearn.decomposition import PCA\n",
    "from sklearn.metrics import accuracy_score\n",
    "from sklearn.pipeline import Pipeline\n",
    "from sklearn.linear_model import SGDClassifier\n",
    "\n",
    "from tools.functions import load_images_from_folder"
   ]
  },
  {
   "cell_type": "code",
   "execution_count": 2,
   "outputs": [],
   "source": [
    "ROOT = os.path.join('..', '..', '..')\n",
    "DS_NAME = 'data1'\n",
    "DATA_DIR = os.path.join(\n",
    "    ROOT,\n",
    "    '..',\n",
    "    DS_NAME,\n",
    "    'images_original_inception_resnet_v2_150x150_categorized')\n",
    "TRAINING_DIR = os.path.join(DATA_DIR, 'training')\n",
    "VALIDATION_DIR = os.path.join(DATA_DIR, 'validation')\n",
    "X_train, y_train = load_images_from_folder(TRAINING_DIR, 100)\n",
    "X_test, y_test = load_images_from_folder(VALIDATION_DIR)"
   ],
   "metadata": {
    "collapsed": false
   }
  },
  {
   "cell_type": "code",
   "execution_count": 3,
   "outputs": [],
   "source": [
    "class PassthroughPreprocessor:\n",
    "    def __init__(self, **_):\n",
    "        self.n_components = None\n",
    "\n",
    "    def fit(self, X, y=None):\n",
    "        return self\n",
    "\n",
    "    def fit_transform(self, X, y=None):\n",
    "        return X\n",
    "\n",
    "    def transform(self, X):\n",
    "        return X\n",
    "\n",
    "    def set_params(self, **_):\n",
    "        pass\n",
    "\n",
    "    def get_params(self, **_):\n",
    "        return {}"
   ],
   "metadata": {
    "collapsed": false
   }
  },
  {
   "cell_type": "code",
   "execution_count": null,
   "outputs": [],
   "source": [
    "pipe = Pipeline([\n",
    "    ('reduce_dim', 'passthrough'),\n",
    "    ('classify', SGDClassifier())\n",
    "])\n",
    "param_grid = [\n",
    "    {\n",
    "        'reduce_dim': [PCA()],\n",
    "        'reduce_dim__n_components': [5, 10, 20],\n",
    "        'classify__alpha': [0.0001, 0.001, 0.01, 0.1],\n",
    "        'classify__loss': ['hinge', 'log', 'modified_huber', 'squared_hinge'],\n",
    "        'classify__penalty': ['l1', 'l2', 'elasticnet'],\n",
    "        'classify__max_iter': [500, 1000]\n",
    "    }\n",
    "]\n",
    "\n",
    "grid = GridSearchCV(pipe, cv=5, n_jobs=-1, param_grid=param_grid, verbose=2)\n",
    "\n",
    "grid.fit(X_train, y_train)"
   ],
   "metadata": {
    "collapsed": false,
    "pycharm": {
     "is_executing": true
    }
   }
  },
  {
   "cell_type": "code",
   "execution_count": 6,
   "outputs": [
    {
     "name": "stdout",
     "output_type": "stream",
     "text": [
      "Accuracy: 0.36627906976744184\n",
      "{'classify__alpha': 0.0001, 'classify__loss': 'modified_huber', 'classify__max_iter': 1000, 'classify__penalty': 'l1', 'reduce_dim': <__main__.PassthroughPreprocessor object at 0x00000239AC0D9A60>, 'reduce_dim__n_components': 10}\n"
     ]
    }
   ],
   "source": [
    "best_model = grid.best_estimator_\n",
    "y_pred = best_model.predict(X_test)\n",
    "\n",
    "print(f\"Accuracy: {accuracy_score(y_test, y_pred)}\")\n",
    "print(grid.best_params_)"
   ],
   "metadata": {
    "collapsed": false
   }
  },
  {
   "cell_type": "code",
   "execution_count": null,
   "outputs": [],
   "source": [],
   "metadata": {
    "collapsed": false
   }
  }
 ],
 "metadata": {
  "kernelspec": {
   "display_name": "Python 3",
   "language": "python",
   "name": "python3"
  },
  "language_info": {
   "codemirror_mode": {
    "name": "ipython",
    "version": 2
   },
   "file_extension": ".py",
   "mimetype": "text/x-python",
   "name": "python",
   "nbconvert_exporter": "python",
   "pygments_lexer": "ipython2",
   "version": "2.7.6"
  }
 },
 "nbformat": 4,
 "nbformat_minor": 0
}
