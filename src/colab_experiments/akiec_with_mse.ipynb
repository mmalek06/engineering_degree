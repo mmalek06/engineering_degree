{
  "nbformat": 4,
  "nbformat_minor": 0,
  "metadata": {
    "colab": {
      "provenance": []
    },
    "kernelspec": {
      "name": "python3",
      "display_name": "Python 3"
    },
    "language_info": {
      "name": "python"
    }
  },
  "cells": [
    {
      "cell_type": "code",
      "execution_count": 3,
      "metadata": {
        "id": "v0KoVfRbm-wb"
      },
      "outputs": [],
      "source": [
        "import os\n",
        "import numpy as np\n",
        "import tensorflow as tf\n",
        "\n",
        "from tensorflow import keras"
      ]
    },
    {
      "cell_type": "code",
      "source": [
        "import tensorflow as tf\n",
        "\n",
        "from tensorflow import keras\n",
        "\n",
        "\n",
        "class VAE(keras.models.Model):\n",
        "    \"\"\"\n",
        "    This VAE uses MSE as a part of the loss function:\n",
        "    It is typically used for datasets where the data is continuous.\n",
        "    MSE measures the squared differences between the true and predicted values.\n",
        "    For the lesions dataset, the images likely consist of continuous pixel intensities,\n",
        "    making MSE a more appropriate choice.\n",
        "\n",
        "    Taken from: https://github.com/davidADSP/Generative_Deep_Learning_2nd_Edition/blob/main/notebooks/03_vae/03_vae_faces/vae_faces.ipynb\n",
        "    \"\"\"\n",
        "    def __init__(self, encoder: keras.models.Model, decoder: keras.models.Model, beta: int, **kwargs):\n",
        "        super(VAE, self).__init__(**kwargs)\n",
        "        self.encoder = encoder\n",
        "        self.decoder = decoder\n",
        "        self.beta = beta\n",
        "        self.total_loss_tracker = keras.metrics.Mean(name='total_loss')\n",
        "        self.reconstruction_loss_tracker = keras.metrics.Mean(name='reconstruction_loss')\n",
        "        self.kl_loss_tracker = keras.metrics.Mean(name='kl_loss')\n",
        "\n",
        "    @property\n",
        "    def metrics(self):\n",
        "        return [\n",
        "            self.total_loss_tracker,\n",
        "            self.reconstruction_loss_tracker,\n",
        "            self.kl_loss_tracker,\n",
        "        ]\n",
        "\n",
        "    def call(self, inputs):\n",
        "        z_mean, z_log_var, z = self.encoder(inputs)\n",
        "        reconstruction = self.decoder(z)\n",
        "\n",
        "        return z_mean, z_log_var, reconstruction\n",
        "\n",
        "    def train_step(self, data):\n",
        "        with tf.GradientTape() as tape:\n",
        "            z_mean, z_log_var, reconstruction = self(data, training=True)\n",
        "            reconstruction_loss = tf.reduce_mean(\n",
        "                self.beta * keras.losses.mean_squared_error(data, reconstruction))\n",
        "            kl_loss = tf.reduce_mean(\n",
        "                tf.reduce_sum(\n",
        "                    -0.5\n",
        "                    * (1 + z_log_var - tf.square(z_mean) - tf.exp(z_log_var)),\n",
        "                    axis=1))\n",
        "            total_loss = reconstruction_loss + kl_loss\n",
        "\n",
        "        grads = tape.gradient(total_loss, self.trainable_weights)\n",
        "\n",
        "        self.optimizer.apply_gradients(zip(grads, self.trainable_weights))\n",
        "        self.total_loss_tracker.update_state(total_loss)\n",
        "        self.reconstruction_loss_tracker.update_state(reconstruction_loss)\n",
        "        self.kl_loss_tracker.update_state(kl_loss)\n",
        "\n",
        "        return {\n",
        "            'loss': self.total_loss_tracker.result(),\n",
        "            'reconstruction_loss': self.reconstruction_loss_tracker.result(),\n",
        "            'kl_loss': self.kl_loss_tracker.result(),\n",
        "        }\n",
        "\n",
        "    def test_step(self, data):\n",
        "        if isinstance(data, tuple):\n",
        "            data = data[0]\n",
        "\n",
        "        z_mean, z_log_var, reconstruction = self(data)\n",
        "        reconstruction_loss = tf.reduce_mean(\n",
        "            self.beta * keras.losses.mean_squared_error(data, reconstruction))\n",
        "        kl_loss = tf.reduce_mean(\n",
        "            tf.reduce_sum(\n",
        "                -0.5 * (1 + z_log_var - tf.square(z_mean) - tf.exp(z_log_var)),\n",
        "                axis=1))\n",
        "        total_loss = reconstruction_loss + kl_loss\n",
        "\n",
        "        return {\n",
        "            'loss': total_loss,\n",
        "            'reconstruction_loss': reconstruction_loss,\n",
        "            'kl_loss': kl_loss,\n",
        "        }\n"
      ],
      "metadata": {
        "id": "jMgKS13fwq5W"
      },
      "execution_count": 4,
      "outputs": []
    },
    {
      "cell_type": "code",
      "source": [
        "WIDTH = 160\n",
        "HEIGHT = 160"
      ],
      "metadata": {
        "id": "8_-t3KQ4oQLe"
      },
      "execution_count": 1,
      "outputs": []
    },
    {
      "cell_type": "code",
      "source": [
        "data_dir = os.path.join(\n",
        "    '.',\n",
        "    'data')\n",
        "train_data = keras.utils.image_dataset_from_directory(\n",
        "    data_dir,\n",
        "    labels=None,\n",
        "    color_mode='rgb',\n",
        "    image_size=(HEIGHT, WIDTH),\n",
        "    batch_size=32,\n",
        "    shuffle=True,\n",
        "    seed=42,\n",
        "    interpolation='bilinear')"
      ],
      "metadata": {
        "colab": {
          "base_uri": "https://localhost:8080/"
        },
        "id": "ycd3yMtJoR72",
        "outputId": "07dc21bd-e7ea-4b02-bd3b-3defce5d7c3b"
      },
      "execution_count": 5,
      "outputs": [
        {
          "output_type": "stream",
          "name": "stdout",
          "text": [
            "Found 717 files belonging to 1 classes.\n"
          ]
        }
      ]
    },
    {
      "cell_type": "code",
      "source": [
        "def preprocess(img):\n",
        "    img = tf.cast(img, float) / 255.0\n",
        "\n",
        "    return img\n",
        "\n",
        "\n",
        "train = train_data.map(lambda x: preprocess(x))"
      ],
      "metadata": {
        "id": "nrC6Hzl6obSa"
      },
      "execution_count": 6,
      "outputs": []
    },
    {
      "cell_type": "code",
      "source": [
        "CHANNELS = 3\n",
        "BATCH_SIZE = 128\n",
        "NUM_FEATURES = 64\n",
        "Z_DIM = 200\n",
        "LEARNING_RATE = 0.0005\n",
        "EPOCHS = 100\n",
        "BETA = 2000\n",
        "LOAD_MODEL = False"
      ],
      "metadata": {
        "id": "CrOSshQJ0GAy"
      },
      "execution_count": 25,
      "outputs": []
    },
    {
      "cell_type": "code",
      "source": [
        "class Sampling(keras.layers.Layer):\n",
        "    def call(self, inputs):\n",
        "        z_mean, z_log_var = inputs\n",
        "        batch = tf.shape(z_mean)[0]\n",
        "        dim = tf.shape(z_mean)[1]\n",
        "        epsilon = keras.backend.random_normal(shape=(batch, dim))\n",
        "        return z_mean + tf.exp(0.5 * z_log_var) * epsilon"
      ],
      "metadata": {
        "id": "qZQckAAd0JpB"
      },
      "execution_count": 8,
      "outputs": []
    },
    {
      "cell_type": "code",
      "source": [
        "encoder_input = keras.layers.Input(\n",
        "    shape=(HEIGHT, WIDTH, CHANNELS), name=\"encoder_input\"\n",
        ")\n",
        "x = keras.layers.Conv2D(NUM_FEATURES, kernel_size=3, strides=2, padding=\"same\")(\n",
        "    encoder_input\n",
        ")\n",
        "x = keras.layers.BatchNormalization()(x)\n",
        "x = keras.layers.LeakyReLU()(x)\n",
        "x = keras.layers.Conv2D(NUM_FEATURES, kernel_size=3, strides=2, padding=\"same\")(x)\n",
        "x = keras.layers.BatchNormalization()(x)\n",
        "x = keras.layers.LeakyReLU()(x)\n",
        "x = keras.layers.Conv2D(NUM_FEATURES, kernel_size=3, strides=2, padding=\"same\")(x)\n",
        "x = keras.layers.BatchNormalization()(x)\n",
        "x = keras.layers.LeakyReLU()(x)\n",
        "x = keras.layers.Conv2D(NUM_FEATURES, kernel_size=3, strides=2, padding=\"same\")(x)\n",
        "x = keras.layers.BatchNormalization()(x)\n",
        "x = keras.layers.LeakyReLU()(x)\n",
        "x = keras.layers.Conv2D(NUM_FEATURES, kernel_size=3, strides=2, padding=\"same\")(x)\n",
        "x = keras.layers.BatchNormalization()(x)\n",
        "x = keras.layers.LeakyReLU()(x)\n",
        "shape_before_flattening = keras.backend.int_shape(x)[1:]  # the decoder will need this!\n",
        "\n",
        "x = keras.layers.Flatten()(x)\n",
        "z_mean = keras.layers.Dense(Z_DIM, name=\"z_mean\")(x)\n",
        "z_log_var = keras.layers.Dense(Z_DIM, name=\"z_log_var\")(x)\n",
        "z = Sampling()([z_mean, z_log_var])\n",
        "\n",
        "encoder = keras.models.Model(encoder_input, [z_mean, z_log_var, z], name=\"encoder\")\n",
        "encoder.summary()"
      ],
      "metadata": {
        "colab": {
          "base_uri": "https://localhost:8080/"
        },
        "id": "bB4Rerqg0KYA",
        "outputId": "3988aa57-0af7-4346-c9fc-80ca0b9d2b81"
      },
      "execution_count": 9,
      "outputs": [
        {
          "output_type": "stream",
          "name": "stdout",
          "text": [
            "Model: \"encoder\"\n",
            "__________________________________________________________________________________________________\n",
            " Layer (type)                   Output Shape         Param #     Connected to                     \n",
            "==================================================================================================\n",
            " encoder_input (InputLayer)     [(None, 160, 160, 3  0           []                               \n",
            "                                )]                                                                \n",
            "                                                                                                  \n",
            " conv2d (Conv2D)                (None, 80, 80, 64)   1792        ['encoder_input[0][0]']          \n",
            "                                                                                                  \n",
            " batch_normalization (BatchNorm  (None, 80, 80, 64)  256         ['conv2d[0][0]']                 \n",
            " alization)                                                                                       \n",
            "                                                                                                  \n",
            " leaky_re_lu (LeakyReLU)        (None, 80, 80, 64)   0           ['batch_normalization[0][0]']    \n",
            "                                                                                                  \n",
            " conv2d_1 (Conv2D)              (None, 40, 40, 64)   36928       ['leaky_re_lu[0][0]']            \n",
            "                                                                                                  \n",
            " batch_normalization_1 (BatchNo  (None, 40, 40, 64)  256         ['conv2d_1[0][0]']               \n",
            " rmalization)                                                                                     \n",
            "                                                                                                  \n",
            " leaky_re_lu_1 (LeakyReLU)      (None, 40, 40, 64)   0           ['batch_normalization_1[0][0]']  \n",
            "                                                                                                  \n",
            " conv2d_2 (Conv2D)              (None, 20, 20, 64)   36928       ['leaky_re_lu_1[0][0]']          \n",
            "                                                                                                  \n",
            " batch_normalization_2 (BatchNo  (None, 20, 20, 64)  256         ['conv2d_2[0][0]']               \n",
            " rmalization)                                                                                     \n",
            "                                                                                                  \n",
            " leaky_re_lu_2 (LeakyReLU)      (None, 20, 20, 64)   0           ['batch_normalization_2[0][0]']  \n",
            "                                                                                                  \n",
            " conv2d_3 (Conv2D)              (None, 10, 10, 64)   36928       ['leaky_re_lu_2[0][0]']          \n",
            "                                                                                                  \n",
            " batch_normalization_3 (BatchNo  (None, 10, 10, 64)  256         ['conv2d_3[0][0]']               \n",
            " rmalization)                                                                                     \n",
            "                                                                                                  \n",
            " leaky_re_lu_3 (LeakyReLU)      (None, 10, 10, 64)   0           ['batch_normalization_3[0][0]']  \n",
            "                                                                                                  \n",
            " conv2d_4 (Conv2D)              (None, 5, 5, 64)     36928       ['leaky_re_lu_3[0][0]']          \n",
            "                                                                                                  \n",
            " batch_normalization_4 (BatchNo  (None, 5, 5, 64)    256         ['conv2d_4[0][0]']               \n",
            " rmalization)                                                                                     \n",
            "                                                                                                  \n",
            " leaky_re_lu_4 (LeakyReLU)      (None, 5, 5, 64)     0           ['batch_normalization_4[0][0]']  \n",
            "                                                                                                  \n",
            " flatten (Flatten)              (None, 1600)         0           ['leaky_re_lu_4[0][0]']          \n",
            "                                                                                                  \n",
            " z_mean (Dense)                 (None, 200)          320200      ['flatten[0][0]']                \n",
            "                                                                                                  \n",
            " z_log_var (Dense)              (None, 200)          320200      ['flatten[0][0]']                \n",
            "                                                                                                  \n",
            " sampling (Sampling)            (None, 200)          0           ['z_mean[0][0]',                 \n",
            "                                                                  'z_log_var[0][0]']              \n",
            "                                                                                                  \n",
            "==================================================================================================\n",
            "Total params: 791,184\n",
            "Trainable params: 790,544\n",
            "Non-trainable params: 640\n",
            "__________________________________________________________________________________________________\n"
          ]
        }
      ]
    },
    {
      "cell_type": "code",
      "source": [
        "decoder_input = keras.layers.Input(shape=(Z_DIM,), name=\"decoder_input\")\n",
        "x = keras.layers.Dense(np.prod(shape_before_flattening))(decoder_input)\n",
        "x = keras.layers.BatchNormalization()(x)\n",
        "x = keras.layers.LeakyReLU()(x)\n",
        "x = keras.layers.Reshape(shape_before_flattening)(x)\n",
        "x = keras.layers.Conv2DTranspose(\n",
        "    NUM_FEATURES, kernel_size=3, strides=2, padding=\"same\"\n",
        ")(x)\n",
        "x = keras.layers.BatchNormalization()(x)\n",
        "x = keras.layers.LeakyReLU()(x)\n",
        "x = keras.layers.Conv2DTranspose(\n",
        "    NUM_FEATURES, kernel_size=3, strides=2, padding=\"same\"\n",
        ")(x)\n",
        "x = keras.layers.BatchNormalization()(x)\n",
        "x = keras.layers.LeakyReLU()(x)\n",
        "x = keras.layers.Conv2DTranspose(\n",
        "    NUM_FEATURES, kernel_size=3, strides=2, padding=\"same\"\n",
        ")(x)\n",
        "x = keras.layers.BatchNormalization()(x)\n",
        "x = keras.layers.LeakyReLU()(x)\n",
        "x = keras.layers.Conv2DTranspose(\n",
        "    NUM_FEATURES, kernel_size=3, strides=2, padding=\"same\"\n",
        ")(x)\n",
        "x = keras.layers.BatchNormalization()(x)\n",
        "x = keras.layers.LeakyReLU()(x)\n",
        "x = keras.layers.Conv2DTranspose(\n",
        "    NUM_FEATURES, kernel_size=3, strides=2, padding=\"same\"\n",
        ")(x)\n",
        "x = keras.layers.BatchNormalization()(x)\n",
        "x = keras.layers.LeakyReLU()(x)\n",
        "decoder_output = keras.layers.Conv2DTranspose(\n",
        "    CHANNELS, kernel_size=3, strides=1, activation=\"sigmoid\", padding=\"same\"\n",
        ")(x)\n",
        "decoder = keras.models.Model(decoder_input, decoder_output)\n",
        "decoder.summary()"
      ],
      "metadata": {
        "colab": {
          "base_uri": "https://localhost:8080/"
        },
        "id": "dpcsiVjx0Mfh",
        "outputId": "d6af4c85-0f80-4a7f-99e0-283f99a74012"
      },
      "execution_count": 10,
      "outputs": [
        {
          "output_type": "stream",
          "name": "stdout",
          "text": [
            "Model: \"model\"\n",
            "_________________________________________________________________\n",
            " Layer (type)                Output Shape              Param #   \n",
            "=================================================================\n",
            " decoder_input (InputLayer)  [(None, 200)]             0         \n",
            "                                                                 \n",
            " dense (Dense)               (None, 1600)              321600    \n",
            "                                                                 \n",
            " batch_normalization_5 (Batc  (None, 1600)             6400      \n",
            " hNormalization)                                                 \n",
            "                                                                 \n",
            " leaky_re_lu_5 (LeakyReLU)   (None, 1600)              0         \n",
            "                                                                 \n",
            " reshape (Reshape)           (None, 5, 5, 64)          0         \n",
            "                                                                 \n",
            " conv2d_transpose (Conv2DTra  (None, 10, 10, 64)       36928     \n",
            " nspose)                                                         \n",
            "                                                                 \n",
            " batch_normalization_6 (Batc  (None, 10, 10, 64)       256       \n",
            " hNormalization)                                                 \n",
            "                                                                 \n",
            " leaky_re_lu_6 (LeakyReLU)   (None, 10, 10, 64)        0         \n",
            "                                                                 \n",
            " conv2d_transpose_1 (Conv2DT  (None, 20, 20, 64)       36928     \n",
            " ranspose)                                                       \n",
            "                                                                 \n",
            " batch_normalization_7 (Batc  (None, 20, 20, 64)       256       \n",
            " hNormalization)                                                 \n",
            "                                                                 \n",
            " leaky_re_lu_7 (LeakyReLU)   (None, 20, 20, 64)        0         \n",
            "                                                                 \n",
            " conv2d_transpose_2 (Conv2DT  (None, 40, 40, 64)       36928     \n",
            " ranspose)                                                       \n",
            "                                                                 \n",
            " batch_normalization_8 (Batc  (None, 40, 40, 64)       256       \n",
            " hNormalization)                                                 \n",
            "                                                                 \n",
            " leaky_re_lu_8 (LeakyReLU)   (None, 40, 40, 64)        0         \n",
            "                                                                 \n",
            " conv2d_transpose_3 (Conv2DT  (None, 80, 80, 64)       36928     \n",
            " ranspose)                                                       \n",
            "                                                                 \n",
            " batch_normalization_9 (Batc  (None, 80, 80, 64)       256       \n",
            " hNormalization)                                                 \n",
            "                                                                 \n",
            " leaky_re_lu_9 (LeakyReLU)   (None, 80, 80, 64)        0         \n",
            "                                                                 \n",
            " conv2d_transpose_4 (Conv2DT  (None, 160, 160, 64)     36928     \n",
            " ranspose)                                                       \n",
            "                                                                 \n",
            " batch_normalization_10 (Bat  (None, 160, 160, 64)     256       \n",
            " chNormalization)                                                \n",
            "                                                                 \n",
            " leaky_re_lu_10 (LeakyReLU)  (None, 160, 160, 64)      0         \n",
            "                                                                 \n",
            " conv2d_transpose_5 (Conv2DT  (None, 160, 160, 3)      1731      \n",
            " ranspose)                                                       \n",
            "                                                                 \n",
            "=================================================================\n",
            "Total params: 515,651\n",
            "Trainable params: 511,811\n",
            "Non-trainable params: 3,840\n",
            "_________________________________________________________________\n"
          ]
        }
      ]
    },
    {
      "cell_type": "code",
      "source": [
        "vae = VAE(encoder, decoder, BETA)"
      ],
      "metadata": {
        "id": "V6u3Krcl0OaY"
      },
      "execution_count": 22,
      "outputs": []
    },
    {
      "cell_type": "code",
      "source": [
        "optimizer = keras.optimizers.Adam(learning_rate=LEARNING_RATE)\n",
        "vae.compile(optimizer=optimizer)"
      ],
      "metadata": {
        "id": "HuvBWr1v0QYP"
      },
      "execution_count": 23,
      "outputs": []
    },
    {
      "cell_type": "code",
      "source": [
        "model_checkpoint_callback = keras.callbacks.ModelCheckpoint(\n",
        "    filepath=\"./checkpoint\",\n",
        "    save_weights_only=False,\n",
        "    save_freq=\"epoch\",\n",
        "    monitor=\"loss\",\n",
        "    mode=\"min\",\n",
        "    save_best_only=True,\n",
        "    verbose=0,\n",
        ")\n",
        "\n",
        "tensorboard_callback = keras.callbacks.TensorBoard(log_dir=\"./logs\")\n",
        "\n",
        "\n",
        "class ImageGenerator(keras.callbacks.Callback):\n",
        "    def __init__(self, num_img, latent_dim):\n",
        "        self.num_img = num_img\n",
        "        self.latent_dim = latent_dim\n",
        "\n",
        "    def on_epoch_end(self, epoch, logs=None):\n",
        "        random_latent_vectors = tf.random.normal(\n",
        "            shape=(self.num_img, self.latent_dim)\n",
        "        )\n",
        "        generated_images = self.model.decoder(random_latent_vectors)\n",
        "        generated_images *= 255\n",
        "        generated_images.numpy()\n",
        "        for i in range(self.num_img):\n",
        "            img = keras.utils.array_to_img(generated_images[i])\n",
        "            img.save(\"./output/generated_img_%03d_%d.png\" % (epoch, i))"
      ],
      "metadata": {
        "id": "1T1XGGfF1NUy"
      },
      "execution_count": 26,
      "outputs": []
    },
    {
      "cell_type": "code",
      "source": [
        "vae.fit(\n",
        "    train,\n",
        "    epochs=EPOCHS,\n",
        "    callbacks=[\n",
        "        model_checkpoint_callback,\n",
        "        tensorboard_callback,\n",
        "        ImageGenerator(num_img=10, latent_dim=Z_DIM),\n",
        "    ],\n",
        ")"
      ],
      "metadata": {
        "colab": {
          "base_uri": "https://localhost:8080/"
        },
        "id": "LicxPVUy1ZY9",
        "outputId": "3a1303bf-2fce-4f7a-d5b5-5c43ca56f1b9"
      },
      "execution_count": 28,
      "outputs": [
        {
          "metadata": {
            "tags": null
          },
          "name": "stdout",
          "output_type": "stream",
          "text": [
            "Epoch 1/100\n",
            "23/23 [==============================] - ETA: 0s - loss: 43.5417 - reconstruction_loss: 29.6302 - kl_loss: 12.8122"
          ]
        },
        {
          "metadata": {
            "tags": null
          },
          "name": "stderr",
          "output_type": "stream",
          "text": [
            "WARNING:tensorflow:Model's `__init__()` arguments contain non-serializable objects. Please implement a `get_config()` method in the subclassed Model for proper saving and loading. Defaulting to empty config.\n",
            "WARNING:tensorflow:Model's `__init__()` arguments contain non-serializable objects. Please implement a `get_config()` method in the subclassed Model for proper saving and loading. Defaulting to empty config.\n",
            "WARNING:absl:Found untraced functions such as _update_step_xla, _jit_compiled_convolution_op, _jit_compiled_convolution_op, _jit_compiled_convolution_op, _jit_compiled_convolution_op while saving (showing 5 of 12). These functions will not be directly callable after loading.\n",
            "WARNING:tensorflow:Model's `__init__()` arguments contain non-serializable objects. Please implement a `get_config()` method in the subclassed Model for proper saving and loading. Defaulting to empty config.\n",
            "WARNING:tensorflow:Model's `__init__()` arguments contain non-serializable objects. Please implement a `get_config()` method in the subclassed Model for proper saving and loading. Defaulting to empty config.\n"
          ]
        },
        {
          "metadata": {
            "tags": null
          },
          "name": "stdout",
          "output_type": "stream",
          "text": [
            "23/23 [==============================] - 129s 6s/step - loss: 43.4959 - reconstruction_loss: 29.6302 - kl_loss: 12.8122\n",
            "Epoch 2/100\n",
            "23/23 [==============================] - ETA: 0s - loss: 39.8690 - reconstruction_loss: 28.5715 - kl_loss: 12.0948"
          ]
        },
        {
          "metadata": {
            "tags": null
          },
          "name": "stderr",
          "output_type": "stream",
          "text": [
            "WARNING:tensorflow:Model's `__init__()` arguments contain non-serializable objects. Please implement a `get_config()` method in the subclassed Model for proper saving and loading. Defaulting to empty config.\n",
            "WARNING:tensorflow:Model's `__init__()` arguments contain non-serializable objects. Please implement a `get_config()` method in the subclassed Model for proper saving and loading. Defaulting to empty config.\n",
            "WARNING:absl:Found untraced functions such as _update_step_xla, _jit_compiled_convolution_op, _jit_compiled_convolution_op, _jit_compiled_convolution_op, _jit_compiled_convolution_op while saving (showing 5 of 12). These functions will not be directly callable after loading.\n",
            "WARNING:tensorflow:Model's `__init__()` arguments contain non-serializable objects. Please implement a `get_config()` method in the subclassed Model for proper saving and loading. Defaulting to empty config.\n",
            "WARNING:tensorflow:Model's `__init__()` arguments contain non-serializable objects. Please implement a `get_config()` method in the subclassed Model for proper saving and loading. Defaulting to empty config.\n"
          ]
        },
        {
          "metadata": {
            "tags": null
          },
          "name": "stdout",
          "output_type": "stream",
          "text": [
            "23/23 [==============================] - 119s 5s/step - loss: 39.9023 - reconstruction_loss: 28.5715 - kl_loss: 12.0948\n",
            "Epoch 3/100\n",
            "23/23 [==============================] - ETA: 0s - loss: 40.0994 - reconstruction_loss: 27.8461 - kl_loss: 12.6205"
          ]
        },
        {
          "metadata": {
            "tags": null
          },
          "name": "stderr",
          "output_type": "stream",
          "text": [
            "WARNING:tensorflow:Model's `__init__()` arguments contain non-serializable objects. Please implement a `get_config()` method in the subclassed Model for proper saving and loading. Defaulting to empty config.\n",
            "WARNING:tensorflow:Model's `__init__()` arguments contain non-serializable objects. Please implement a `get_config()` method in the subclassed Model for proper saving and loading. Defaulting to empty config.\n",
            "WARNING:absl:Found untraced functions such as _update_step_xla, _jit_compiled_convolution_op, _jit_compiled_convolution_op, _jit_compiled_convolution_op, _jit_compiled_convolution_op while saving (showing 5 of 12). These functions will not be directly callable after loading.\n",
            "WARNING:tensorflow:Model's `__init__()` arguments contain non-serializable objects. Please implement a `get_config()` method in the subclassed Model for proper saving and loading. Defaulting to empty config.\n",
            "WARNING:tensorflow:Model's `__init__()` arguments contain non-serializable objects. Please implement a `get_config()` method in the subclassed Model for proper saving and loading. Defaulting to empty config.\n"
          ]
        },
        {
          "metadata": {
            "tags": null
          },
          "name": "stdout",
          "output_type": "stream",
          "text": [
            "23/23 [==============================] - 120s 5s/step - loss: 40.1147 - reconstruction_loss: 27.8461 - kl_loss: 12.6205\n",
            "Epoch 4/100\n",
            "23/23 [==============================] - 110s 5s/step - loss: 42.1021 - reconstruction_loss: 28.6079 - kl_loss: 13.0882\n",
            "Epoch 5/100\n",
            "23/23 [==============================] - ETA: 0s - loss: 38.9870 - reconstruction_loss: 26.5719 - kl_loss: 12.2383"
          ]
        },
        {
          "metadata": {
            "tags": null
          },
          "name": "stderr",
          "output_type": "stream",
          "text": [
            "WARNING:tensorflow:Model's `__init__()` arguments contain non-serializable objects. Please implement a `get_config()` method in the subclassed Model for proper saving and loading. Defaulting to empty config.\n",
            "WARNING:tensorflow:Model's `__init__()` arguments contain non-serializable objects. Please implement a `get_config()` method in the subclassed Model for proper saving and loading. Defaulting to empty config.\n",
            "WARNING:absl:Found untraced functions such as _update_step_xla, _jit_compiled_convolution_op, _jit_compiled_convolution_op, _jit_compiled_convolution_op, _jit_compiled_convolution_op while saving (showing 5 of 12). These functions will not be directly callable after loading.\n",
            "WARNING:tensorflow:Model's `__init__()` arguments contain non-serializable objects. Please implement a `get_config()` method in the subclassed Model for proper saving and loading. Defaulting to empty config.\n",
            "WARNING:tensorflow:Model's `__init__()` arguments contain non-serializable objects. Please implement a `get_config()` method in the subclassed Model for proper saving and loading. Defaulting to empty config.\n"
          ]
        },
        {
          "metadata": {
            "tags": null
          },
          "name": "stdout",
          "output_type": "stream",
          "text": [
            "23/23 [==============================] - 127s 6s/step - loss: 38.9796 - reconstruction_loss: 26.5719 - kl_loss: 12.2383\n",
            "Epoch 6/100\n",
            "23/23 [==============================] - ETA: 0s - loss: 36.3536 - reconstruction_loss: 25.6010 - kl_loss: 11.4364"
          ]
        },
        {
          "metadata": {
            "tags": null
          },
          "name": "stderr",
          "output_type": "stream",
          "text": [
            "WARNING:tensorflow:Model's `__init__()` arguments contain non-serializable objects. Please implement a `get_config()` method in the subclassed Model for proper saving and loading. Defaulting to empty config.\n",
            "WARNING:tensorflow:Model's `__init__()` arguments contain non-serializable objects. Please implement a `get_config()` method in the subclassed Model for proper saving and loading. Defaulting to empty config.\n",
            "WARNING:absl:Found untraced functions such as _update_step_xla, _jit_compiled_convolution_op, _jit_compiled_convolution_op, _jit_compiled_convolution_op, _jit_compiled_convolution_op while saving (showing 5 of 12). These functions will not be directly callable after loading.\n",
            "WARNING:tensorflow:Model's `__init__()` arguments contain non-serializable objects. Please implement a `get_config()` method in the subclassed Model for proper saving and loading. Defaulting to empty config.\n",
            "WARNING:tensorflow:Model's `__init__()` arguments contain non-serializable objects. Please implement a `get_config()` method in the subclassed Model for proper saving and loading. Defaulting to empty config.\n"
          ]
        },
        {
          "metadata": {
            "tags": null
          },
          "name": "stdout",
          "output_type": "stream",
          "text": [
            "23/23 [==============================] - 117s 5s/step - loss: 36.3821 - reconstruction_loss: 25.6010 - kl_loss: 11.4364\n",
            "Epoch 7/100\n",
            "23/23 [==============================] - 110s 5s/step - loss: 40.3665 - reconstruction_loss: 26.4091 - kl_loss: 13.7486\n",
            "Epoch 8/100\n",
            "23/23 [==============================] - 110s 5s/step - loss: 40.5900 - reconstruction_loss: 27.0939 - kl_loss: 12.2053\n",
            "Epoch 9/100\n",
            "23/23 [==============================] - ETA: 0s - loss: 37.1013 - reconstruction_loss: 25.0342 - kl_loss: 11.6583"
          ]
        },
        {
          "metadata": {
            "tags": null
          },
          "name": "stderr",
          "output_type": "stream",
          "text": [
            "WARNING:tensorflow:Model's `__init__()` arguments contain non-serializable objects. Please implement a `get_config()` method in the subclassed Model for proper saving and loading. Defaulting to empty config.\n",
            "WARNING:tensorflow:Model's `__init__()` arguments contain non-serializable objects. Please implement a `get_config()` method in the subclassed Model for proper saving and loading. Defaulting to empty config.\n",
            "WARNING:absl:Found untraced functions such as _update_step_xla, _jit_compiled_convolution_op, _jit_compiled_convolution_op, _jit_compiled_convolution_op, _jit_compiled_convolution_op while saving (showing 5 of 12). These functions will not be directly callable after loading.\n",
            "WARNING:tensorflow:Model's `__init__()` arguments contain non-serializable objects. Please implement a `get_config()` method in the subclassed Model for proper saving and loading. Defaulting to empty config.\n",
            "WARNING:tensorflow:Model's `__init__()` arguments contain non-serializable objects. Please implement a `get_config()` method in the subclassed Model for proper saving and loading. Defaulting to empty config.\n"
          ]
        },
        {
          "metadata": {
            "tags": null
          },
          "name": "stdout",
          "output_type": "stream",
          "text": [
            "23/23 [==============================] - 126s 6s/step - loss: 37.0843 - reconstruction_loss: 25.0342 - kl_loss: 11.6583\n",
            "Epoch 10/100\n",
            "23/23 [==============================] - 119s 5s/step - loss: 37.7237 - reconstruction_loss: 26.1959 - kl_loss: 12.4941\n",
            "Epoch 11/100\n",
            "23/23 [==============================] - 108s 5s/step - loss: 35.8735 - reconstruction_loss: 25.0020 - kl_loss: 12.1924\n",
            "Epoch 12/100\n",
            "23/23 [==============================] - ETA: 0s - loss: 35.8457 - reconstruction_loss: 24.0972 - kl_loss: 12.0031"
          ]
        },
        {
          "metadata": {
            "tags": null
          },
          "name": "stderr",
          "output_type": "stream",
          "text": [
            "WARNING:tensorflow:Model's `__init__()` arguments contain non-serializable objects. Please implement a `get_config()` method in the subclassed Model for proper saving and loading. Defaulting to empty config.\n",
            "WARNING:tensorflow:Model's `__init__()` arguments contain non-serializable objects. Please implement a `get_config()` method in the subclassed Model for proper saving and loading. Defaulting to empty config.\n",
            "WARNING:absl:Found untraced functions such as _update_step_xla, _jit_compiled_convolution_op, _jit_compiled_convolution_op, _jit_compiled_convolution_op, _jit_compiled_convolution_op while saving (showing 5 of 12). These functions will not be directly callable after loading.\n",
            "WARNING:tensorflow:Model's `__init__()` arguments contain non-serializable objects. Please implement a `get_config()` method in the subclassed Model for proper saving and loading. Defaulting to empty config.\n",
            "WARNING:tensorflow:Model's `__init__()` arguments contain non-serializable objects. Please implement a `get_config()` method in the subclassed Model for proper saving and loading. Defaulting to empty config.\n"
          ]
        },
        {
          "metadata": {
            "tags": null
          },
          "name": "stdout",
          "output_type": "stream",
          "text": [
            "23/23 [==============================] - 119s 5s/step - loss: 35.8563 - reconstruction_loss: 24.0972 - kl_loss: 12.0031\n",
            "Epoch 13/100\n",
            "23/23 [==============================] - ETA: 0s - loss: 34.5725 - reconstruction_loss: 23.9082 - kl_loss: 11.5692"
          ]
        },
        {
          "metadata": {
            "tags": null
          },
          "name": "stderr",
          "output_type": "stream",
          "text": [
            "WARNING:tensorflow:Model's `__init__()` arguments contain non-serializable objects. Please implement a `get_config()` method in the subclassed Model for proper saving and loading. Defaulting to empty config.\n",
            "WARNING:tensorflow:Model's `__init__()` arguments contain non-serializable objects. Please implement a `get_config()` method in the subclassed Model for proper saving and loading. Defaulting to empty config.\n",
            "WARNING:absl:Found untraced functions such as _update_step_xla, _jit_compiled_convolution_op, _jit_compiled_convolution_op, _jit_compiled_convolution_op, _jit_compiled_convolution_op while saving (showing 5 of 12). These functions will not be directly callable after loading.\n",
            "WARNING:tensorflow:Model's `__init__()` arguments contain non-serializable objects. Please implement a `get_config()` method in the subclassed Model for proper saving and loading. Defaulting to empty config.\n",
            "WARNING:tensorflow:Model's `__init__()` arguments contain non-serializable objects. Please implement a `get_config()` method in the subclassed Model for proper saving and loading. Defaulting to empty config.\n"
          ]
        },
        {
          "metadata": {
            "tags": null
          },
          "name": "stdout",
          "output_type": "stream",
          "text": [
            "23/23 [==============================] - 118s 5s/step - loss: 34.6102 - reconstruction_loss: 23.9082 - kl_loss: 11.5692\n",
            "Epoch 14/100\n",
            "23/23 [==============================] - 110s 5s/step - loss: 35.6801 - reconstruction_loss: 24.4933 - kl_loss: 11.6251\n",
            "Epoch 15/100\n",
            "23/23 [==============================] - 120s 5s/step - loss: 36.6071 - reconstruction_loss: 24.2032 - kl_loss: 12.7361\n",
            "Epoch 16/100\n",
            "23/23 [==============================] - ETA: 0s - loss: 34.3927 - reconstruction_loss: 22.9979 - kl_loss: 11.8195"
          ]
        },
        {
          "metadata": {
            "tags": null
          },
          "name": "stderr",
          "output_type": "stream",
          "text": [
            "WARNING:tensorflow:Model's `__init__()` arguments contain non-serializable objects. Please implement a `get_config()` method in the subclassed Model for proper saving and loading. Defaulting to empty config.\n",
            "WARNING:tensorflow:Model's `__init__()` arguments contain non-serializable objects. Please implement a `get_config()` method in the subclassed Model for proper saving and loading. Defaulting to empty config.\n",
            "WARNING:absl:Found untraced functions such as _update_step_xla, _jit_compiled_convolution_op, _jit_compiled_convolution_op, _jit_compiled_convolution_op, _jit_compiled_convolution_op while saving (showing 5 of 12). These functions will not be directly callable after loading.\n",
            "WARNING:tensorflow:Model's `__init__()` arguments contain non-serializable objects. Please implement a `get_config()` method in the subclassed Model for proper saving and loading. Defaulting to empty config.\n",
            "WARNING:tensorflow:Model's `__init__()` arguments contain non-serializable objects. Please implement a `get_config()` method in the subclassed Model for proper saving and loading. Defaulting to empty config.\n"
          ]
        },
        {
          "metadata": {
            "tags": null
          },
          "name": "stdout",
          "output_type": "stream",
          "text": [
            "23/23 [==============================] - 121s 5s/step - loss: 34.4104 - reconstruction_loss: 22.9979 - kl_loss: 11.8195\n",
            "Epoch 17/100\n",
            "23/23 [==============================] - 110s 5s/step - loss: 35.7114 - reconstruction_loss: 24.0101 - kl_loss: 11.4847\n",
            "Epoch 18/100\n",
            "23/23 [==============================] - 110s 5s/step - loss: 34.7921 - reconstruction_loss: 23.6283 - kl_loss: 11.5186\n",
            "Epoch 19/100\n",
            "23/23 [==============================] - ETA: 0s - loss: 34.8263 - reconstruction_loss: 23.6721 - kl_loss: 11.0581"
          ]
        },
        {
          "metadata": {
            "tags": null
          },
          "name": "stderr",
          "output_type": "stream",
          "text": [
            "WARNING:tensorflow:Model's `__init__()` arguments contain non-serializable objects. Please implement a `get_config()` method in the subclassed Model for proper saving and loading. Defaulting to empty config.\n",
            "WARNING:tensorflow:Model's `__init__()` arguments contain non-serializable objects. Please implement a `get_config()` method in the subclassed Model for proper saving and loading. Defaulting to empty config.\n",
            "WARNING:absl:Found untraced functions such as _update_step_xla, _jit_compiled_convolution_op, _jit_compiled_convolution_op, _jit_compiled_convolution_op, _jit_compiled_convolution_op while saving (showing 5 of 12). These functions will not be directly callable after loading.\n",
            "WARNING:tensorflow:Model's `__init__()` arguments contain non-serializable objects. Please implement a `get_config()` method in the subclassed Model for proper saving and loading. Defaulting to empty config.\n",
            "WARNING:tensorflow:Model's `__init__()` arguments contain non-serializable objects. Please implement a `get_config()` method in the subclassed Model for proper saving and loading. Defaulting to empty config.\n"
          ]
        },
        {
          "metadata": {
            "tags": null
          },
          "name": "stdout",
          "output_type": "stream",
          "text": [
            "23/23 [==============================] - 129s 6s/step - loss: 34.8223 - reconstruction_loss: 23.6721 - kl_loss: 11.0581\n",
            "Epoch 20/100\n",
            "23/23 [==============================] - 109s 5s/step - loss: 35.0440 - reconstruction_loss: 22.8764 - kl_loss: 12.2958\n",
            "Epoch 21/100\n",
            "23/23 [==============================] - ETA: 0s - loss: 31.7700 - reconstruction_loss: 22.7003 - kl_loss: 10.4544"
          ]
        },
        {
          "metadata": {
            "tags": null
          },
          "name": "stderr",
          "output_type": "stream",
          "text": [
            "WARNING:tensorflow:Model's `__init__()` arguments contain non-serializable objects. Please implement a `get_config()` method in the subclassed Model for proper saving and loading. Defaulting to empty config.\n",
            "WARNING:tensorflow:Model's `__init__()` arguments contain non-serializable objects. Please implement a `get_config()` method in the subclassed Model for proper saving and loading. Defaulting to empty config.\n",
            "WARNING:absl:Found untraced functions such as _update_step_xla, _jit_compiled_convolution_op, _jit_compiled_convolution_op, _jit_compiled_convolution_op, _jit_compiled_convolution_op while saving (showing 5 of 12). These functions will not be directly callable after loading.\n",
            "WARNING:tensorflow:Model's `__init__()` arguments contain non-serializable objects. Please implement a `get_config()` method in the subclassed Model for proper saving and loading. Defaulting to empty config.\n",
            "WARNING:tensorflow:Model's `__init__()` arguments contain non-serializable objects. Please implement a `get_config()` method in the subclassed Model for proper saving and loading. Defaulting to empty config.\n"
          ]
        },
        {
          "metadata": {
            "tags": null
          },
          "name": "stdout",
          "output_type": "stream",
          "text": [
            "23/23 [==============================] - 119s 5s/step - loss: 31.8277 - reconstruction_loss: 22.7003 - kl_loss: 10.4544\n",
            "Epoch 22/100\n",
            "23/23 [==============================] - 111s 5s/step - loss: 33.1033 - reconstruction_loss: 22.2553 - kl_loss: 10.9951\n",
            "Epoch 23/100\n",
            "23/23 [==============================] - 109s 5s/step - loss: 33.2606 - reconstruction_loss: 22.8203 - kl_loss: 10.9449\n",
            "Epoch 24/100\n",
            "23/23 [==============================] - 121s 5s/step - loss: 35.1867 - reconstruction_loss: 23.9975 - kl_loss: 11.5907\n",
            "Epoch 25/100\n",
            "23/23 [==============================] - 111s 5s/step - loss: 32.6828 - reconstruction_loss: 22.3923 - kl_loss: 11.4037\n",
            "Epoch 26/100\n",
            "23/23 [==============================] - ETA: 0s - loss: 31.8638 - reconstruction_loss: 21.9149 - kl_loss: 11.0614"
          ]
        },
        {
          "metadata": {
            "tags": null
          },
          "name": "stderr",
          "output_type": "stream",
          "text": [
            "WARNING:tensorflow:Model's `__init__()` arguments contain non-serializable objects. Please implement a `get_config()` method in the subclassed Model for proper saving and loading. Defaulting to empty config.\n",
            "WARNING:tensorflow:Model's `__init__()` arguments contain non-serializable objects. Please implement a `get_config()` method in the subclassed Model for proper saving and loading. Defaulting to empty config.\n",
            "WARNING:absl:Found untraced functions such as _update_step_xla, _jit_compiled_convolution_op, _jit_compiled_convolution_op, _jit_compiled_convolution_op, _jit_compiled_convolution_op while saving (showing 5 of 12). These functions will not be directly callable after loading.\n",
            "WARNING:tensorflow:Model's `__init__()` arguments contain non-serializable objects. Please implement a `get_config()` method in the subclassed Model for proper saving and loading. Defaulting to empty config.\n",
            "WARNING:tensorflow:Model's `__init__()` arguments contain non-serializable objects. Please implement a `get_config()` method in the subclassed Model for proper saving and loading. Defaulting to empty config.\n"
          ]
        },
        {
          "metadata": {
            "tags": null
          },
          "name": "stdout",
          "output_type": "stream",
          "text": [
            "23/23 [==============================] - 119s 5s/step - loss: 31.9102 - reconstruction_loss: 21.9149 - kl_loss: 11.0614\n",
            "Epoch 27/100\n",
            "23/23 [==============================] - ETA: 0s - loss: 31.2346 - reconstruction_loss: 21.7403 - kl_loss: 10.6783"
          ]
        },
        {
          "metadata": {
            "tags": null
          },
          "name": "stderr",
          "output_type": "stream",
          "text": [
            "WARNING:tensorflow:Model's `__init__()` arguments contain non-serializable objects. Please implement a `get_config()` method in the subclassed Model for proper saving and loading. Defaulting to empty config.\n",
            "WARNING:tensorflow:Model's `__init__()` arguments contain non-serializable objects. Please implement a `get_config()` method in the subclassed Model for proper saving and loading. Defaulting to empty config.\n",
            "WARNING:absl:Found untraced functions such as _update_step_xla, _jit_compiled_convolution_op, _jit_compiled_convolution_op, _jit_compiled_convolution_op, _jit_compiled_convolution_op while saving (showing 5 of 12). These functions will not be directly callable after loading.\n",
            "WARNING:tensorflow:Model's `__init__()` arguments contain non-serializable objects. Please implement a `get_config()` method in the subclassed Model for proper saving and loading. Defaulting to empty config.\n",
            "WARNING:tensorflow:Model's `__init__()` arguments contain non-serializable objects. Please implement a `get_config()` method in the subclassed Model for proper saving and loading. Defaulting to empty config.\n"
          ]
        },
        {
          "metadata": {
            "tags": null
          },
          "name": "stdout",
          "output_type": "stream",
          "text": [
            "23/23 [==============================] - 122s 5s/step - loss: 31.2839 - reconstruction_loss: 21.7403 - kl_loss: 10.6783\n",
            "Epoch 28/100\n",
            "23/23 [==============================] - ETA: 0s - loss: 31.7681 - reconstruction_loss: 21.8589 - kl_loss: 9.9698"
          ]
        },
        {
          "metadata": {
            "tags": null
          },
          "name": "stderr",
          "output_type": "stream",
          "text": [
            "WARNING:tensorflow:Model's `__init__()` arguments contain non-serializable objects. Please implement a `get_config()` method in the subclassed Model for proper saving and loading. Defaulting to empty config.\n",
            "WARNING:tensorflow:Model's `__init__()` arguments contain non-serializable objects. Please implement a `get_config()` method in the subclassed Model for proper saving and loading. Defaulting to empty config.\n",
            "WARNING:absl:Found untraced functions such as _update_step_xla, _jit_compiled_convolution_op, _jit_compiled_convolution_op, _jit_compiled_convolution_op, _jit_compiled_convolution_op while saving (showing 5 of 12). These functions will not be directly callable after loading.\n",
            "WARNING:tensorflow:Model's `__init__()` arguments contain non-serializable objects. Please implement a `get_config()` method in the subclassed Model for proper saving and loading. Defaulting to empty config.\n",
            "WARNING:tensorflow:Model's `__init__()` arguments contain non-serializable objects. Please implement a `get_config()` method in the subclassed Model for proper saving and loading. Defaulting to empty config.\n"
          ]
        },
        {
          "metadata": {
            "tags": null
          },
          "name": "stdout",
          "output_type": "stream",
          "text": [
            "23/23 [==============================] - 120s 5s/step - loss: 31.7706 - reconstruction_loss: 21.8589 - kl_loss: 9.9698\n",
            "Epoch 29/100\n",
            "23/23 [==============================] - 109s 5s/step - loss: 34.5552 - reconstruction_loss: 22.0982 - kl_loss: 11.2572\n",
            "Epoch 30/100\n",
            "23/23 [==============================] - 110s 5s/step - loss: 31.9932 - reconstruction_loss: 22.5248 - kl_loss: 10.9099\n",
            "Epoch 31/100\n",
            "23/23 [==============================] - 110s 5s/step - loss: 32.0722 - reconstruction_loss: 21.6927 - kl_loss: 10.6546\n",
            "Epoch 32/100\n",
            "23/23 [==============================] - 109s 5s/step - loss: 33.3765 - reconstruction_loss: 21.5155 - kl_loss: 11.8199\n",
            "Epoch 33/100\n",
            "23/23 [==============================] - 111s 5s/step - loss: 33.6800 - reconstruction_loss: 22.0505 - kl_loss: 10.8368\n",
            "Epoch 34/100\n",
            "23/23 [==============================] - ETA: 0s - loss: 31.2325 - reconstruction_loss: 20.4958 - kl_loss: 10.8711"
          ]
        },
        {
          "metadata": {
            "tags": null
          },
          "name": "stderr",
          "output_type": "stream",
          "text": [
            "WARNING:tensorflow:Model's `__init__()` arguments contain non-serializable objects. Please implement a `get_config()` method in the subclassed Model for proper saving and loading. Defaulting to empty config.\n",
            "WARNING:tensorflow:Model's `__init__()` arguments contain non-serializable objects. Please implement a `get_config()` method in the subclassed Model for proper saving and loading. Defaulting to empty config.\n",
            "WARNING:absl:Found untraced functions such as _update_step_xla, _jit_compiled_convolution_op, _jit_compiled_convolution_op, _jit_compiled_convolution_op, _jit_compiled_convolution_op while saving (showing 5 of 12). These functions will not be directly callable after loading.\n",
            "WARNING:tensorflow:Model's `__init__()` arguments contain non-serializable objects. Please implement a `get_config()` method in the subclassed Model for proper saving and loading. Defaulting to empty config.\n",
            "WARNING:tensorflow:Model's `__init__()` arguments contain non-serializable objects. Please implement a `get_config()` method in the subclassed Model for proper saving and loading. Defaulting to empty config.\n"
          ]
        },
        {
          "metadata": {
            "tags": null
          },
          "name": "stdout",
          "output_type": "stream",
          "text": [
            "23/23 [==============================] - 129s 6s/step - loss: 31.2381 - reconstruction_loss: 20.4958 - kl_loss: 10.8711\n",
            "Epoch 35/100\n",
            "23/23 [==============================] - 109s 5s/step - loss: 32.8002 - reconstruction_loss: 21.2794 - kl_loss: 10.8410\n",
            "Epoch 36/100\n",
            "23/23 [==============================] - ETA: 0s - loss: 30.4201 - reconstruction_loss: 20.7727 - kl_loss: 10.3525"
          ]
        },
        {
          "metadata": {
            "tags": null
          },
          "name": "stderr",
          "output_type": "stream",
          "text": [
            "WARNING:tensorflow:Model's `__init__()` arguments contain non-serializable objects. Please implement a `get_config()` method in the subclassed Model for proper saving and loading. Defaulting to empty config.\n",
            "WARNING:tensorflow:Model's `__init__()` arguments contain non-serializable objects. Please implement a `get_config()` method in the subclassed Model for proper saving and loading. Defaulting to empty config.\n",
            "WARNING:absl:Found untraced functions such as _update_step_xla, _jit_compiled_convolution_op, _jit_compiled_convolution_op, _jit_compiled_convolution_op, _jit_compiled_convolution_op while saving (showing 5 of 12). These functions will not be directly callable after loading.\n",
            "WARNING:tensorflow:Model's `__init__()` arguments contain non-serializable objects. Please implement a `get_config()` method in the subclassed Model for proper saving and loading. Defaulting to empty config.\n",
            "WARNING:tensorflow:Model's `__init__()` arguments contain non-serializable objects. Please implement a `get_config()` method in the subclassed Model for proper saving and loading. Defaulting to empty config.\n"
          ]
        },
        {
          "metadata": {
            "tags": null
          },
          "name": "stdout",
          "output_type": "stream",
          "text": [
            "23/23 [==============================] - 119s 5s/step - loss: 30.4495 - reconstruction_loss: 20.7727 - kl_loss: 10.3525\n",
            "Epoch 37/100\n",
            "23/23 [==============================] - 110s 5s/step - loss: 30.5806 - reconstruction_loss: 20.8093 - kl_loss: 10.5205\n",
            "Epoch 38/100\n",
            "23/23 [==============================] - 117s 5s/step - loss: 31.3163 - reconstruction_loss: 21.1385 - kl_loss: 10.6082\n",
            "Epoch 39/100\n",
            "23/23 [==============================] - 110s 5s/step - loss: 31.0924 - reconstruction_loss: 20.9254 - kl_loss: 10.5797\n",
            "Epoch 40/100\n",
            "23/23 [==============================] - 109s 5s/step - loss: 30.1038 - reconstruction_loss: 21.0977 - kl_loss: 10.4742\n",
            "Epoch 41/100\n",
            "23/23 [==============================] - 109s 5s/step - loss: 31.6654 - reconstruction_loss: 21.5434 - kl_loss: 11.3013\n",
            "Epoch 42/100\n",
            "23/23 [==============================] - 111s 5s/step - loss: 31.5145 - reconstruction_loss: 20.5187 - kl_loss: 10.6774\n",
            "Epoch 43/100\n",
            "23/23 [==============================] - 119s 5s/step - loss: 32.6620 - reconstruction_loss: 21.0944 - kl_loss: 10.6855\n",
            "Epoch 44/100\n",
            "23/23 [==============================] - 110s 5s/step - loss: 29.0312 - reconstruction_loss: 20.9416 - kl_loss: 10.2362\n",
            "Epoch 45/100\n",
            "23/23 [==============================] - ETA: 0s - loss: 30.4179 - reconstruction_loss: 19.9467 - kl_loss: 10.1387"
          ]
        },
        {
          "metadata": {
            "tags": null
          },
          "name": "stderr",
          "output_type": "stream",
          "text": [
            "WARNING:tensorflow:Model's `__init__()` arguments contain non-serializable objects. Please implement a `get_config()` method in the subclassed Model for proper saving and loading. Defaulting to empty config.\n",
            "WARNING:tensorflow:Model's `__init__()` arguments contain non-serializable objects. Please implement a `get_config()` method in the subclassed Model for proper saving and loading. Defaulting to empty config.\n",
            "WARNING:absl:Found untraced functions such as _update_step_xla, _jit_compiled_convolution_op, _jit_compiled_convolution_op, _jit_compiled_convolution_op, _jit_compiled_convolution_op while saving (showing 5 of 12). These functions will not be directly callable after loading.\n",
            "WARNING:tensorflow:Model's `__init__()` arguments contain non-serializable objects. Please implement a `get_config()` method in the subclassed Model for proper saving and loading. Defaulting to empty config.\n",
            "WARNING:tensorflow:Model's `__init__()` arguments contain non-serializable objects. Please implement a `get_config()` method in the subclassed Model for proper saving and loading. Defaulting to empty config.\n"
          ]
        },
        {
          "metadata": {
            "tags": null
          },
          "name": "stdout",
          "output_type": "stream",
          "text": [
            "23/23 [==============================] - 120s 5s/step - loss: 30.4041 - reconstruction_loss: 19.9467 - kl_loss: 10.1387\n",
            "Epoch 46/100\n",
            "23/23 [==============================] - ETA: 0s - loss: 29.3809 - reconstruction_loss: 19.5928 - kl_loss: 9.5968"
          ]
        },
        {
          "metadata": {
            "tags": null
          },
          "name": "stderr",
          "output_type": "stream",
          "text": [
            "WARNING:tensorflow:Model's `__init__()` arguments contain non-serializable objects. Please implement a `get_config()` method in the subclassed Model for proper saving and loading. Defaulting to empty config.\n",
            "WARNING:tensorflow:Model's `__init__()` arguments contain non-serializable objects. Please implement a `get_config()` method in the subclassed Model for proper saving and loading. Defaulting to empty config.\n",
            "WARNING:absl:Found untraced functions such as _update_step_xla, _jit_compiled_convolution_op, _jit_compiled_convolution_op, _jit_compiled_convolution_op, _jit_compiled_convolution_op while saving (showing 5 of 12). These functions will not be directly callable after loading.\n",
            "WARNING:tensorflow:Model's `__init__()` arguments contain non-serializable objects. Please implement a `get_config()` method in the subclassed Model for proper saving and loading. Defaulting to empty config.\n",
            "WARNING:tensorflow:Model's `__init__()` arguments contain non-serializable objects. Please implement a `get_config()` method in the subclassed Model for proper saving and loading. Defaulting to empty config.\n"
          ]
        },
        {
          "metadata": {
            "tags": null
          },
          "name": "stdout",
          "output_type": "stream",
          "text": [
            "23/23 [==============================] - 120s 5s/step - loss: 29.3730 - reconstruction_loss: 19.5928 - kl_loss: 9.5968\n",
            "Epoch 47/100\n",
            "23/23 [==============================] - ETA: 0s - loss: 28.6069 - reconstruction_loss: 19.7936 - kl_loss: 9.3799"
          ]
        },
        {
          "metadata": {
            "tags": null
          },
          "name": "stderr",
          "output_type": "stream",
          "text": [
            "WARNING:tensorflow:Model's `__init__()` arguments contain non-serializable objects. Please implement a `get_config()` method in the subclassed Model for proper saving and loading. Defaulting to empty config.\n",
            "WARNING:tensorflow:Model's `__init__()` arguments contain non-serializable objects. Please implement a `get_config()` method in the subclassed Model for proper saving and loading. Defaulting to empty config.\n",
            "WARNING:absl:Found untraced functions such as _update_step_xla, _jit_compiled_convolution_op, _jit_compiled_convolution_op, _jit_compiled_convolution_op, _jit_compiled_convolution_op while saving (showing 5 of 12). These functions will not be directly callable after loading.\n",
            "WARNING:tensorflow:Model's `__init__()` arguments contain non-serializable objects. Please implement a `get_config()` method in the subclassed Model for proper saving and loading. Defaulting to empty config.\n",
            "WARNING:tensorflow:Model's `__init__()` arguments contain non-serializable objects. Please implement a `get_config()` method in the subclassed Model for proper saving and loading. Defaulting to empty config.\n"
          ]
        },
        {
          "metadata": {
            "tags": null
          },
          "name": "stdout",
          "output_type": "stream",
          "text": [
            "23/23 [==============================] - 121s 5s/step - loss: 28.6305 - reconstruction_loss: 19.7936 - kl_loss: 9.3799\n",
            "Epoch 48/100\n",
            "23/23 [==============================] - 110s 5s/step - loss: 29.4390 - reconstruction_loss: 19.0316 - kl_loss: 10.5199\n",
            "Epoch 49/100\n",
            "23/23 [==============================] - 110s 5s/step - loss: 30.0612 - reconstruction_loss: 19.7806 - kl_loss: 10.7966\n",
            "Epoch 50/100\n",
            "23/23 [==============================] - 109s 5s/step - loss: 31.0693 - reconstruction_loss: 20.6172 - kl_loss: 10.3705\n",
            "Epoch 51/100\n",
            "23/23 [==============================] - 111s 5s/step - loss: 30.2025 - reconstruction_loss: 20.0634 - kl_loss: 9.5834\n",
            "Epoch 52/100\n",
            "23/23 [==============================] - ETA: 0s - loss: 28.3209 - reconstruction_loss: 19.2603 - kl_loss: 9.3261"
          ]
        },
        {
          "metadata": {
            "tags": null
          },
          "name": "stderr",
          "output_type": "stream",
          "text": [
            "WARNING:tensorflow:Model's `__init__()` arguments contain non-serializable objects. Please implement a `get_config()` method in the subclassed Model for proper saving and loading. Defaulting to empty config.\n",
            "WARNING:tensorflow:Model's `__init__()` arguments contain non-serializable objects. Please implement a `get_config()` method in the subclassed Model for proper saving and loading. Defaulting to empty config.\n",
            "WARNING:absl:Found untraced functions such as _update_step_xla, _jit_compiled_convolution_op, _jit_compiled_convolution_op, _jit_compiled_convolution_op, _jit_compiled_convolution_op while saving (showing 5 of 12). These functions will not be directly callable after loading.\n",
            "WARNING:tensorflow:Model's `__init__()` arguments contain non-serializable objects. Please implement a `get_config()` method in the subclassed Model for proper saving and loading. Defaulting to empty config.\n",
            "WARNING:tensorflow:Model's `__init__()` arguments contain non-serializable objects. Please implement a `get_config()` method in the subclassed Model for proper saving and loading. Defaulting to empty config.\n"
          ]
        },
        {
          "metadata": {
            "tags": null
          },
          "name": "stdout",
          "output_type": "stream",
          "text": [
            "23/23 [==============================] - 119s 5s/step - loss: 28.3320 - reconstruction_loss: 19.2603 - kl_loss: 9.3261\n",
            "Epoch 53/100\n",
            "23/23 [==============================] - 111s 5s/step - loss: 30.2891 - reconstruction_loss: 20.2472 - kl_loss: 9.8778\n",
            "Epoch 54/100\n",
            "23/23 [==============================] - 112s 5s/step - loss: 28.6793 - reconstruction_loss: 19.3297 - kl_loss: 9.3901\n",
            "Epoch 55/100\n",
            "23/23 [==============================] - 110s 5s/step - loss: 29.2054 - reconstruction_loss: 20.0399 - kl_loss: 9.4127\n",
            "Epoch 56/100\n",
            "23/23 [==============================] - 111s 5s/step - loss: 29.6976 - reconstruction_loss: 19.0852 - kl_loss: 10.9474\n",
            "Epoch 57/100\n",
            "23/23 [==============================] - 109s 5s/step - loss: 28.9449 - reconstruction_loss: 19.9895 - kl_loss: 9.5236\n",
            "Epoch 58/100\n",
            "23/23 [==============================] - ETA: 0s - loss: 28.0238 - reconstruction_loss: 18.6941 - kl_loss: 9.8557"
          ]
        },
        {
          "metadata": {
            "tags": null
          },
          "name": "stderr",
          "output_type": "stream",
          "text": [
            "WARNING:tensorflow:Model's `__init__()` arguments contain non-serializable objects. Please implement a `get_config()` method in the subclassed Model for proper saving and loading. Defaulting to empty config.\n",
            "WARNING:tensorflow:Model's `__init__()` arguments contain non-serializable objects. Please implement a `get_config()` method in the subclassed Model for proper saving and loading. Defaulting to empty config.\n",
            "WARNING:absl:Found untraced functions such as _update_step_xla, _jit_compiled_convolution_op, _jit_compiled_convolution_op, _jit_compiled_convolution_op, _jit_compiled_convolution_op while saving (showing 5 of 12). These functions will not be directly callable after loading.\n",
            "WARNING:tensorflow:Model's `__init__()` arguments contain non-serializable objects. Please implement a `get_config()` method in the subclassed Model for proper saving and loading. Defaulting to empty config.\n",
            "WARNING:tensorflow:Model's `__init__()` arguments contain non-serializable objects. Please implement a `get_config()` method in the subclassed Model for proper saving and loading. Defaulting to empty config.\n"
          ]
        },
        {
          "metadata": {
            "tags": null
          },
          "name": "stdout",
          "output_type": "stream",
          "text": [
            "23/23 [==============================] - 120s 5s/step - loss: 28.0457 - reconstruction_loss: 18.6941 - kl_loss: 9.8557\n",
            "Epoch 59/100\n",
            "23/23 [==============================] - ETA: 0s - loss: 27.9029 - reconstruction_loss: 18.5304 - kl_loss: 9.1684"
          ]
        },
        {
          "metadata": {
            "tags": null
          },
          "name": "stderr",
          "output_type": "stream",
          "text": [
            "WARNING:tensorflow:Model's `__init__()` arguments contain non-serializable objects. Please implement a `get_config()` method in the subclassed Model for proper saving and loading. Defaulting to empty config.\n",
            "WARNING:tensorflow:Model's `__init__()` arguments contain non-serializable objects. Please implement a `get_config()` method in the subclassed Model for proper saving and loading. Defaulting to empty config.\n",
            "WARNING:absl:Found untraced functions such as _update_step_xla, _jit_compiled_convolution_op, _jit_compiled_convolution_op, _jit_compiled_convolution_op, _jit_compiled_convolution_op while saving (showing 5 of 12). These functions will not be directly callable after loading.\n",
            "WARNING:tensorflow:Model's `__init__()` arguments contain non-serializable objects. Please implement a `get_config()` method in the subclassed Model for proper saving and loading. Defaulting to empty config.\n",
            "WARNING:tensorflow:Model's `__init__()` arguments contain non-serializable objects. Please implement a `get_config()` method in the subclassed Model for proper saving and loading. Defaulting to empty config.\n"
          ]
        },
        {
          "metadata": {
            "tags": null
          },
          "name": "stdout",
          "output_type": "stream",
          "text": [
            "23/23 [==============================] - 121s 5s/step - loss: 27.8944 - reconstruction_loss: 18.5304 - kl_loss: 9.1684\n",
            "Epoch 60/100\n",
            "23/23 [==============================] - 110s 5s/step - loss: 28.2657 - reconstruction_loss: 18.4805 - kl_loss: 9.3495\n",
            "Epoch 61/100\n",
            "23/23 [==============================] - 111s 5s/step - loss: 29.0523 - reconstruction_loss: 19.8037 - kl_loss: 8.8748\n",
            "Epoch 62/100\n",
            "23/23 [==============================] - ETA: 0s - loss: 27.3613 - reconstruction_loss: 18.5156 - kl_loss: 9.1193"
          ]
        },
        {
          "metadata": {
            "tags": null
          },
          "name": "stderr",
          "output_type": "stream",
          "text": [
            "WARNING:tensorflow:Model's `__init__()` arguments contain non-serializable objects. Please implement a `get_config()` method in the subclassed Model for proper saving and loading. Defaulting to empty config.\n",
            "WARNING:tensorflow:Model's `__init__()` arguments contain non-serializable objects. Please implement a `get_config()` method in the subclassed Model for proper saving and loading. Defaulting to empty config.\n",
            "WARNING:absl:Found untraced functions such as _update_step_xla, _jit_compiled_convolution_op, _jit_compiled_convolution_op, _jit_compiled_convolution_op, _jit_compiled_convolution_op while saving (showing 5 of 12). These functions will not be directly callable after loading.\n",
            "WARNING:tensorflow:Model's `__init__()` arguments contain non-serializable objects. Please implement a `get_config()` method in the subclassed Model for proper saving and loading. Defaulting to empty config.\n",
            "WARNING:tensorflow:Model's `__init__()` arguments contain non-serializable objects. Please implement a `get_config()` method in the subclassed Model for proper saving and loading. Defaulting to empty config.\n"
          ]
        },
        {
          "metadata": {
            "tags": null
          },
          "name": "stdout",
          "output_type": "stream",
          "text": [
            "23/23 [==============================] - 122s 5s/step - loss: 27.3727 - reconstruction_loss: 18.5156 - kl_loss: 9.1193\n",
            "Epoch 63/100\n",
            "23/23 [==============================] - 111s 5s/step - loss: 27.3957 - reconstruction_loss: 18.6440 - kl_loss: 9.3100\n",
            "Epoch 64/100\n",
            "23/23 [==============================] - ETA: 0s - loss: 26.7206 - reconstruction_loss: 17.9170 - kl_loss: 8.8011"
          ]
        },
        {
          "metadata": {
            "tags": null
          },
          "name": "stderr",
          "output_type": "stream",
          "text": [
            "WARNING:tensorflow:Model's `__init__()` arguments contain non-serializable objects. Please implement a `get_config()` method in the subclassed Model for proper saving and loading. Defaulting to empty config.\n",
            "WARNING:tensorflow:Model's `__init__()` arguments contain non-serializable objects. Please implement a `get_config()` method in the subclassed Model for proper saving and loading. Defaulting to empty config.\n",
            "WARNING:absl:Found untraced functions such as _update_step_xla, _jit_compiled_convolution_op, _jit_compiled_convolution_op, _jit_compiled_convolution_op, _jit_compiled_convolution_op while saving (showing 5 of 12). These functions will not be directly callable after loading.\n",
            "WARNING:tensorflow:Model's `__init__()` arguments contain non-serializable objects. Please implement a `get_config()` method in the subclassed Model for proper saving and loading. Defaulting to empty config.\n",
            "WARNING:tensorflow:Model's `__init__()` arguments contain non-serializable objects. Please implement a `get_config()` method in the subclassed Model for proper saving and loading. Defaulting to empty config.\n"
          ]
        },
        {
          "metadata": {
            "tags": null
          },
          "name": "stdout",
          "output_type": "stream",
          "text": [
            "23/23 [==============================] - 119s 5s/step - loss: 26.7205 - reconstruction_loss: 17.9170 - kl_loss: 8.8011\n",
            "Epoch 65/100\n",
            "23/23 [==============================] - 110s 5s/step - loss: 27.3998 - reconstruction_loss: 19.0777 - kl_loss: 8.7050\n",
            "Epoch 66/100\n",
            "23/23 [==============================] - 110s 5s/step - loss: 27.4522 - reconstruction_loss: 18.1163 - kl_loss: 9.3097\n",
            "Epoch 67/100\n",
            "23/23 [==============================] - 110s 5s/step - loss: 26.4743 - reconstruction_loss: 18.3163 - kl_loss: 8.5690\n",
            "Epoch 68/100\n",
            "23/23 [==============================] - 108s 5s/step - loss: 26.9766 - reconstruction_loss: 18.8229 - kl_loss: 8.9624\n",
            "Epoch 69/100\n",
            "23/23 [==============================] - 110s 5s/step - loss: 28.2480 - reconstruction_loss: 18.5080 - kl_loss: 9.8655\n",
            "Epoch 70/100\n",
            "23/23 [==============================] - 111s 5s/step - loss: 26.7095 - reconstruction_loss: 17.4712 - kl_loss: 9.3723\n",
            "Epoch 71/100\n",
            "23/23 [==============================] - ETA: 0s - loss: 26.0204 - reconstruction_loss: 17.3778 - kl_loss: 8.4830"
          ]
        },
        {
          "metadata": {
            "tags": null
          },
          "name": "stderr",
          "output_type": "stream",
          "text": [
            "WARNING:tensorflow:Model's `__init__()` arguments contain non-serializable objects. Please implement a `get_config()` method in the subclassed Model for proper saving and loading. Defaulting to empty config.\n",
            "WARNING:tensorflow:Model's `__init__()` arguments contain non-serializable objects. Please implement a `get_config()` method in the subclassed Model for proper saving and loading. Defaulting to empty config.\n",
            "WARNING:absl:Found untraced functions such as _update_step_xla, _jit_compiled_convolution_op, _jit_compiled_convolution_op, _jit_compiled_convolution_op, _jit_compiled_convolution_op while saving (showing 5 of 12). These functions will not be directly callable after loading.\n",
            "WARNING:tensorflow:Model's `__init__()` arguments contain non-serializable objects. Please implement a `get_config()` method in the subclassed Model for proper saving and loading. Defaulting to empty config.\n",
            "WARNING:tensorflow:Model's `__init__()` arguments contain non-serializable objects. Please implement a `get_config()` method in the subclassed Model for proper saving and loading. Defaulting to empty config.\n"
          ]
        },
        {
          "metadata": {
            "tags": null
          },
          "name": "stdout",
          "output_type": "stream",
          "text": [
            "23/23 [==============================] - 120s 5s/step - loss: 26.0137 - reconstruction_loss: 17.3778 - kl_loss: 8.4830\n",
            "Epoch 72/100\n",
            "23/23 [==============================] - 110s 5s/step - loss: 25.9155 - reconstruction_loss: 17.6915 - kl_loss: 8.8557\n",
            "Epoch 73/100\n",
            "23/23 [==============================] - 110s 5s/step - loss: 28.8975 - reconstruction_loss: 18.3094 - kl_loss: 8.7083\n",
            "Epoch 74/100\n",
            "23/23 [==============================] - 119s 5s/step - loss: 26.6780 - reconstruction_loss: 18.0965 - kl_loss: 8.4910\n",
            "Epoch 75/100\n",
            "23/23 [==============================] - 111s 5s/step - loss: 25.8804 - reconstruction_loss: 17.6828 - kl_loss: 8.6204\n",
            "Epoch 76/100\n",
            "23/23 [==============================] - 111s 5s/step - loss: 25.8125 - reconstruction_loss: 17.0203 - kl_loss: 8.8944\n",
            "Epoch 77/100\n",
            "23/23 [==============================] - 110s 5s/step - loss: 25.4970 - reconstruction_loss: 17.5252 - kl_loss: 8.4043\n",
            "Epoch 78/100\n",
            "23/23 [==============================] - 120s 5s/step - loss: 26.6166 - reconstruction_loss: 17.0212 - kl_loss: 9.3942\n",
            "Epoch 79/100\n",
            "23/23 [==============================] - 109s 5s/step - loss: 25.8875 - reconstruction_loss: 17.6744 - kl_loss: 8.5270\n",
            "Epoch 80/100\n",
            "23/23 [==============================] - 112s 5s/step - loss: 25.7308 - reconstruction_loss: 17.3690 - kl_loss: 8.6635\n",
            "Epoch 81/100\n",
            "23/23 [==============================] - ETA: 0s - loss: 25.3940 - reconstruction_loss: 16.7951 - kl_loss: 8.7433"
          ]
        },
        {
          "metadata": {
            "tags": null
          },
          "name": "stderr",
          "output_type": "stream",
          "text": [
            "WARNING:tensorflow:Model's `__init__()` arguments contain non-serializable objects. Please implement a `get_config()` method in the subclassed Model for proper saving and loading. Defaulting to empty config.\n",
            "WARNING:tensorflow:Model's `__init__()` arguments contain non-serializable objects. Please implement a `get_config()` method in the subclassed Model for proper saving and loading. Defaulting to empty config.\n",
            "WARNING:absl:Found untraced functions such as _update_step_xla, _jit_compiled_convolution_op, _jit_compiled_convolution_op, _jit_compiled_convolution_op, _jit_compiled_convolution_op while saving (showing 5 of 12). These functions will not be directly callable after loading.\n",
            "WARNING:tensorflow:Model's `__init__()` arguments contain non-serializable objects. Please implement a `get_config()` method in the subclassed Model for proper saving and loading. Defaulting to empty config.\n",
            "WARNING:tensorflow:Model's `__init__()` arguments contain non-serializable objects. Please implement a `get_config()` method in the subclassed Model for proper saving and loading. Defaulting to empty config.\n"
          ]
        },
        {
          "metadata": {
            "tags": null
          },
          "name": "stdout",
          "output_type": "stream",
          "text": [
            "23/23 [==============================] - 119s 5s/step - loss: 25.4000 - reconstruction_loss: 16.7951 - kl_loss: 8.7433\n",
            "Epoch 82/100\n",
            "23/23 [==============================] - ETA: 0s - loss: 25.2282 - reconstruction_loss: 16.8182 - kl_loss: 8.2380"
          ]
        },
        {
          "metadata": {
            "tags": null
          },
          "name": "stderr",
          "output_type": "stream",
          "text": [
            "WARNING:tensorflow:Model's `__init__()` arguments contain non-serializable objects. Please implement a `get_config()` method in the subclassed Model for proper saving and loading. Defaulting to empty config.\n",
            "WARNING:tensorflow:Model's `__init__()` arguments contain non-serializable objects. Please implement a `get_config()` method in the subclassed Model for proper saving and loading. Defaulting to empty config.\n",
            "WARNING:absl:Found untraced functions such as _update_step_xla, _jit_compiled_convolution_op, _jit_compiled_convolution_op, _jit_compiled_convolution_op, _jit_compiled_convolution_op while saving (showing 5 of 12). These functions will not be directly callable after loading.\n",
            "WARNING:tensorflow:Model's `__init__()` arguments contain non-serializable objects. Please implement a `get_config()` method in the subclassed Model for proper saving and loading. Defaulting to empty config.\n",
            "WARNING:tensorflow:Model's `__init__()` arguments contain non-serializable objects. Please implement a `get_config()` method in the subclassed Model for proper saving and loading. Defaulting to empty config.\n"
          ]
        },
        {
          "output_type": "stream",
          "name": "stdout",
          "text": [
            "23/23 [==============================] - 116s 5s/step - loss: 25.2211 - reconstruction_loss: 16.8182 - kl_loss: 8.2380\n",
            "Epoch 83/100\n",
            "23/23 [==============================] - 118s 5s/step - loss: 25.0475 - reconstruction_loss: 17.1839 - kl_loss: 8.4298\n",
            "Epoch 84/100\n",
            "23/23 [==============================] - ETA: 0s - loss: 24.7330 - reconstruction_loss: 16.4822 - kl_loss: 8.1427"
          ]
        },
        {
          "output_type": "stream",
          "name": "stderr",
          "text": [
            "WARNING:tensorflow:Model's `__init__()` arguments contain non-serializable objects. Please implement a `get_config()` method in the subclassed Model for proper saving and loading. Defaulting to empty config.\n",
            "WARNING:tensorflow:Model's `__init__()` arguments contain non-serializable objects. Please implement a `get_config()` method in the subclassed Model for proper saving and loading. Defaulting to empty config.\n",
            "WARNING:absl:Found untraced functions such as _update_step_xla, _jit_compiled_convolution_op, _jit_compiled_convolution_op, _jit_compiled_convolution_op, _jit_compiled_convolution_op while saving (showing 5 of 12). These functions will not be directly callable after loading.\n",
            "WARNING:tensorflow:Model's `__init__()` arguments contain non-serializable objects. Please implement a `get_config()` method in the subclassed Model for proper saving and loading. Defaulting to empty config.\n",
            "WARNING:tensorflow:Model's `__init__()` arguments contain non-serializable objects. Please implement a `get_config()` method in the subclassed Model for proper saving and loading. Defaulting to empty config.\n"
          ]
        },
        {
          "output_type": "stream",
          "name": "stdout",
          "text": [
            "\b\b\b\b\b\b\b\b\b\b\b\b\b\b\b\b\b\b\b\b\b\b\b\b\b\b\b\b\b\b\b\b\b\b\b\b\b\b\b\b\b\b\b\b\b\b\b\b\b\b\b\b\b\b\b\b\b\b\b\b\b\b\b\b\b\b\b\b\b\b\b\b\b\b\b\b\b\b\b\b\b\b\b\b\b\b\b\b\b\b\b\b\b\b\b\b\b\b\b\b\b\b\b\b\b\b\b\b\b\b\b\b\b\r23/23 [==============================] - 115s 5s/step - loss: 24.7285 - reconstruction_loss: 16.4822 - kl_loss: 8.1427\n",
            "Epoch 85/100\n",
            "23/23 [==============================] - 106s 5s/step - loss: 24.9337 - reconstruction_loss: 16.4438 - kl_loss: 8.1829\n",
            "Epoch 86/100\n",
            "23/23 [==============================] - 105s 5s/step - loss: 24.6431 - reconstruction_loss: 16.8994 - kl_loss: 8.2017\n",
            "Epoch 87/100\n",
            "23/23 [==============================] - 106s 5s/step - loss: 24.7529 - reconstruction_loss: 18.4286 - kl_loss: 8.1926\n",
            "Epoch 88/100\n",
            "23/23 [==============================] - 106s 5s/step - loss: 25.6255 - reconstruction_loss: 16.5661 - kl_loss: 8.9070\n",
            "Epoch 89/100\n",
            "23/23 [==============================] - 106s 5s/step - loss: 24.9954 - reconstruction_loss: 17.4799 - kl_loss: 7.7079\n",
            "Epoch 90/100\n",
            "23/23 [==============================] - 105s 5s/step - loss: 25.2963 - reconstruction_loss: 16.3956 - kl_loss: 8.8121\n",
            "Epoch 91/100\n",
            "23/23 [==============================] - 105s 5s/step - loss: 25.3171 - reconstruction_loss: 16.9192 - kl_loss: 8.0760\n",
            "Epoch 92/100\n",
            "23/23 [==============================] - 106s 5s/step - loss: 24.6506 - reconstruction_loss: 16.7865 - kl_loss: 8.1328\n",
            "Epoch 93/100\n",
            "23/23 [==============================] - 106s 5s/step - loss: 24.5683 - reconstruction_loss: 16.4196 - kl_loss: 8.2729\n",
            "Epoch 94/100\n",
            "23/23 [==============================] - ETA: 0s - loss: 24.4120 - reconstruction_loss: 16.5075 - kl_loss: 8.0833"
          ]
        },
        {
          "output_type": "stream",
          "name": "stderr",
          "text": [
            "WARNING:tensorflow:Model's `__init__()` arguments contain non-serializable objects. Please implement a `get_config()` method in the subclassed Model for proper saving and loading. Defaulting to empty config.\n",
            "WARNING:tensorflow:Model's `__init__()` arguments contain non-serializable objects. Please implement a `get_config()` method in the subclassed Model for proper saving and loading. Defaulting to empty config.\n",
            "WARNING:absl:Found untraced functions such as _update_step_xla, _jit_compiled_convolution_op, _jit_compiled_convolution_op, _jit_compiled_convolution_op, _jit_compiled_convolution_op while saving (showing 5 of 12). These functions will not be directly callable after loading.\n",
            "WARNING:tensorflow:Model's `__init__()` arguments contain non-serializable objects. Please implement a `get_config()` method in the subclassed Model for proper saving and loading. Defaulting to empty config.\n",
            "WARNING:tensorflow:Model's `__init__()` arguments contain non-serializable objects. Please implement a `get_config()` method in the subclassed Model for proper saving and loading. Defaulting to empty config.\n"
          ]
        },
        {
          "output_type": "stream",
          "name": "stdout",
          "text": [
            "\b\b\b\b\b\b\b\b\b\b\b\b\b\b\b\b\b\b\b\b\b\b\b\b\b\b\b\b\b\b\b\b\b\b\b\b\b\b\b\b\b\b\b\b\b\b\b\b\b\b\b\b\b\b\b\b\b\b\b\b\b\b\b\b\b\b\b\b\b\b\b\b\b\b\b\b\b\b\b\b\b\b\b\b\b\b\b\b\b\b\b\b\b\b\b\b\b\b\b\b\b\b\b\b\b\b\b\b\b\b\b\b\b\r23/23 [==============================] - 116s 5s/step - loss: 24.4195 - reconstruction_loss: 16.5075 - kl_loss: 8.0833\n",
            "Epoch 95/100\n",
            "23/23 [==============================] - 107s 5s/step - loss: 24.9242 - reconstruction_loss: 16.6463 - kl_loss: 8.0160\n",
            "Epoch 96/100\n",
            "23/23 [==============================] - ETA: 0s - loss: 24.6477 - reconstruction_loss: 16.3676 - kl_loss: 7.9451"
          ]
        },
        {
          "output_type": "stream",
          "name": "stderr",
          "text": [
            "WARNING:tensorflow:Model's `__init__()` arguments contain non-serializable objects. Please implement a `get_config()` method in the subclassed Model for proper saving and loading. Defaulting to empty config.\n",
            "WARNING:tensorflow:Model's `__init__()` arguments contain non-serializable objects. Please implement a `get_config()` method in the subclassed Model for proper saving and loading. Defaulting to empty config.\n",
            "WARNING:absl:Found untraced functions such as _update_step_xla, _jit_compiled_convolution_op, _jit_compiled_convolution_op, _jit_compiled_convolution_op, _jit_compiled_convolution_op while saving (showing 5 of 12). These functions will not be directly callable after loading.\n",
            "WARNING:tensorflow:Model's `__init__()` arguments contain non-serializable objects. Please implement a `get_config()` method in the subclassed Model for proper saving and loading. Defaulting to empty config.\n",
            "WARNING:tensorflow:Model's `__init__()` arguments contain non-serializable objects. Please implement a `get_config()` method in the subclassed Model for proper saving and loading. Defaulting to empty config.\n"
          ]
        },
        {
          "output_type": "stream",
          "name": "stdout",
          "text": [
            "\b\b\b\b\b\b\b\b\b\b\b\b\b\b\b\b\b\b\b\b\b\b\b\b\b\b\b\b\b\b\b\b\b\b\b\b\b\b\b\b\b\b\b\b\b\b\b\b\b\b\b\b\b\b\b\b\b\b\b\b\b\b\b\b\b\b\b\b\b\b\b\b\b\b\b\b\b\b\b\b\b\b\b\b\b\b\b\b\b\b\b\b\b\b\b\b\b\b\b\b\b\b\b\b\b\b\b\b\b\b\b\b\b\r23/23 [==============================] - 114s 5s/step - loss: 24.6337 - reconstruction_loss: 16.3676 - kl_loss: 7.9451\n",
            "Epoch 97/100\n",
            "23/23 [==============================] - ETA: 0s - loss: 23.4664 - reconstruction_loss: 15.7859 - kl_loss: 7.6337"
          ]
        },
        {
          "output_type": "stream",
          "name": "stderr",
          "text": [
            "WARNING:tensorflow:Model's `__init__()` arguments contain non-serializable objects. Please implement a `get_config()` method in the subclassed Model for proper saving and loading. Defaulting to empty config.\n",
            "WARNING:tensorflow:Model's `__init__()` arguments contain non-serializable objects. Please implement a `get_config()` method in the subclassed Model for proper saving and loading. Defaulting to empty config.\n",
            "WARNING:absl:Found untraced functions such as _update_step_xla, _jit_compiled_convolution_op, _jit_compiled_convolution_op, _jit_compiled_convolution_op, _jit_compiled_convolution_op while saving (showing 5 of 12). These functions will not be directly callable after loading.\n",
            "WARNING:tensorflow:Model's `__init__()` arguments contain non-serializable objects. Please implement a `get_config()` method in the subclassed Model for proper saving and loading. Defaulting to empty config.\n",
            "WARNING:tensorflow:Model's `__init__()` arguments contain non-serializable objects. Please implement a `get_config()` method in the subclassed Model for proper saving and loading. Defaulting to empty config.\n"
          ]
        },
        {
          "output_type": "stream",
          "name": "stdout",
          "text": [
            "\b\b\b\b\b\b\b\b\b\b\b\b\b\b\b\b\b\b\b\b\b\b\b\b\b\b\b\b\b\b\b\b\b\b\b\b\b\b\b\b\b\b\b\b\b\b\b\b\b\b\b\b\b\b\b\b\b\b\b\b\b\b\b\b\b\b\b\b\b\b\b\b\b\b\b\b\b\b\b\b\b\b\b\b\b\b\b\b\b\b\b\b\b\b\b\b\b\b\b\b\b\b\b\b\b\b\b\b\b\b\b\b\b\r23/23 [==============================] - 115s 5s/step - loss: 23.4645 - reconstruction_loss: 15.7859 - kl_loss: 7.6337\n",
            "Epoch 98/100\n",
            "23/23 [==============================] - 105s 5s/step - loss: 23.5945 - reconstruction_loss: 16.2069 - kl_loss: 8.3890\n",
            "Epoch 99/100\n",
            "23/23 [==============================] - 106s 5s/step - loss: 24.3067 - reconstruction_loss: 16.0890 - kl_loss: 8.1839\n",
            "Epoch 100/100\n",
            "23/23 [==============================] - 105s 5s/step - loss: 23.7292 - reconstruction_loss: 16.4009 - kl_loss: 7.6511\n"
          ]
        },
        {
          "output_type": "execute_result",
          "data": {
            "text/plain": [
              "<keras.callbacks.History at 0x7b695f5a2f50>"
            ]
          },
          "metadata": {},
          "execution_count": 28
        }
      ]
    },
    {
      "cell_type": "code",
      "source": [
        "batches_to_predict = 1\n",
        "example_images = np.array(\n",
        "    list(train.take(batches_to_predict).get_single_element())\n",
        ")"
      ],
      "metadata": {
        "id": "EaCeQd0CkcRX"
      },
      "execution_count": 17,
      "outputs": []
    },
    {
      "cell_type": "code",
      "source": [
        "z_mean, z_log_var, reconstructions = vae.predict(example_images)\n",
        "print(\"Example real faces\")\n",
        "display(example_images)\n",
        "print(\"Reconstructions\")\n",
        "display(reconstructions)"
      ],
      "metadata": {
        "colab": {
          "base_uri": "https://localhost:8080/",
          "height": 1000
        },
        "id": "Td5iqCQQkpf3",
        "outputId": "4c928a41-8c83-4d71-d762-f50edd758096"
      },
      "execution_count": 18,
      "outputs": [
        {
          "output_type": "stream",
          "name": "stdout",
          "text": [
            "1/1 [==============================] - 2s 2s/step\n",
            "Example real faces\n"
          ]
        },
        {
          "output_type": "display_data",
          "data": {
            "text/plain": [
              "array([[[[6.15686297e-01, 5.41176498e-01, 5.56862772e-01],\n",
              "         [6.19240224e-01, 5.44730365e-01, 5.60416639e-01],\n",
              "         [6.19607866e-01, 5.55024505e-01, 5.67401946e-01],\n",
              "         ...,\n",
              "         [5.95465660e-01, 4.73897070e-01, 4.66053933e-01],\n",
              "         [5.92156887e-01, 4.70588237e-01, 4.62745100e-01],\n",
              "         [5.92156887e-01, 4.70588237e-01, 4.62745100e-01]],\n",
              "\n",
              "        [[6.19240224e-01, 5.44730365e-01, 5.60416639e-01],\n",
              "         [6.19573355e-01, 5.45063555e-01, 5.60749829e-01],\n",
              "         [6.19607866e-01, 5.55024505e-01, 5.67401946e-01],\n",
              "         ...,\n",
              "         [5.96020997e-01, 4.74452347e-01, 4.66609210e-01],\n",
              "         [5.95377624e-01, 4.73808974e-01, 4.65965837e-01],\n",
              "         [5.92156887e-01, 4.70588237e-01, 4.62745100e-01]],\n",
              "\n",
              "        [[6.19607866e-01, 5.45098066e-01, 5.60784340e-01],\n",
              "         [6.22606456e-01, 5.48096657e-01, 5.63782930e-01],\n",
              "         [6.20124876e-01, 5.55541515e-01, 5.67918956e-01],\n",
              "         ...,\n",
              "         [5.96078455e-01, 4.77818638e-01, 4.69975501e-01],\n",
              "         [5.95710814e-01, 4.77450967e-01, 4.69607830e-01],\n",
              "         [5.92156887e-01, 4.73897070e-01, 4.66053933e-01]],\n",
              "\n",
              "        ...,\n",
              "\n",
              "        [[5.99387228e-01, 5.28798997e-01, 5.13112724e-01],\n",
              "         [6.02941155e-01, 5.32352924e-01, 5.16666651e-01],\n",
              "         [6.07134640e-01, 5.36546409e-01, 5.20860136e-01],\n",
              "         ...,\n",
              "         [5.99387228e-01, 5.78553915e-01, 5.55024505e-01],\n",
              "         [5.96078455e-01, 5.75245082e-01, 5.51715672e-01],\n",
              "         [5.96078455e-01, 5.75245082e-01, 5.51715672e-01]],\n",
              "\n",
              "        [[5.96446097e-01, 5.25857866e-01, 5.10171592e-01],\n",
              "         [5.99666834e-01, 5.29078603e-01, 5.13392329e-01],\n",
              "         [6.06617630e-01, 5.36029398e-01, 5.20343125e-01],\n",
              "         ...,\n",
              "         [5.99077046e-01, 5.71626067e-01, 5.48096657e-01],\n",
              "         [5.96043944e-01, 5.68592966e-01, 5.45063555e-01],\n",
              "         [5.95710814e-01, 5.68259776e-01, 5.44730365e-01]],\n",
              "\n",
              "        [[6.00000024e-01, 5.29411793e-01, 5.13725519e-01],\n",
              "         [6.00000024e-01, 5.29411793e-01, 5.13725519e-01],\n",
              "         [6.06617630e-01, 5.36029398e-01, 5.20343125e-01],\n",
              "         ...,\n",
              "         [5.96078455e-01, 5.68627477e-01, 5.45098066e-01],\n",
              "         [5.95710814e-01, 5.68259776e-01, 5.44730365e-01],\n",
              "         [5.92156887e-01, 5.64705908e-01, 5.41176498e-01]]],\n",
              "\n",
              "\n",
              "       [[[0.00000000e+00, 0.00000000e+00, 0.00000000e+00],\n",
              "         [0.00000000e+00, 0.00000000e+00, 0.00000000e+00],\n",
              "         [0.00000000e+00, 0.00000000e+00, 0.00000000e+00],\n",
              "         ...,\n",
              "         [0.00000000e+00, 0.00000000e+00, 0.00000000e+00],\n",
              "         [0.00000000e+00, 0.00000000e+00, 0.00000000e+00],\n",
              "         [0.00000000e+00, 0.00000000e+00, 0.00000000e+00]],\n",
              "\n",
              "        [[0.00000000e+00, 0.00000000e+00, 0.00000000e+00],\n",
              "         [0.00000000e+00, 0.00000000e+00, 0.00000000e+00],\n",
              "         [0.00000000e+00, 0.00000000e+00, 0.00000000e+00],\n",
              "         ...,\n",
              "         [0.00000000e+00, 0.00000000e+00, 0.00000000e+00],\n",
              "         [0.00000000e+00, 0.00000000e+00, 0.00000000e+00],\n",
              "         [0.00000000e+00, 0.00000000e+00, 0.00000000e+00]],\n",
              "\n",
              "        [[0.00000000e+00, 0.00000000e+00, 0.00000000e+00],\n",
              "         [0.00000000e+00, 0.00000000e+00, 0.00000000e+00],\n",
              "         [0.00000000e+00, 0.00000000e+00, 0.00000000e+00],\n",
              "         ...,\n",
              "         [0.00000000e+00, 0.00000000e+00, 0.00000000e+00],\n",
              "         [0.00000000e+00, 0.00000000e+00, 0.00000000e+00],\n",
              "         [0.00000000e+00, 0.00000000e+00, 0.00000000e+00]],\n",
              "\n",
              "        ...,\n",
              "\n",
              "        [[0.00000000e+00, 0.00000000e+00, 0.00000000e+00],\n",
              "         [0.00000000e+00, 0.00000000e+00, 0.00000000e+00],\n",
              "         [0.00000000e+00, 0.00000000e+00, 0.00000000e+00],\n",
              "         ...,\n",
              "         [0.00000000e+00, 0.00000000e+00, 0.00000000e+00],\n",
              "         [0.00000000e+00, 0.00000000e+00, 0.00000000e+00],\n",
              "         [0.00000000e+00, 0.00000000e+00, 0.00000000e+00]],\n",
              "\n",
              "        [[0.00000000e+00, 0.00000000e+00, 0.00000000e+00],\n",
              "         [0.00000000e+00, 0.00000000e+00, 0.00000000e+00],\n",
              "         [0.00000000e+00, 0.00000000e+00, 0.00000000e+00],\n",
              "         ...,\n",
              "         [0.00000000e+00, 0.00000000e+00, 0.00000000e+00],\n",
              "         [0.00000000e+00, 0.00000000e+00, 0.00000000e+00],\n",
              "         [0.00000000e+00, 0.00000000e+00, 0.00000000e+00]],\n",
              "\n",
              "        [[0.00000000e+00, 0.00000000e+00, 0.00000000e+00],\n",
              "         [0.00000000e+00, 0.00000000e+00, 0.00000000e+00],\n",
              "         [0.00000000e+00, 0.00000000e+00, 0.00000000e+00],\n",
              "         ...,\n",
              "         [0.00000000e+00, 0.00000000e+00, 0.00000000e+00],\n",
              "         [0.00000000e+00, 0.00000000e+00, 0.00000000e+00],\n",
              "         [0.00000000e+00, 0.00000000e+00, 0.00000000e+00]]],\n",
              "\n",
              "\n",
              "       [[[0.00000000e+00, 0.00000000e+00, 0.00000000e+00],\n",
              "         [0.00000000e+00, 0.00000000e+00, 0.00000000e+00],\n",
              "         [0.00000000e+00, 0.00000000e+00, 0.00000000e+00],\n",
              "         ...,\n",
              "         [0.00000000e+00, 0.00000000e+00, 0.00000000e+00],\n",
              "         [0.00000000e+00, 0.00000000e+00, 0.00000000e+00],\n",
              "         [0.00000000e+00, 0.00000000e+00, 0.00000000e+00]],\n",
              "\n",
              "        [[0.00000000e+00, 0.00000000e+00, 0.00000000e+00],\n",
              "         [0.00000000e+00, 0.00000000e+00, 0.00000000e+00],\n",
              "         [0.00000000e+00, 0.00000000e+00, 0.00000000e+00],\n",
              "         ...,\n",
              "         [0.00000000e+00, 0.00000000e+00, 0.00000000e+00],\n",
              "         [0.00000000e+00, 0.00000000e+00, 0.00000000e+00],\n",
              "         [0.00000000e+00, 0.00000000e+00, 0.00000000e+00]],\n",
              "\n",
              "        [[0.00000000e+00, 0.00000000e+00, 0.00000000e+00],\n",
              "         [0.00000000e+00, 0.00000000e+00, 0.00000000e+00],\n",
              "         [0.00000000e+00, 0.00000000e+00, 0.00000000e+00],\n",
              "         ...,\n",
              "         [0.00000000e+00, 0.00000000e+00, 0.00000000e+00],\n",
              "         [0.00000000e+00, 0.00000000e+00, 0.00000000e+00],\n",
              "         [0.00000000e+00, 0.00000000e+00, 0.00000000e+00]],\n",
              "\n",
              "        ...,\n",
              "\n",
              "        [[0.00000000e+00, 0.00000000e+00, 0.00000000e+00],\n",
              "         [0.00000000e+00, 0.00000000e+00, 0.00000000e+00],\n",
              "         [0.00000000e+00, 0.00000000e+00, 0.00000000e+00],\n",
              "         ...,\n",
              "         [0.00000000e+00, 0.00000000e+00, 0.00000000e+00],\n",
              "         [0.00000000e+00, 0.00000000e+00, 0.00000000e+00],\n",
              "         [0.00000000e+00, 0.00000000e+00, 0.00000000e+00]],\n",
              "\n",
              "        [[0.00000000e+00, 0.00000000e+00, 0.00000000e+00],\n",
              "         [0.00000000e+00, 0.00000000e+00, 0.00000000e+00],\n",
              "         [0.00000000e+00, 0.00000000e+00, 0.00000000e+00],\n",
              "         ...,\n",
              "         [0.00000000e+00, 0.00000000e+00, 0.00000000e+00],\n",
              "         [0.00000000e+00, 0.00000000e+00, 0.00000000e+00],\n",
              "         [0.00000000e+00, 0.00000000e+00, 0.00000000e+00]],\n",
              "\n",
              "        [[0.00000000e+00, 0.00000000e+00, 0.00000000e+00],\n",
              "         [0.00000000e+00, 0.00000000e+00, 0.00000000e+00],\n",
              "         [0.00000000e+00, 0.00000000e+00, 0.00000000e+00],\n",
              "         ...,\n",
              "         [0.00000000e+00, 0.00000000e+00, 0.00000000e+00],\n",
              "         [0.00000000e+00, 0.00000000e+00, 0.00000000e+00],\n",
              "         [0.00000000e+00, 0.00000000e+00, 0.00000000e+00]]],\n",
              "\n",
              "\n",
              "       ...,\n",
              "\n",
              "\n",
              "       [[[0.00000000e+00, 1.17647061e-02, 3.92156886e-03],\n",
              "         [0.00000000e+00, 1.17647061e-02, 3.92156886e-03],\n",
              "         [0.00000000e+00, 8.45588278e-03, 6.12745120e-04],\n",
              "         ...,\n",
              "         [2.08333340e-02, 5.14705898e-03, 9.06862784e-03],\n",
              "         [2.78186277e-02, 1.21323531e-02, 1.60539225e-02],\n",
              "         [3.13725509e-02, 1.56862754e-02, 1.96078438e-02]],\n",
              "\n",
              "        [[0.00000000e+00, 1.53186275e-02, 7.47549022e-03],\n",
              "         [0.00000000e+00, 1.53186275e-02, 7.47549022e-03],\n",
              "         [0.00000000e+00, 1.80070475e-02, 4.16666688e-03],\n",
              "         ...,\n",
              "         [2.38319542e-02, 8.14567972e-03, 1.20672490e-02],\n",
              "         [2.78186277e-02, 1.21323531e-02, 1.60539225e-02],\n",
              "         [3.13725509e-02, 1.56862754e-02, 1.96078438e-02]],\n",
              "\n",
              "        [[0.00000000e+00, 1.56862754e-02, 1.22549024e-03],\n",
              "         [0.00000000e+00, 2.16835178e-02, 7.22273299e-03],\n",
              "         [8.37545935e-03, 2.84045655e-02, 1.29097737e-02],\n",
              "         ...,\n",
              "         [1.80415139e-02, 8.97288602e-03, 1.28944544e-02],\n",
              "         [2.38894001e-02, 1.48207722e-02, 1.87423415e-02],\n",
              "         [2.14460790e-02, 1.23774512e-02, 1.62990205e-02]],\n",
              "\n",
              "        ...,\n",
              "\n",
              "        [[9.64460820e-02, 7.41421580e-02, 7.35294148e-02],\n",
              "         [1.24877453e-01, 1.02573529e-01, 1.01960786e-01],\n",
              "         [1.63698688e-01, 1.41394764e-01, 1.40782014e-01],\n",
              "         ...,\n",
              "         [2.79181986e-03, 2.79181986e-03, 2.79181986e-03],\n",
              "         [0.00000000e+00, 0.00000000e+00, 0.00000000e+00],\n",
              "         [0.00000000e+00, 0.00000000e+00, 0.00000000e+00]],\n",
              "\n",
              "        [[6.33578449e-02, 4.87745106e-02, 4.44852933e-02],\n",
              "         [9.17892158e-02, 7.72058815e-02, 7.29166642e-02],\n",
              "         [1.28439039e-01, 1.12925090e-01, 1.08946078e-01],\n",
              "         ...,\n",
              "         [0.00000000e+00, 0.00000000e+00, 0.00000000e+00],\n",
              "         [3.44669133e-05, 3.44669133e-05, 3.44669133e-05],\n",
              "         [3.67647066e-04, 3.67647066e-04, 3.67647066e-04]],\n",
              "\n",
              "        [[3.13725509e-02, 2.74509806e-02, 1.96078438e-02],\n",
              "         [5.98039217e-02, 5.58823533e-02, 4.80392165e-02],\n",
              "         [1.02450982e-01, 8.86029378e-02, 8.40686262e-02],\n",
              "         ...,\n",
              "         [0.00000000e+00, 0.00000000e+00, 0.00000000e+00],\n",
              "         [3.67647066e-04, 3.67647066e-04, 3.67647066e-04],\n",
              "         [3.92156886e-03, 3.92156886e-03, 3.92156886e-03]]],\n",
              "\n",
              "\n",
              "       [[[2.07843140e-01, 1.68627456e-01, 1.64705887e-01],\n",
              "         [2.22058818e-01, 1.82843134e-01, 1.78921565e-01],\n",
              "         [2.50000000e-01, 2.07475483e-01, 2.00245097e-01],\n",
              "         ...,\n",
              "         [4.46078420e-01, 4.02941167e-01, 3.87254894e-01],\n",
              "         [4.16666657e-01, 3.73529404e-01, 3.57843131e-01],\n",
              "         [3.88235301e-01, 3.45098048e-01, 3.29411775e-01]],\n",
              "\n",
              "        [[2.22058818e-01, 1.82843134e-01, 1.78921565e-01],\n",
              "         [2.36274511e-01, 1.97058827e-01, 1.93137258e-01],\n",
              "         [2.67214298e-01, 2.24689797e-01, 2.17459410e-01],\n",
              "         ...,\n",
              "         [4.61404711e-01, 4.18267459e-01, 4.02581185e-01],\n",
              "         [4.37990189e-01, 3.94852936e-01, 3.79166663e-01],\n",
              "         [4.09558833e-01, 3.66421580e-01, 3.50735307e-01]],\n",
              "\n",
              "        [[2.43382350e-01, 2.04166666e-01, 1.96936280e-01],\n",
              "         [2.60596663e-01, 2.21380979e-01, 2.14150578e-01],\n",
              "         [2.92156875e-01, 2.49632359e-01, 2.41884962e-01],\n",
              "         ...,\n",
              "         [4.89460796e-01, 4.39705878e-01, 4.17401969e-01],\n",
              "         [4.66976881e-01, 4.17221963e-01, 3.94918054e-01],\n",
              "         [4.41544116e-01, 3.91789228e-01, 3.69485289e-01]],\n",
              "\n",
              "        ...,\n",
              "\n",
              "        [[0.00000000e+00, 4.53431392e-03, 6.12745120e-04],\n",
              "         [0.00000000e+00, 5.08961407e-03, 1.16804533e-03],\n",
              "         [0.00000000e+00, 7.93887861e-03, 4.01731022e-03],\n",
              "         ...,\n",
              "         [3.89437824e-02, 3.89437824e-02, 3.89437824e-02],\n",
              "         [2.54901964e-02, 2.54901964e-02, 2.54901964e-02],\n",
              "         [1.83823537e-02, 1.83823537e-02, 1.83823537e-02]],\n",
              "\n",
              "        [[0.00000000e+00, 8.21078476e-03, 4.28921590e-03],\n",
              "         [0.00000000e+00, 1.17647061e-02, 7.84313772e-03],\n",
              "         [3.10202216e-04, 1.24425553e-02, 8.52098688e-03],\n",
              "         ...,\n",
              "         [2.84313727e-02, 2.84313727e-02, 2.84313727e-02],\n",
              "         [1.78040750e-02, 1.78040750e-02, 1.78040750e-02],\n",
              "         [1.10294120e-02, 1.10294120e-02, 1.10294120e-02]],\n",
              "\n",
              "        [[0.00000000e+00, 1.17647061e-02, 7.84313772e-03],\n",
              "         [0.00000000e+00, 1.53186275e-02, 1.13970591e-02],\n",
              "         [3.30882357e-03, 1.89950988e-02, 1.50735294e-02],\n",
              "         ...,\n",
              "         [1.77696086e-02, 1.77696086e-02, 1.77696086e-02],\n",
              "         [7.47549022e-03, 7.47549022e-03, 7.47549022e-03],\n",
              "         [3.92156886e-03, 3.92156886e-03, 3.92156886e-03]]],\n",
              "\n",
              "\n",
              "       [[[4.66666669e-01, 2.58823544e-01, 2.35294119e-01],\n",
              "         [4.87990201e-01, 2.80147046e-01, 2.56617635e-01],\n",
              "         [5.19975483e-01, 3.05514693e-01, 2.78676480e-01],\n",
              "         ...,\n",
              "         [3.65563720e-01, 1.86397061e-01, 1.36642158e-01],\n",
              "         [3.48651975e-01, 1.76102936e-01, 1.32965684e-01],\n",
              "         [3.45098048e-01, 1.72549024e-01, 1.29411772e-01]],\n",
              "\n",
              "        [[4.80882347e-01, 2.73039222e-01, 2.49509797e-01],\n",
              "         [4.98985142e-01, 2.91142017e-01, 2.61171103e-01],\n",
              "         [5.24640024e-01, 3.10179234e-01, 2.82230407e-01],\n",
              "         ...,\n",
              "         [3.77336085e-01, 1.96503520e-01, 1.47303924e-01],\n",
              "         [3.65755200e-01, 1.83543965e-01, 1.43627450e-01],\n",
              "         [3.55759799e-01, 1.83210790e-01, 1.40073523e-01]],\n",
              "\n",
              "        [[5.02205908e-01, 2.87745088e-01, 2.60906875e-01],\n",
              "         [5.13978243e-01, 2.99517453e-01, 2.71568626e-01],\n",
              "         [5.35566032e-01, 3.14487606e-01, 2.86940873e-01],\n",
              "         ...,\n",
              "         [3.92306209e-01, 2.05200672e-01, 1.57816336e-01],\n",
              "         [3.84378821e-01, 1.97549015e-01, 1.51348040e-01],\n",
              "         [3.76715690e-01, 1.97549015e-01, 1.47794113e-01]],\n",
              "\n",
              "        ...,\n",
              "\n",
              "        [[5.62500000e-01, 3.62500012e-01, 2.89215684e-01],\n",
              "         [5.46396315e-01, 3.46396297e-01, 2.73111969e-01],\n",
              "         [5.43489575e-01, 3.43489587e-01, 2.70205259e-01],\n",
              "         ...,\n",
              "         [4.54534322e-01, 2.74142146e-01, 2.16544122e-01],\n",
              "         [4.44240183e-01, 2.63848037e-01, 2.12867647e-01],\n",
              "         [4.40686285e-01, 2.60294110e-01, 2.09313720e-01]],\n",
              "\n",
              "        [[5.29411793e-01, 3.29411775e-01, 2.62745112e-01],\n",
              "         [5.23636639e-01, 3.23636651e-01, 2.56969988e-01],\n",
              "         [5.32655478e-01, 3.32655489e-01, 2.65988827e-01],\n",
              "         ...,\n",
              "         [4.40563738e-01, 2.60171562e-01, 2.02573523e-01],\n",
              "         [4.30269599e-01, 2.49877453e-01, 1.98897064e-01],\n",
              "         [4.26715672e-01, 2.46323526e-01, 1.95343137e-01]],\n",
              "\n",
              "        [[5.29411793e-01, 3.29411775e-01, 2.62745112e-01],\n",
              "         [5.36519587e-01, 3.36519599e-01, 2.69852936e-01],\n",
              "         [5.43872535e-01, 3.43872547e-01, 2.77205884e-01],\n",
              "         ...,\n",
              "         [4.33455884e-01, 2.53063738e-01, 1.95465684e-01],\n",
              "         [4.23161775e-01, 2.42769614e-01, 1.91789210e-01],\n",
              "         [4.19607848e-01, 2.39215687e-01, 1.88235298e-01]]]],\n",
              "      dtype=float32)"
            ]
          },
          "metadata": {}
        },
        {
          "output_type": "stream",
          "name": "stdout",
          "text": [
            "Reconstructions\n"
          ]
        },
        {
          "output_type": "display_data",
          "data": {
            "text/plain": [
              "array([[[[0.3118446 , 0.30829677, 0.28200865],\n",
              "         [0.30671883, 0.24635604, 0.21494158],\n",
              "         [0.2497481 , 0.19169189, 0.17709573],\n",
              "         ...,\n",
              "         [0.44473326, 0.39120656, 0.34327567],\n",
              "         [0.44607297, 0.37076962, 0.3615683 ],\n",
              "         [0.44114974, 0.3724915 , 0.30364102]],\n",
              "\n",
              "        [[0.274826  , 0.23879467, 0.21625024],\n",
              "         [0.23649254, 0.18155056, 0.16059707],\n",
              "         [0.21304063, 0.14894268, 0.15117975],\n",
              "         ...,\n",
              "         [0.45925793, 0.38122228, 0.37527648],\n",
              "         [0.4474472 , 0.33896434, 0.36300302],\n",
              "         [0.44611922, 0.33787182, 0.35753652]],\n",
              "\n",
              "        [[0.23680313, 0.21411465, 0.20002168],\n",
              "         [0.18718393, 0.12197696, 0.15908746],\n",
              "         [0.15607528, 0.11995889, 0.12122025],\n",
              "         ...,\n",
              "         [0.43825427, 0.35659444, 0.3529482 ],\n",
              "         [0.4031976 , 0.33122462, 0.32538128],\n",
              "         [0.4015699 , 0.31273776, 0.36769623]],\n",
              "\n",
              "        ...,\n",
              "\n",
              "        [[0.42139882, 0.35654044, 0.340301  ],\n",
              "         [0.44567466, 0.30417162, 0.31208584],\n",
              "         [0.44228655, 0.32547608, 0.31306013],\n",
              "         ...,\n",
              "         [0.578419  , 0.4704329 , 0.45443434],\n",
              "         [0.5813152 , 0.46455222, 0.4609568 ],\n",
              "         [0.5265293 , 0.41238692, 0.42788628]],\n",
              "\n",
              "        [[0.42859283, 0.3163889 , 0.30958045],\n",
              "         [0.40819186, 0.2836253 , 0.29964966],\n",
              "         [0.36596954, 0.2731595 , 0.27487308],\n",
              "         ...,\n",
              "         [0.5684975 , 0.44535163, 0.43403456],\n",
              "         [0.55124724, 0.42130724, 0.42490885],\n",
              "         [0.48063454, 0.40210584, 0.3795082 ]],\n",
              "\n",
              "        [[0.3950084 , 0.3086198 , 0.37209523],\n",
              "         [0.3420202 , 0.29790002, 0.307955  ],\n",
              "         [0.35521156, 0.26239112, 0.33079344],\n",
              "         ...,\n",
              "         [0.44910815, 0.38542295, 0.3848418 ],\n",
              "         [0.44428805, 0.35912102, 0.3772568 ],\n",
              "         [0.41567597, 0.34173742, 0.36684063]]],\n",
              "\n",
              "\n",
              "       [[[0.23481312, 0.24160948, 0.2118571 ],\n",
              "         [0.20419917, 0.16532004, 0.14155151],\n",
              "         [0.15106554, 0.12114391, 0.10863063],\n",
              "         ...,\n",
              "         [0.1459648 , 0.12068577, 0.11037506],\n",
              "         [0.16093746, 0.14023532, 0.12739201],\n",
              "         [0.23302397, 0.17107284, 0.16262211]],\n",
              "\n",
              "        [[0.18724306, 0.16821109, 0.14928588],\n",
              "         [0.14070554, 0.11055247, 0.0842603 ],\n",
              "         [0.11262462, 0.08141883, 0.07905291],\n",
              "         ...,\n",
              "         [0.10901839, 0.09418334, 0.07704531],\n",
              "         [0.13425851, 0.09296379, 0.09664997],\n",
              "         [0.2144715 , 0.13394171, 0.17571265]],\n",
              "\n",
              "        [[0.14092663, 0.13765442, 0.12885849],\n",
              "         [0.09790418, 0.06746478, 0.08136397],\n",
              "         [0.06722268, 0.05895814, 0.06109142],\n",
              "         ...,\n",
              "         [0.0786083 , 0.0610689 , 0.07176544],\n",
              "         [0.08893573, 0.07665991, 0.07883195],\n",
              "         [0.16613688, 0.10957934, 0.17951699]],\n",
              "\n",
              "        ...,\n",
              "\n",
              "        [[0.09555882, 0.10514596, 0.08519238],\n",
              "         [0.06516118, 0.0552494 , 0.04272555],\n",
              "         [0.04304956, 0.03959968, 0.04319957],\n",
              "         ...,\n",
              "         [0.13998966, 0.11608084, 0.09828961],\n",
              "         [0.16646808, 0.12856372, 0.12601313],\n",
              "         [0.2360548 , 0.16100322, 0.19926974]],\n",
              "\n",
              "        [[0.1155043 , 0.11414059, 0.10176471],\n",
              "         [0.07883807, 0.05638147, 0.06450549],\n",
              "         [0.04969909, 0.04647718, 0.04952634],\n",
              "         ...,\n",
              "         [0.15026848, 0.11606111, 0.11444864],\n",
              "         [0.16169645, 0.14142947, 0.1395671 ],\n",
              "         [0.22840391, 0.1769082 , 0.20634092]],\n",
              "\n",
              "        [[0.18736386, 0.13743468, 0.19583143],\n",
              "         [0.11208252, 0.13480493, 0.11468296],\n",
              "         [0.09743202, 0.07548066, 0.1474899 ],\n",
              "         ...,\n",
              "         [0.16494443, 0.18010715, 0.16876245],\n",
              "         [0.18224463, 0.15049037, 0.20073988],\n",
              "         [0.26990527, 0.22388406, 0.2916291 ]]],\n",
              "\n",
              "\n",
              "       [[[0.3264106 , 0.32834116, 0.29624224],\n",
              "         [0.32969058, 0.26300502, 0.23214747],\n",
              "         [0.2700348 , 0.20454672, 0.18946297],\n",
              "         ...,\n",
              "         [0.25187913, 0.21887526, 0.19424646],\n",
              "         [0.25963292, 0.21981359, 0.21067399],\n",
              "         [0.3154414 , 0.24240892, 0.22009028]],\n",
              "\n",
              "        [[0.2919924 , 0.25556836, 0.23157138],\n",
              "         [0.25928178, 0.19960913, 0.17523862],\n",
              "         [0.23678477, 0.16093539, 0.1686883 ],\n",
              "         ...,\n",
              "         [0.23205096, 0.19126117, 0.18151155],\n",
              "         [0.24510184, 0.17440905, 0.18201604],\n",
              "         [0.3101704 , 0.20607056, 0.24076189]],\n",
              "\n",
              "        [[0.25656712, 0.22928545, 0.2140521 ],\n",
              "         [0.20484258, 0.13511528, 0.17317943],\n",
              "         [0.17223054, 0.13225569, 0.13359064],\n",
              "         ...,\n",
              "         [0.20397848, 0.16269667, 0.16147041],\n",
              "         [0.19645566, 0.15891622, 0.1609161 ],\n",
              "         [0.25856707, 0.18341017, 0.25030372]],\n",
              "\n",
              "        ...,\n",
              "\n",
              "        [[0.29562977, 0.26983166, 0.23984215],\n",
              "         [0.30348685, 0.19566458, 0.19734108],\n",
              "         [0.266163  , 0.18915412, 0.20088428],\n",
              "         ...,\n",
              "         [0.5829067 , 0.4619166 , 0.44779164],\n",
              "         [0.5821773 , 0.45356622, 0.44831005],\n",
              "         [0.5113605 , 0.39777085, 0.40889263]],\n",
              "\n",
              "        [[0.3226416 , 0.24650061, 0.23711461],\n",
              "         [0.28450996, 0.18609914, 0.21369968],\n",
              "         [0.24174808, 0.18489966, 0.1861563 ],\n",
              "         ...,\n",
              "         [0.5733539 , 0.44246313, 0.43106878],\n",
              "         [0.53050965, 0.41530997, 0.4174304 ],\n",
              "         [0.4756198 , 0.38381022, 0.37170622]],\n",
              "\n",
              "        [[0.33223382, 0.25141877, 0.31859833],\n",
              "         [0.2568785 , 0.24061169, 0.23264556],\n",
              "         [0.27016196, 0.19573285, 0.27269518],\n",
              "         ...,\n",
              "         [0.4443019 , 0.38700998, 0.39200735],\n",
              "         [0.43210456, 0.36125803, 0.37005025],\n",
              "         [0.41125035, 0.33697316, 0.36436692]]],\n",
              "\n",
              "\n",
              "       ...,\n",
              "\n",
              "\n",
              "       [[[0.24675886, 0.25225323, 0.2214742 ],\n",
              "         [0.21807176, 0.17598729, 0.15366215],\n",
              "         [0.16343975, 0.12976821, 0.11616116],\n",
              "         ...,\n",
              "         [0.09907894, 0.07886741, 0.07187565],\n",
              "         [0.12436517, 0.10896947, 0.09867676],\n",
              "         [0.20349853, 0.14375436, 0.14311504]],\n",
              "\n",
              "        [[0.19868538, 0.17956577, 0.1589806 ],\n",
              "         [0.15068889, 0.11898416, 0.09258021],\n",
              "         [0.12236436, 0.08970269, 0.08611807],\n",
              "         ...,\n",
              "         [0.06254449, 0.05475613, 0.04149131],\n",
              "         [0.09460139, 0.06716248, 0.06826039],\n",
              "         [0.18496358, 0.10707857, 0.15563282]],\n",
              "\n",
              "        [[0.15153101, 0.14751308, 0.13850343],\n",
              "         [0.10835561, 0.07317733, 0.090464  ],\n",
              "         [0.07582871, 0.0642151 , 0.06424411],\n",
              "         ...,\n",
              "         [0.04014509, 0.03311804, 0.04200089],\n",
              "         [0.05817075, 0.04972711, 0.05494221],\n",
              "         [0.13532442, 0.08782   , 0.1494053 ]],\n",
              "\n",
              "        ...,\n",
              "\n",
              "        [[0.15120983, 0.15307513, 0.12950023],\n",
              "         [0.12407344, 0.09219702, 0.07852347],\n",
              "         [0.08992273, 0.07208914, 0.07803023],\n",
              "         ...,\n",
              "         [0.27935815, 0.22184442, 0.20871848],\n",
              "         [0.3036297 , 0.22348306, 0.21627447],\n",
              "         [0.33482063, 0.22675397, 0.25862807]],\n",
              "\n",
              "        [[0.17552653, 0.15666737, 0.1425845 ],\n",
              "         [0.13495119, 0.09125477, 0.10477719],\n",
              "         [0.09662481, 0.08187413, 0.08585203],\n",
              "         ...,\n",
              "         [0.27485055, 0.20615718, 0.19508892],\n",
              "         [0.26883763, 0.22020407, 0.20481947],\n",
              "         [0.30465564, 0.23851842, 0.24767143]],\n",
              "\n",
              "        [[0.23480533, 0.17721753, 0.23643829],\n",
              "         [0.15722497, 0.16878144, 0.1509116 ],\n",
              "         [0.14951701, 0.11041667, 0.19157265],\n",
              "         ...,\n",
              "         [0.24731353, 0.23122153, 0.23260088],\n",
              "         [0.25438634, 0.20246752, 0.24613537],\n",
              "         [0.31482106, 0.24885902, 0.31327194]]],\n",
              "\n",
              "\n",
              "       [[[0.3449254 , 0.34254283, 0.31476176],\n",
              "         [0.35477522, 0.28672466, 0.2521122 ],\n",
              "         [0.30195585, 0.22952771, 0.21528405],\n",
              "         ...,\n",
              "         [0.33548534, 0.29261056, 0.25999933],\n",
              "         [0.3271333 , 0.27740198, 0.2667823 ],\n",
              "         [0.36348653, 0.28631672, 0.24686559]],\n",
              "\n",
              "        [[0.3156457 , 0.27130002, 0.25010785],\n",
              "         [0.28811917, 0.21976605, 0.20179163],\n",
              "         [0.26943314, 0.18588205, 0.19601975],\n",
              "         ...,\n",
              "         [0.33325356, 0.2754178 , 0.26815364],\n",
              "         [0.31805664, 0.23145966, 0.2431551 ],\n",
              "         [0.35752657, 0.2526817 , 0.28195864]],\n",
              "\n",
              "        [[0.28567898, 0.2502238 , 0.23392613],\n",
              "         [0.23542921, 0.15798254, 0.19804312],\n",
              "         [0.21218036, 0.16197689, 0.16139024],\n",
              "         ...,\n",
              "         [0.31507125, 0.25722468, 0.24209115],\n",
              "         [0.27353433, 0.2250274 , 0.22148746],\n",
              "         [0.31338146, 0.23288393, 0.2955584 ]],\n",
              "\n",
              "        ...,\n",
              "\n",
              "        [[0.53003204, 0.45737314, 0.4429382 ],\n",
              "         [0.54958147, 0.43126592, 0.4096846 ],\n",
              "         [0.55801266, 0.4423164 , 0.40801823],\n",
              "         ...,\n",
              "         [0.62269515, 0.5333715 , 0.493628  ],\n",
              "         [0.6178395 , 0.5142934 , 0.5117257 ],\n",
              "         [0.55166095, 0.46552977, 0.4784465 ]],\n",
              "\n",
              "        [[0.54016906, 0.406981  , 0.41003615],\n",
              "         [0.5276023 , 0.38668886, 0.39715543],\n",
              "         [0.5102632 , 0.39085394, 0.39312768],\n",
              "         ...,\n",
              "         [0.6211202 , 0.5090026 , 0.507538  ],\n",
              "         [0.61741054, 0.4798424 , 0.49880168],\n",
              "         [0.5290792 , 0.44217572, 0.4112034 ]],\n",
              "\n",
              "        [[0.4657008 , 0.38546523, 0.4373865 ],\n",
              "         [0.42143732, 0.3658631 , 0.40518984],\n",
              "         [0.4454231 , 0.34733596, 0.398338  ],\n",
              "         ...,\n",
              "         [0.5306218 , 0.43766052, 0.44612786],\n",
              "         [0.4964779 , 0.42479315, 0.42969185],\n",
              "         [0.45428446, 0.37942144, 0.38448974]]],\n",
              "\n",
              "\n",
              "       [[[0.33824205, 0.33611113, 0.30640683],\n",
              "         [0.34232464, 0.27497333, 0.2425576 ],\n",
              "         [0.28751335, 0.21708179, 0.20229532],\n",
              "         ...,\n",
              "         [0.17475775, 0.14670447, 0.13251379],\n",
              "         [0.18867691, 0.16499813, 0.15082903],\n",
              "         [0.2588512 , 0.19076148, 0.18265088]],\n",
              "\n",
              "        [[0.30465707, 0.26278535, 0.24253063],\n",
              "         [0.27355617, 0.20830177, 0.18712077],\n",
              "         [0.25044835, 0.17134924, 0.17855814],\n",
              "         ...,\n",
              "         [0.14135773, 0.12285707, 0.10143212],\n",
              "         [0.16412328, 0.1147804 , 0.12068558],\n",
              "         [0.24612167, 0.15746188, 0.19699652]],\n",
              "\n",
              "        [[0.26909205, 0.23767886, 0.2240143 ],\n",
              "         [0.21945289, 0.14400207, 0.18212925],\n",
              "         [0.18702945, 0.14235598, 0.14190026],\n",
              "         ...,\n",
              "         [0.10907255, 0.08654243, 0.0943234 ],\n",
              "         [0.11631209, 0.0968404 , 0.10009168],\n",
              "         [0.19150205, 0.13186929, 0.20060308]],\n",
              "\n",
              "        ...,\n",
              "\n",
              "        [[0.29034188, 0.26778606, 0.23590502],\n",
              "         [0.29514617, 0.19439358, 0.1903152 ],\n",
              "         [0.25359684, 0.17859806, 0.19626409],\n",
              "         ...,\n",
              "         [0.58011174, 0.47262916, 0.4508948 ],\n",
              "         [0.59188884, 0.4631991 , 0.46793064],\n",
              "         [0.5231878 , 0.41673326, 0.42505577]],\n",
              "\n",
              "        [[0.33250225, 0.25407314, 0.23750848],\n",
              "         [0.2870384 , 0.19181469, 0.2169918 ],\n",
              "         [0.24305671, 0.18546464, 0.19060549],\n",
              "         ...,\n",
              "         [0.56717354, 0.4481568 , 0.4377309 ],\n",
              "         [0.5502992 , 0.42948082, 0.43058863],\n",
              "         [0.48294798, 0.40048197, 0.3866205 ]],\n",
              "\n",
              "        [[0.33626202, 0.25806317, 0.3185941 ],\n",
              "         [0.26640627, 0.238862  , 0.23893332],\n",
              "         [0.2726561 , 0.19713214, 0.2815913 ],\n",
              "         ...,\n",
              "         [0.4439557 , 0.38475445, 0.3924134 ],\n",
              "         [0.45068654, 0.36496148, 0.38278022],\n",
              "         [0.4217793 , 0.34482893, 0.3763172 ]]]], dtype=float32)"
            ]
          },
          "metadata": {}
        }
      ]
    },
    {
      "cell_type": "code",
      "source": [
        "import matplotlib.pyplot as plt\n",
        "\n",
        "from scipy.stats import norm\n",
        "\n",
        "_, _, z = vae.encoder.predict(example_images)\n",
        "\n",
        "x = np.linspace(-3, 3, 100)\n",
        "\n",
        "fig = plt.figure(figsize=(20, 5))\n",
        "fig.subplots_adjust(hspace=0.6, wspace=0.4)\n",
        "\n",
        "for i in range(50):\n",
        "    ax = fig.add_subplot(5, 10, i + 1)\n",
        "    ax.hist(z[:, i], density=True, bins=20)\n",
        "    ax.axis(\"off\")\n",
        "    ax.text(\n",
        "        0.5, -0.35, str(i), fontsize=10, ha=\"center\", transform=ax.transAxes\n",
        "    )\n",
        "    ax.plot(x, norm.pdf(x))\n",
        "\n",
        "plt.show()"
      ],
      "metadata": {
        "colab": {
          "base_uri": "https://localhost:8080/",
          "height": 441
        },
        "id": "NMg0r5BjkyE5",
        "outputId": "58c64248-defc-49e2-a4c9-1ab29de0da94"
      },
      "execution_count": 21,
      "outputs": [
        {
          "output_type": "stream",
          "name": "stdout",
          "text": [
            "1/1 [==============================] - 1s 828ms/step\n"
          ]
        },
        {
          "output_type": "display_data",
          "data": {
            "text/plain": [
              "<Figure size 2000x500 with 50 Axes>"
            ],
            "image/png": "[encoded data removed]"
          },
          "metadata": {}
        }
      ]
    }
  ]
}