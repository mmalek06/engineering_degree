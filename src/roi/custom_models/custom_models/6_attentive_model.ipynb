{
 "cells": [
  {
   "cell_type": "code",
   "execution_count": 1,
   "metadata": {
    "collapsed": true,
    "execution": {
     "iopub.execute_input": "2023-12-06T19:00:47.151309Z",
     "iopub.status.busy": "2023-12-06T19:00:47.151309Z",
     "iopub.status.idle": "2023-12-06T19:00:50.244874Z",
     "shell.execute_reply": "2023-12-06T19:00:50.244874Z"
    }
   },
   "outputs": [],
   "source": [
    "import os\n",
    "import sys\n",
    "import absl.logging\n",
    "import PIL.Image\n",
    "\n",
    "import numpy as np\n",
    "import pandas as pd\n",
    "\n",
    "from typing import Callable\n",
    "from tensorflow import keras\n",
    "\n",
    "module_path = os.path.abspath(os.path.join('..', '..', '..'))\n",
    "\n",
    "if module_path not in sys.path:\n",
    "    sys.path.append(os.path.join(module_path))\n",
    "\n",
    "from functions.ciou import ciou_loss, ciou_metric\n",
    "from functions.loading_data import SMALLER_HEIGHT, SMALLER_WIDTH\n",
    "from functions.model_running import get_run_number, finalize_run\n",
    "\n",
    "absl.logging.set_verbosity(absl.logging.ERROR)"
   ]
  },
  {
   "cell_type": "code",
   "execution_count": 2,
   "metadata": {
    "collapsed": false,
    "execution": {
     "iopub.execute_input": "2023-12-06T19:00:50.244874Z",
     "iopub.status.busy": "2023-12-06T19:00:50.244874Z",
     "iopub.status.idle": "2023-12-06T19:00:50.260497Z",
     "shell.execute_reply": "2023-12-06T19:00:50.260497Z"
    }
   },
   "outputs": [],
   "source": [
    "get_names = lambda root_path: [\n",
    "    file_name.split('.')[0]\n",
    "    for dir_path, _, file_names in os.walk(root_path)\n",
    "    for file_name in file_names\n",
    "]\n",
    "get_paths = lambda path: [f'{os.path.join(root, file)}' for root, dirs, files in os.walk(path) for file in files]\n",
    "base_dir = os.path.join('..', '..', '..', '..', '..', 'data1', 'images_original_inception_resnet_v2_200x150_splitted')\n",
    "train_dir = os.path.join(base_dir, 'training')\n",
    "valid_dir = os.path.join(base_dir, 'validation')"
   ]
  },
  {
   "cell_type": "code",
   "execution_count": 3,
   "metadata": {
    "collapsed": false,
    "execution": {
     "iopub.execute_input": "2023-12-06T19:00:50.260497Z",
     "iopub.status.busy": "2023-12-06T19:00:50.260497Z",
     "iopub.status.idle": "2023-12-06T19:01:06.818502Z",
     "shell.execute_reply": "2023-12-06T19:01:06.818502Z"
    }
   },
   "outputs": [],
   "source": [
    "def get_images_array(paths: list[str]) -> np.ndarray:\n",
    "    rows = []\n",
    "    rescale = keras.layers.Rescaling(1./255)\n",
    "\n",
    "    for path in paths:\n",
    "        with PIL.Image.open(path) as image:\n",
    "            image_array = np.asarray(image)\n",
    "            rescaled_image = rescale(image_array)\n",
    "            rows.append(rescaled_image)\n",
    "\n",
    "    return np.array(rows)\n",
    "\n",
    "\n",
    "train_paths = get_paths(train_dir)\n",
    "valid_paths = get_paths(valid_dir)\n",
    "X_train = get_images_array(train_paths)\n",
    "X_valid = get_images_array(valid_paths)"
   ]
  },
  {
   "cell_type": "code",
   "execution_count": 4,
   "metadata": {
    "collapsed": false,
    "execution": {
     "iopub.execute_input": "2023-12-06T19:01:06.821530Z",
     "iopub.status.busy": "2023-12-06T19:01:06.821530Z",
     "iopub.status.idle": "2023-12-06T19:01:06.880056Z",
     "shell.execute_reply": "2023-12-06T19:01:06.880056Z"
    }
   },
   "outputs": [],
   "source": [
    "train_names = set(get_names(train_dir))\n",
    "valid_names = set(get_names(valid_dir))\n",
    "metadata_path = os.path.join('..', '..', '..', '..', '..', 'data1', 'HAM10000_metadata_ext.csv')\n",
    "data = pd.read_csv(metadata_path).sort_values(by='image_id')\n",
    "relevant_cols = ['top', 'left', 'bottom', 'right']\n",
    "train_df = data[data['image_id'].isin(train_names)][relevant_cols]\n",
    "valid_df = data[data['image_id'].isin(valid_names)][relevant_cols]\n",
    "ys_train = train_df.to_numpy().astype(float)\n",
    "ys_train[:, [0, 2]] /= SMALLER_HEIGHT\n",
    "ys_train[:, [1, 3]] /= SMALLER_WIDTH\n",
    "ys_valid = valid_df.to_numpy().astype(float)\n",
    "ys_valid[:, [0, 2]] /= SMALLER_HEIGHT\n",
    "ys_valid[:, [1, 3]] /= SMALLER_WIDTH"
   ]
  },
  {
   "cell_type": "code",
   "execution_count": 5,
   "metadata": {
    "collapsed": false,
    "execution": {
     "iopub.execute_input": "2023-12-06T19:01:06.883116Z",
     "iopub.status.busy": "2023-12-06T19:01:06.883116Z",
     "iopub.status.idle": "2023-12-06T19:01:06.895303Z",
     "shell.execute_reply": "2023-12-06T19:01:06.895303Z"
    }
   },
   "outputs": [],
   "source": [
    "def get_attentive_model(loss: Callable, metric: Callable) -> keras.Model:\n",
    "    def get_branch_module(kernel_size: int) -> keras.layers.Layer:\n",
    "        conv = keras.layers.Conv2D(16, kernel_size, padding='same', strides=2, activation='relu')(_input)\n",
    "        conv = keras.layers.MaxPooling2D()(conv)\n",
    "\n",
    "        return conv\n",
    "\n",
    "    def get_stacked_conv(filters: int, prev: keras.layers.Layer) -> keras.layers.Layer:\n",
    "        conv_module = keras.layers.Conv2D(filters, 3, padding='same', activation='relu')(prev)\n",
    "        conv_module = keras.layers.MaxPooling2D()(conv_module)\n",
    "        conv_module = keras.layers.Dropout(.2)(conv_module)\n",
    "\n",
    "        return conv_module\n",
    "\n",
    "    def get_attention_module(prev: keras.layers.Layer) -> keras.layers.Layer:\n",
    "        gap_layer = keras.layers.GlobalAveragePooling2D()(prev)\n",
    "        gap_layer_res = keras.layers.Reshape((1, 1, 256))(gap_layer)\n",
    "        dense1 = keras.layers.Dense(256, activation='relu')(gap_layer_res)\n",
    "        dense2 = keras.layers.Dense(256, activation='softmax')(dense1)\n",
    "        mul_layer = keras.layers.Multiply()([conv_module, dense2])\n",
    "\n",
    "        return mul_layer\n",
    "\n",
    "    _input = keras.layers.Input(shape=(SMALLER_HEIGHT, SMALLER_WIDTH, 3))\n",
    "    conv1 = get_branch_module(3)\n",
    "    conv2 = get_branch_module(5)\n",
    "    conv3 = get_branch_module(7)\n",
    "    merged = keras.layers.concatenate([conv1, conv2, conv3])\n",
    "    conv_module = get_stacked_conv(64, merged)\n",
    "    conv_module = get_stacked_conv(128, conv_module)\n",
    "    conv_module = get_stacked_conv(256, conv_module)\n",
    "    attention_module = get_attention_module(conv_module)\n",
    "    flat = keras.layers.Flatten()(attention_module)\n",
    "    locator_module = keras.layers.Dense(256, activation='relu')(flat)\n",
    "    locator_module = keras.layers.Dense(128, activation='relu')(locator_module)\n",
    "    locator_module = keras.layers.Dense(4, activation='sigmoid')(locator_module)\n",
    "\n",
    "    model = keras.Model(_input, locator_module)\n",
    "\n",
    "    model.compile(optimizer='adam', loss=loss, metrics=[metric])\n",
    "\n",
    "    print(model.summary())\n",
    "\n",
    "    return model"
   ]
  },
  {
   "cell_type": "code",
   "execution_count": 6,
   "metadata": {
    "collapsed": false,
    "execution": {
     "iopub.execute_input": "2023-12-06T19:01:06.899358Z",
     "iopub.status.busy": "2023-12-06T19:01:06.898358Z",
     "iopub.status.idle": "2023-12-06T19:01:06.910514Z",
     "shell.execute_reply": "2023-12-06T19:01:06.910514Z"
    }
   },
   "outputs": [],
   "source": [
    "def run_model(\n",
    "        model_factory: Callable,\n",
    "        model_name: str,\n",
    "        loss: Callable,\n",
    "        metric: Callable,\n",
    "        reduction_patience=5,\n",
    "        monitor='val_ciou_metric'):\n",
    "    MIN_DELTA = .001\n",
    "    early_stopping = keras.callbacks.EarlyStopping(\n",
    "        monitor=monitor,\n",
    "        mode='max',\n",
    "        patience=20,\n",
    "        min_delta=MIN_DELTA)\n",
    "    reduce_lr = keras.callbacks.ReduceLROnPlateau(\n",
    "        monitor=monitor,\n",
    "        mode='max',\n",
    "        factor=0.95,\n",
    "        min_delta=MIN_DELTA,\n",
    "        patience=reduction_patience,\n",
    "        min_lr=0.0005,\n",
    "        verbose=1)\n",
    "    model_checkpoint = keras.callbacks.ModelCheckpoint(\n",
    "        filepath=os.path.join('..', '..', '..', '..', 'tmp_models', model_name + '_{epoch}'),\n",
    "        save_best_only=True)\n",
    "    tensor_board = keras.callbacks.TensorBoard(log_dir=os.path.join('..', '..', '..', '..', 'tensor_logs', model_name))\n",
    "    model = model_factory(loss, metric)\n",
    "\n",
    "    return model.fit(\n",
    "        X_train,\n",
    "        ys_train,\n",
    "        validation_data=(X_valid, ys_valid),\n",
    "        epochs=500,\n",
    "        batch_size=64,\n",
    "        callbacks=[reduce_lr, model_checkpoint, tensor_board, early_stopping])"
   ]
  },
  {
   "cell_type": "code",
   "execution_count": 7,
   "metadata": {
    "collapsed": false,
    "execution": {
     "iopub.execute_input": "2023-12-06T19:01:06.913514Z",
     "iopub.status.busy": "2023-12-06T19:01:06.913514Z",
     "iopub.status.idle": "2023-12-06T19:03:41.632706Z",
     "shell.execute_reply": "2023-12-06T19:03:41.632706Z"
    },
    "pycharm": {
     "is_executing": true
    }
   },
   "outputs": [
    {
     "name": "stdout",
     "output_type": "stream",
     "text": [
      "Model: \"model\"\n",
      "__________________________________________________________________________________________________\n",
      " Layer (type)                   Output Shape         Param #     Connected to                     \n",
      "==================================================================================================\n",
      " input_1 (InputLayer)           [(None, 150, 200, 3  0           []                               \n",
      "                                )]                                                                \n",
      "                                                                                                  \n",
      " conv2d (Conv2D)                (None, 75, 100, 16)  448         ['input_1[0][0]']                \n",
      "                                                                                                  \n",
      " conv2d_1 (Conv2D)              (None, 75, 100, 16)  1216        ['input_1[0][0]']                \n",
      "                                                                                                  \n",
      " conv2d_2 (Conv2D)              (None, 75, 100, 16)  2368        ['input_1[0][0]']                \n",
      "                                                                                                  \n",
      " max_pooling2d (MaxPooling2D)   (None, 37, 50, 16)   0           ['conv2d[0][0]']                 \n",
      "                                                                                                  \n",
      " max_pooling2d_1 (MaxPooling2D)  (None, 37, 50, 16)  0           ['conv2d_1[0][0]']               \n",
      "                                                                                                  \n",
      " max_pooling2d_2 (MaxPooling2D)  (None, 37, 50, 16)  0           ['conv2d_2[0][0]']               \n",
      "                                                                                                  \n",
      " concatenate (Concatenate)      (None, 37, 50, 48)   0           ['max_pooling2d[0][0]',          \n",
      "                                                                  'max_pooling2d_1[0][0]',        \n",
      "                                                                  'max_pooling2d_2[0][0]']        \n",
      "                                                                                                  \n",
      " conv2d_3 (Conv2D)              (None, 37, 50, 64)   27712       ['concatenate[0][0]']            \n",
      "                                                                                                  \n",
      " max_pooling2d_3 (MaxPooling2D)  (None, 18, 25, 64)  0           ['conv2d_3[0][0]']               \n",
      "                                                                                                  \n",
      " dropout (Dropout)              (None, 18, 25, 64)   0           ['max_pooling2d_3[0][0]']        \n",
      "                                                                                                  \n",
      " conv2d_4 (Conv2D)              (None, 18, 25, 128)  73856       ['dropout[0][0]']                \n",
      "                                                                                                  \n",
      " max_pooling2d_4 (MaxPooling2D)  (None, 9, 12, 128)  0           ['conv2d_4[0][0]']               \n",
      "                                                                                                  \n",
      " dropout_1 (Dropout)            (None, 9, 12, 128)   0           ['max_pooling2d_4[0][0]']        \n",
      "                                                                                                  \n",
      " conv2d_5 (Conv2D)              (None, 9, 12, 256)   295168      ['dropout_1[0][0]']              \n",
      "                                                                                                  \n",
      " max_pooling2d_5 (MaxPooling2D)  (None, 4, 6, 256)   0           ['conv2d_5[0][0]']               \n",
      "                                                                                                  \n",
      " dropout_2 (Dropout)            (None, 4, 6, 256)    0           ['max_pooling2d_5[0][0]']        \n",
      "                                                                                                  \n",
      " global_average_pooling2d (Glob  (None, 256)         0           ['dropout_2[0][0]']              \n",
      " alAveragePooling2D)                                                                              \n",
      "                                                                                                  \n",
      " reshape (Reshape)              (None, 1, 1, 256)    0           ['global_average_pooling2d[0][0]'\n",
      "                                                                 ]                                \n",
      "                                                                                                  \n",
      " dense (Dense)                  (None, 1, 1, 256)    65792       ['reshape[0][0]']                \n",
      "                                                                                                  \n",
      " dense_1 (Dense)                (None, 1, 1, 256)    65792       ['dense[0][0]']                  \n",
      "                                                                                                  \n",
      " multiply (Multiply)            (None, 4, 6, 256)    0           ['dropout_2[0][0]',              \n",
      "                                                                  'dense_1[0][0]']                \n",
      "                                                                                                  \n",
      " flatten (Flatten)              (None, 6144)         0           ['multiply[0][0]']               \n",
      "                                                                                                  \n",
      " dense_2 (Dense)                (None, 256)          1573120     ['flatten[0][0]']                \n",
      "                                                                                                  \n",
      " dense_3 (Dense)                (None, 128)          32896       ['dense_2[0][0]']                \n",
      "                                                                                                  \n",
      " dense_4 (Dense)                (None, 4)            516         ['dense_3[0][0]']                \n",
      "                                                                                                  \n",
      "==================================================================================================\n",
      "Total params: 2,138,884\n",
      "Trainable params: 2,138,884\n",
      "Non-trainable params: 0\n",
      "__________________________________________________________________________________________________\n",
      "None\n",
      "Epoch 1/500\n",
      "126/126 [==============================] - ETA: 0s - loss: 0.5662 - ciou_metric: 0.4339INFO:tensorflow:Assets written to: ..\\..\\..\\..\\tmp_models\\custom_models_6_attentive_model_20_1\\assets\n"
     ]
    },
    {
     "name": "stderr",
     "output_type": "stream",
     "text": [
      "INFO:tensorflow:Assets written to: ..\\..\\..\\..\\tmp_models\\custom_models_6_attentive_model_20_1\\assets\n"
     ]
    },
    {
     "name": "stdout",
     "output_type": "stream",
     "text": [
      "126/126 [==============================] - 12s 59ms/step - loss: 0.5662 - ciou_metric: 0.4339 - val_loss: 0.5045 - val_ciou_metric: 0.4952 - lr: 0.0010\n",
      "Epoch 2/500\n",
      "126/126 [==============================] - 5s 36ms/step - loss: 0.5020 - ciou_metric: 0.4982 - val_loss: 0.5173 - val_ciou_metric: 0.4824 - lr: 0.0010\n",
      "Epoch 3/500\n",
      "124/126 [============================>.] - ETA: 0s - loss: 0.4960 - ciou_metric: 0.5040INFO:tensorflow:Assets written to: ..\\..\\..\\..\\tmp_models\\custom_models_6_attentive_model_20_3\\assets\n"
     ]
    },
    {
     "name": "stderr",
     "output_type": "stream",
     "text": [
      "INFO:tensorflow:Assets written to: ..\\..\\..\\..\\tmp_models\\custom_models_6_attentive_model_20_3\\assets\n"
     ]
    },
    {
     "name": "stdout",
     "output_type": "stream",
     "text": [
      "126/126 [==============================] - 6s 51ms/step - loss: 0.4961 - ciou_metric: 0.5035 - val_loss: 0.4976 - val_ciou_metric: 0.5020 - lr: 0.0010\n",
      "Epoch 4/500\n",
      "124/126 [============================>.] - ETA: 0s - loss: 0.4987 - ciou_metric: 0.5013INFO:tensorflow:Assets written to: ..\\..\\..\\..\\tmp_models\\custom_models_6_attentive_model_20_4\\assets\n"
     ]
    },
    {
     "name": "stderr",
     "output_type": "stream",
     "text": [
      "INFO:tensorflow:Assets written to: ..\\..\\..\\..\\tmp_models\\custom_models_6_attentive_model_20_4\\assets\n"
     ]
    },
    {
     "name": "stdout",
     "output_type": "stream",
     "text": [
      "126/126 [==============================] - 7s 51ms/step - loss: 0.4987 - ciou_metric: 0.5012 - val_loss: 0.4963 - val_ciou_metric: 0.5034 - lr: 0.0010\n",
      "Epoch 5/500\n",
      "124/126 [============================>.] - ETA: 0s - loss: 0.4939 - ciou_metric: 0.5061INFO:tensorflow:Assets written to: ..\\..\\..\\..\\tmp_models\\custom_models_6_attentive_model_20_5\\assets\n"
     ]
    },
    {
     "name": "stderr",
     "output_type": "stream",
     "text": [
      "INFO:tensorflow:Assets written to: ..\\..\\..\\..\\tmp_models\\custom_models_6_attentive_model_20_5\\assets\n"
     ]
    },
    {
     "name": "stdout",
     "output_type": "stream",
     "text": [
      "126/126 [==============================] - 6s 51ms/step - loss: 0.4937 - ciou_metric: 0.5063 - val_loss: 0.4961 - val_ciou_metric: 0.5036 - lr: 0.0010\n",
      "Epoch 6/500\n",
      "124/126 [============================>.] - ETA: 0s - loss: 0.4925 - ciou_metric: 0.5075INFO:tensorflow:Assets written to: ..\\..\\..\\..\\tmp_models\\custom_models_6_attentive_model_20_6\\assets\n"
     ]
    },
    {
     "name": "stderr",
     "output_type": "stream",
     "text": [
      "INFO:tensorflow:Assets written to: ..\\..\\..\\..\\tmp_models\\custom_models_6_attentive_model_20_6\\assets\n"
     ]
    },
    {
     "name": "stdout",
     "output_type": "stream",
     "text": [
      "126/126 [==============================] - 7s 52ms/step - loss: 0.4926 - ciou_metric: 0.5077 - val_loss: 0.4955 - val_ciou_metric: 0.5042 - lr: 0.0010\n",
      "Epoch 7/500\n",
      "126/126 [==============================] - 4s 35ms/step - loss: 0.4911 - ciou_metric: 0.5084 - val_loss: 0.4972 - val_ciou_metric: 0.5027 - lr: 0.0010\n",
      "Epoch 8/500\n",
      "126/126 [==============================] - 4s 34ms/step - loss: 0.4915 - ciou_metric: 0.5087 - val_loss: 0.4956 - val_ciou_metric: 0.5042 - lr: 0.0010\n",
      "Epoch 9/500\n",
      "124/126 [============================>.] - ETA: 0s - loss: 0.4915 - ciou_metric: 0.5085INFO:tensorflow:Assets written to: ..\\..\\..\\..\\tmp_models\\custom_models_6_attentive_model_20_9\\assets\n"
     ]
    },
    {
     "name": "stderr",
     "output_type": "stream",
     "text": [
      "INFO:tensorflow:Assets written to: ..\\..\\..\\..\\tmp_models\\custom_models_6_attentive_model_20_9\\assets\n"
     ]
    },
    {
     "name": "stdout",
     "output_type": "stream",
     "text": [
      "126/126 [==============================] - 6s 50ms/step - loss: 0.4916 - ciou_metric: 0.5083 - val_loss: 0.4952 - val_ciou_metric: 0.5045 - lr: 0.0010\n",
      "Epoch 10/500\n",
      "125/126 [============================>.] - ETA: 0s - loss: 0.4909 - ciou_metric: 0.5091INFO:tensorflow:Assets written to: ..\\..\\..\\..\\tmp_models\\custom_models_6_attentive_model_20_10\\assets\n"
     ]
    },
    {
     "name": "stderr",
     "output_type": "stream",
     "text": [
      "INFO:tensorflow:Assets written to: ..\\..\\..\\..\\tmp_models\\custom_models_6_attentive_model_20_10\\assets\n"
     ]
    },
    {
     "name": "stdout",
     "output_type": "stream",
     "text": [
      "126/126 [==============================] - 7s 52ms/step - loss: 0.4908 - ciou_metric: 0.5094 - val_loss: 0.4948 - val_ciou_metric: 0.5050 - lr: 0.0010\n",
      "Epoch 11/500\n",
      "126/126 [==============================] - 5s 35ms/step - loss: 0.4911 - ciou_metric: 0.5097 - val_loss: 0.4948 - val_ciou_metric: 0.5050 - lr: 0.0010\n",
      "Epoch 12/500\n",
      "125/126 [============================>.] - ETA: 0s - loss: 0.4906 - ciou_metric: 0.5094INFO:tensorflow:Assets written to: ..\\..\\..\\..\\tmp_models\\custom_models_6_attentive_model_20_12\\assets\n"
     ]
    },
    {
     "name": "stderr",
     "output_type": "stream",
     "text": [
      "INFO:tensorflow:Assets written to: ..\\..\\..\\..\\tmp_models\\custom_models_6_attentive_model_20_12\\assets\n"
     ]
    },
    {
     "name": "stdout",
     "output_type": "stream",
     "text": [
      "126/126 [==============================] - 6s 51ms/step - loss: 0.4906 - ciou_metric: 0.5094 - val_loss: 0.4947 - val_ciou_metric: 0.5050 - lr: 0.0010\n",
      "Epoch 13/500\n",
      "126/126 [==============================] - 4s 35ms/step - loss: 0.4910 - ciou_metric: 0.5089 - val_loss: 0.4951 - val_ciou_metric: 0.5046 - lr: 0.0010\n",
      "Epoch 14/500\n",
      "125/126 [============================>.] - ETA: 0s - loss: 0.4910 - ciou_metric: 0.5090\n",
      "Epoch 14: ReduceLROnPlateau reducing learning rate to 0.0009500000451225787.\n",
      "126/126 [==============================] - 4s 34ms/step - loss: 0.4910 - ciou_metric: 0.5091 - val_loss: 0.4964 - val_ciou_metric: 0.5034 - lr: 0.0010\n",
      "Epoch 15/500\n",
      "126/126 [==============================] - 4s 34ms/step - loss: 0.4911 - ciou_metric: 0.5081 - val_loss: 0.4949 - val_ciou_metric: 0.5047 - lr: 9.5000e-04\n",
      "Epoch 16/500\n",
      "126/126 [==============================] - 4s 34ms/step - loss: 0.4907 - ciou_metric: 0.5092 - val_loss: 0.4948 - val_ciou_metric: 0.5049 - lr: 9.5000e-04\n",
      "Epoch 17/500\n",
      "124/126 [============================>.] - ETA: 0s - loss: 0.4910 - ciou_metric: 0.5090INFO:tensorflow:Assets written to: ..\\..\\..\\..\\tmp_models\\custom_models_6_attentive_model_20_17\\assets\n"
     ]
    },
    {
     "name": "stderr",
     "output_type": "stream",
     "text": [
      "INFO:tensorflow:Assets written to: ..\\..\\..\\..\\tmp_models\\custom_models_6_attentive_model_20_17\\assets\n"
     ]
    },
    {
     "name": "stdout",
     "output_type": "stream",
     "text": [
      "126/126 [==============================] - 6s 51ms/step - loss: 0.4909 - ciou_metric: 0.5092 - val_loss: 0.4947 - val_ciou_metric: 0.5051 - lr: 9.5000e-04\n",
      "Epoch 18/500\n",
      "126/126 [==============================] - 4s 35ms/step - loss: 0.4908 - ciou_metric: 0.5094 - val_loss: 0.4949 - val_ciou_metric: 0.5049 - lr: 9.5000e-04\n",
      "Epoch 19/500\n",
      "125/126 [============================>.] - ETA: 0s - loss: 0.4908 - ciou_metric: 0.5092\n",
      "Epoch 19: ReduceLROnPlateau reducing learning rate to 0.0009025000152178108.\n",
      "126/126 [==============================] - 4s 35ms/step - loss: 0.4906 - ciou_metric: 0.5099 - val_loss: 0.4968 - val_ciou_metric: 0.5028 - lr: 9.5000e-04\n",
      "Epoch 20/500\n",
      "126/126 [==============================] - 4s 35ms/step - loss: 0.4911 - ciou_metric: 0.5084 - val_loss: 0.4951 - val_ciou_metric: 0.5047 - lr: 9.0250e-04\n",
      "Epoch 21/500\n",
      "126/126 [==============================] - 4s 35ms/step - loss: 0.4906 - ciou_metric: 0.5099 - val_loss: 0.4958 - val_ciou_metric: 0.5040 - lr: 9.0250e-04\n",
      "Epoch 22/500\n",
      "126/126 [==============================] - 4s 34ms/step - loss: 0.4907 - ciou_metric: 0.5089 - val_loss: 0.4954 - val_ciou_metric: 0.5044 - lr: 9.0250e-04\n",
      "Epoch 23/500\n",
      "125/126 [============================>.] - ETA: 0s - loss: 0.4907 - ciou_metric: 0.5093INFO:tensorflow:Assets written to: ..\\..\\..\\..\\tmp_models\\custom_models_6_attentive_model_20_23\\assets\n"
     ]
    },
    {
     "name": "stderr",
     "output_type": "stream",
     "text": [
      "INFO:tensorflow:Assets written to: ..\\..\\..\\..\\tmp_models\\custom_models_6_attentive_model_20_23\\assets\n"
     ]
    },
    {
     "name": "stdout",
     "output_type": "stream",
     "text": [
      "126/126 [==============================] - 6s 51ms/step - loss: 0.4907 - ciou_metric: 0.5090 - val_loss: 0.4946 - val_ciou_metric: 0.5052 - lr: 9.0250e-04\n",
      "Epoch 24/500\n",
      "124/126 [============================>.] - ETA: 0s - loss: 0.4908 - ciou_metric: 0.5092\n",
      "Epoch 24: ReduceLROnPlateau reducing learning rate to 0.0008573750033974647.\n",
      "126/126 [==============================] - 4s 35ms/step - loss: 0.4908 - ciou_metric: 0.5091 - val_loss: 0.4947 - val_ciou_metric: 0.5050 - lr: 9.0250e-04\n",
      "Epoch 25/500\n",
      "126/126 [==============================] - 4s 34ms/step - loss: 0.4906 - ciou_metric: 0.5088 - val_loss: 0.4957 - val_ciou_metric: 0.5040 - lr: 8.5737e-04\n",
      "Epoch 26/500\n",
      "126/126 [==============================] - 4s 35ms/step - loss: 0.4906 - ciou_metric: 0.5095 - val_loss: 0.4948 - val_ciou_metric: 0.5049 - lr: 8.5737e-04\n",
      "Epoch 27/500\n",
      "126/126 [==============================] - 4s 35ms/step - loss: 0.4905 - ciou_metric: 0.5096 - val_loss: 0.4969 - val_ciou_metric: 0.5027 - lr: 8.5737e-04\n",
      "Epoch 28/500\n",
      "126/126 [==============================] - 4s 34ms/step - loss: 0.4906 - ciou_metric: 0.5090 - val_loss: 0.4962 - val_ciou_metric: 0.5035 - lr: 8.5737e-04\n",
      "Epoch 29/500\n",
      "124/126 [============================>.] - ETA: 0s - loss: 0.4903 - ciou_metric: 0.5097\n",
      "Epoch 29: ReduceLROnPlateau reducing learning rate to 0.0008145062311086804.\n",
      "126/126 [==============================] - 4s 34ms/step - loss: 0.4904 - ciou_metric: 0.5097 - val_loss: 0.4948 - val_ciou_metric: 0.5050 - lr: 8.5737e-04\n"
     ]
    }
   ],
   "source": [
    "model_base_name = 'custom_models_6_attentive_model'\n",
    "run_number = get_run_number(model_base_name)\n",
    "model_name = f'{model_base_name}_{run_number}'\n",
    "history = run_model(get_attentive_model, model_name, ciou_loss, ciou_metric)\n",
    "ROOT = os.path.join('..', '..', '..', '..')\n",
    "DS_NAME = 'data1_roi'\n",
    "plot_name = f'{model_name}.pdf'\n",
    "\n",
    "finalize_run(ROOT, plot_name, model_base_name, DS_NAME, history, plot_mode = 'multiple')"
   ]
  },
  {
   "cell_type": "code",
   "execution_count": null,
   "metadata": {
    "collapsed": false
   },
   "outputs": [],
   "source": []
  }
 ],
 "metadata": {
  "kernelspec": {
   "display_name": "Python 3",
   "language": "python",
   "name": "python3"
  },
  "language_info": {
   "codemirror_mode": {
    "name": "ipython",
    "version": 3
   },
   "file_extension": ".py",
   "mimetype": "text/x-python",
   "name": "python",
   "nbconvert_exporter": "python",
   "pygments_lexer": "ipython3",
   "version": "3.9.16"
  }
 },
 "nbformat": 4,
 "nbformat_minor": 0
}
