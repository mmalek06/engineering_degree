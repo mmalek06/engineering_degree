{
 "cells": [
  {
   "cell_type": "code",
   "execution_count": 1,
   "metadata": {
    "collapsed": true,
    "execution": {
     "iopub.execute_input": "2023-12-08T02:03:53.161632Z",
     "iopub.status.busy": "2023-12-08T02:03:53.161632Z",
     "iopub.status.idle": "2023-12-08T02:03:56.236901Z",
     "shell.execute_reply": "2023-12-08T02:03:56.236901Z"
    }
   },
   "outputs": [],
   "source": [
    "import os\n",
    "import sys\n",
    "import absl.logging\n",
    "import PIL.Image\n",
    "\n",
    "import numpy as np\n",
    "import pandas as pd\n",
    "import tensorflow as tf\n",
    "\n",
    "from typing import Callable\n",
    "from tensorflow import keras\n",
    "\n",
    "module_path = os.path.abspath(os.path.join('..', '..', '..'))\n",
    "\n",
    "if module_path not in sys.path:\n",
    "    sys.path.append(os.path.join(module_path))\n",
    "\n",
    "from functions.ciou import ciou_loss, ciou_metric\n",
    "from functions.loading_data import SMALLER_HEIGHT, SMALLER_WIDTH\n",
    "from functions.model_running import get_run_number, finalize_run\n",
    "\n",
    "absl.logging.set_verbosity(absl.logging.ERROR)"
   ]
  },
  {
   "cell_type": "code",
   "execution_count": 2,
   "metadata": {
    "collapsed": false,
    "execution": {
     "iopub.execute_input": "2023-12-08T02:03:56.236901Z",
     "iopub.status.busy": "2023-12-08T02:03:56.236901Z",
     "iopub.status.idle": "2023-12-08T02:03:56.252960Z",
     "shell.execute_reply": "2023-12-08T02:03:56.252960Z"
    }
   },
   "outputs": [],
   "source": [
    "get_names = lambda root_path: [\n",
    "    file_name.split('.')[0]\n",
    "    for dir_path, _, file_names in os.walk(root_path)\n",
    "    for file_name in file_names\n",
    "]\n",
    "get_paths = lambda path: [f'{os.path.join(root, file)}' for root, dirs, files in os.walk(path) for file in files]\n",
    "base_dir = os.path.join('..', '..', '..', '..', '..', 'data1', 'images_original_inception_resnet_v2_200x150_splitted')\n",
    "train_dir = os.path.join(base_dir, 'training')\n",
    "valid_dir = os.path.join(base_dir, 'validation')"
   ]
  },
  {
   "cell_type": "code",
   "execution_count": 3,
   "metadata": {
    "collapsed": false,
    "execution": {
     "iopub.execute_input": "2023-12-08T02:03:56.252960Z",
     "iopub.status.busy": "2023-12-08T02:03:56.252960Z",
     "iopub.status.idle": "2023-12-08T02:04:11.733355Z",
     "shell.execute_reply": "2023-12-08T02:04:11.733355Z"
    }
   },
   "outputs": [],
   "source": [
    "def get_images_array(paths: list[str]) -> np.ndarray:\n",
    "    rows = []\n",
    "    rescale = keras.layers.Rescaling(1./255)\n",
    "\n",
    "    for path in paths:\n",
    "        with PIL.Image.open(path) as image:\n",
    "            image_array = np.asarray(image)\n",
    "            rescaled_image = rescale(image_array)\n",
    "            grayscale_image = tf.image.rgb_to_grayscale(rescaled_image)\n",
    "\n",
    "            rows.append(grayscale_image)\n",
    "\n",
    "    return np.array(rows)\n",
    "\n",
    "\n",
    "train_paths = get_paths(train_dir)\n",
    "valid_paths = get_paths(valid_dir)\n",
    "X_train = get_images_array(train_paths)\n",
    "X_valid = get_images_array(valid_paths)"
   ]
  },
  {
   "cell_type": "code",
   "execution_count": 4,
   "metadata": {
    "collapsed": false,
    "execution": {
     "iopub.execute_input": "2023-12-08T02:04:11.733355Z",
     "iopub.status.busy": "2023-12-08T02:04:11.733355Z",
     "iopub.status.idle": "2023-12-08T02:04:11.780657Z",
     "shell.execute_reply": "2023-12-08T02:04:11.780657Z"
    }
   },
   "outputs": [],
   "source": [
    "train_names = set(get_names(train_dir))\n",
    "valid_names = set(get_names(valid_dir))\n",
    "metadata_path = os.path.join('..', '..', '..', '..', '..', 'data1', 'HAM10000_metadata_ext.csv')\n",
    "data = pd.read_csv(metadata_path).sort_values(by='image_id')\n",
    "relevant_cols = ['top', 'left', 'bottom', 'right']\n",
    "train_df = data[data['image_id'].isin(train_names)][relevant_cols]\n",
    "valid_df = data[data['image_id'].isin(valid_names)][relevant_cols]\n",
    "ys_train = train_df.to_numpy().astype(float)\n",
    "ys_train[:, [0, 2]] /= SMALLER_HEIGHT\n",
    "ys_train[:, [1, 3]] /= SMALLER_WIDTH\n",
    "ys_valid = valid_df.to_numpy().astype(float)\n",
    "ys_valid[:, [0, 2]] /= SMALLER_HEIGHT\n",
    "ys_valid[:, [1, 3]] /= SMALLER_WIDTH"
   ]
  },
  {
   "cell_type": "code",
   "execution_count": 5,
   "metadata": {
    "collapsed": false,
    "execution": {
     "iopub.execute_input": "2023-12-08T02:04:11.780657Z",
     "iopub.status.busy": "2023-12-08T02:04:11.780657Z",
     "iopub.status.idle": "2023-12-08T02:04:11.796319Z",
     "shell.execute_reply": "2023-12-08T02:04:11.796319Z"
    }
   },
   "outputs": [],
   "source": [
    "def get_baseline_model(loss: Callable, metric: Callable) -> keras.Model:\n",
    "    def get_conv_module(prev: keras.layers.Layer, filters: int, kernel_size: int) -> keras.layers.Layer:\n",
    "        x = keras.layers.Conv2D(filters, kernel_size, padding='same', activation='relu')(prev)\n",
    "        x = keras.layers.Conv2D(filters * 2, kernel_size, padding='same', activation='relu')(x)\n",
    "        x = keras.layers.MaxPooling2D()(x)\n",
    "\n",
    "        return x\n",
    "\n",
    "\n",
    "    _input = keras.layers.Input(shape=(SMALLER_HEIGHT, SMALLER_WIDTH, 1))\n",
    "    conv_module = get_conv_module(_input, 16, 7)\n",
    "    conv_module = get_conv_module(conv_module, 32, 5)\n",
    "    conv_module = get_conv_module(conv_module, 64, 5)\n",
    "    conv_module = get_conv_module(conv_module, 128, 3)\n",
    "    conv_module = get_conv_module(conv_module, 256, 3)\n",
    "    conv_module = keras.layers.Flatten()(conv_module)\n",
    "    locator_module = keras.layers.Dense(128, activation='relu')(conv_module)\n",
    "    locator_module = keras.layers.Dense(4, activation='sigmoid')(locator_module)\n",
    "\n",
    "    model = keras.Model(_input, locator_module)\n",
    "\n",
    "    model.compile(optimizer='adam', loss=loss, metrics=[metric])\n",
    "\n",
    "    print(model.summary())\n",
    "\n",
    "    return model"
   ]
  },
  {
   "cell_type": "code",
   "execution_count": 6,
   "metadata": {
    "collapsed": false,
    "execution": {
     "iopub.execute_input": "2023-12-08T02:04:11.796319Z",
     "iopub.status.busy": "2023-12-08T02:04:11.796319Z",
     "iopub.status.idle": "2023-12-08T02:04:11.811944Z",
     "shell.execute_reply": "2023-12-08T02:04:11.811944Z"
    }
   },
   "outputs": [],
   "source": [
    "def run_model(\n",
    "        model_factory: Callable,\n",
    "        model_name: str,\n",
    "        loss: Callable,\n",
    "        metric: Callable,\n",
    "        reduction_patience=5,\n",
    "        monitor='val_ciou_metric'):\n",
    "    MIN_DELTA = .001\n",
    "    early_stopping = keras.callbacks.EarlyStopping(\n",
    "        monitor=monitor,\n",
    "        mode='max',\n",
    "        patience=20,\n",
    "        min_delta=MIN_DELTA)\n",
    "    reduce_lr = keras.callbacks.ReduceLROnPlateau(\n",
    "        monitor=monitor,\n",
    "        mode='max',\n",
    "        factor=0.95,\n",
    "        min_delta=MIN_DELTA,\n",
    "        patience=reduction_patience,\n",
    "        min_lr=0.0005,\n",
    "        verbose=1)\n",
    "    model_checkpoint = keras.callbacks.ModelCheckpoint(\n",
    "        filepath=os.path.join('..', '..', '..', '..', 'tmp_models', model_name + '_{epoch}'),\n",
    "        save_best_only=True)\n",
    "    tensor_board = keras.callbacks.TensorBoard(log_dir=os.path.join('..', '..', '..', '..', 'tensor_logs', model_name))\n",
    "    model = model_factory(loss, metric)\n",
    "\n",
    "    return model.fit(\n",
    "        X_train,\n",
    "        ys_train,\n",
    "        validation_data=(X_valid, ys_valid),\n",
    "        epochs=500,\n",
    "        batch_size=64,\n",
    "        callbacks=[reduce_lr, model_checkpoint, tensor_board, early_stopping])"
   ]
  },
  {
   "cell_type": "code",
   "execution_count": null,
   "metadata": {
    "collapsed": false,
    "execution": {
     "iopub.execute_input": "2023-12-08T02:04:11.811944Z",
     "iopub.status.busy": "2023-12-08T02:04:11.811944Z",
     "iopub.status.idle": "2023-12-08T02:13:51.738786Z",
     "shell.execute_reply": "2023-12-08T02:13:51.738786Z"
    }
   },
   "outputs": [
    {
     "name": "stdout",
     "output_type": "stream",
     "text": [
      "Model: \"model_1\"\n",
      "_________________________________________________________________\n",
      " Layer (type)                Output Shape              Param #   \n",
      "=================================================================\n",
      " input_2 (InputLayer)        [(None, 150, 200, 1)]     0         \n",
      "                                                                 \n",
      " conv2d_10 (Conv2D)          (None, 150, 200, 16)      160       \n",
      "                                                                 \n",
      " conv2d_11 (Conv2D)          (None, 150, 200, 32)      4640      \n",
      "                                                                 \n",
      " max_pooling2d_5 (MaxPooling  (None, 75, 100, 32)      0         \n",
      " 2D)                                                             \n",
      "                                                                 \n",
      " conv2d_12 (Conv2D)          (None, 75, 100, 32)       9248      \n",
      "                                                                 \n",
      " conv2d_13 (Conv2D)          (None, 75, 100, 64)       18496     \n",
      "                                                                 \n",
      " max_pooling2d_6 (MaxPooling  (None, 37, 50, 64)       0         \n",
      " 2D)                                                             \n",
      "                                                                 \n",
      " conv2d_14 (Conv2D)          (None, 37, 50, 64)        36928     \n",
      "                                                                 \n",
      " conv2d_15 (Conv2D)          (None, 37, 50, 128)       73856     \n",
      "                                                                 \n",
      " max_pooling2d_7 (MaxPooling  (None, 18, 25, 128)      0         \n",
      " 2D)                                                             \n",
      "                                                                 \n",
      " conv2d_16 (Conv2D)          (None, 18, 25, 128)       409728    \n",
      "                                                                 \n",
      " conv2d_17 (Conv2D)          (None, 18, 25, 256)       819456    \n",
      "                                                                 \n",
      " max_pooling2d_8 (MaxPooling  (None, 9, 12, 256)       0         \n",
      " 2D)                                                             \n",
      "                                                                 \n",
      " conv2d_18 (Conv2D)          (None, 9, 12, 256)        3211520   \n",
      "                                                                 \n",
      " conv2d_19 (Conv2D)          (None, 9, 12, 512)        6423040   \n",
      "                                                                 \n",
      " max_pooling2d_9 (MaxPooling  (None, 4, 6, 512)        0         \n",
      " 2D)                                                             \n",
      "                                                                 \n",
      " flatten_1 (Flatten)         (None, 12288)             0         \n",
      "                                                                 \n",
      " dense_2 (Dense)             (None, 128)               1572992   \n",
      "                                                                 \n",
      " dense_3 (Dense)             (None, 4)                 516       \n",
      "                                                                 \n",
      "=================================================================\n",
      "Total params: 12,580,580\n",
      "Trainable params: 12,580,580\n",
      "Non-trainable params: 0\n",
      "_________________________________________________________________\n",
      "None\n",
      "Epoch 1/500\n",
      "125/126 [============================>.] - ETA: 0s - loss: 0.5291 - ciou_metric: 0.4709INFO:tensorflow:Assets written to: ..\\..\\..\\..\\tmp_models\\custom_models_1_starting_point_model_44_1\\assets\n"
     ]
    },
    {
     "name": "stderr",
     "output_type": "stream",
     "text": [
      "INFO:tensorflow:Assets written to: ..\\..\\..\\..\\tmp_models\\custom_models_1_starting_point_model_44_1\\assets\n"
     ]
    },
    {
     "name": "stdout",
     "output_type": "stream",
     "text": [
      "126/126 [==============================] - 23s 171ms/step - loss: 0.5290 - ciou_metric: 0.4713 - val_loss: 0.4954 - val_ciou_metric: 0.5043 - lr: 0.0010\n",
      "Epoch 2/500\n",
      "125/126 [============================>.] - ETA: 0s - loss: 0.4940 - ciou_metric: 0.5060INFO:tensorflow:Assets written to: ..\\..\\..\\..\\tmp_models\\custom_models_1_starting_point_model_44_2\\assets\n"
     ]
    },
    {
     "name": "stderr",
     "output_type": "stream",
     "text": [
      "INFO:tensorflow:Assets written to: ..\\..\\..\\..\\tmp_models\\custom_models_1_starting_point_model_44_2\\assets\n"
     ]
    },
    {
     "name": "stdout",
     "output_type": "stream",
     "text": [
      "126/126 [==============================] - 21s 170ms/step - loss: 0.4941 - ciou_metric: 0.5057 - val_loss: 0.4949 - val_ciou_metric: 0.5049 - lr: 0.0010\n",
      "Epoch 3/500\n",
      "126/126 [==============================] - 20s 155ms/step - loss: 0.4983 - ciou_metric: 0.5015 - val_loss: 0.5045 - val_ciou_metric: 0.4955 - lr: 0.0010\n",
      "Epoch 4/500\n",
      "126/126 [==============================] - 20s 155ms/step - loss: 0.4930 - ciou_metric: 0.5070 - val_loss: 0.4959 - val_ciou_metric: 0.5039 - lr: 0.0010\n",
      "Epoch 5/500\n",
      "126/126 [==============================] - 20s 156ms/step - loss: 0.4935 - ciou_metric: 0.5062 - val_loss: 0.4964 - val_ciou_metric: 0.5034 - lr: 0.0010\n",
      "Epoch 6/500\n",
      "125/126 [============================>.] - ETA: 0s - loss: 0.4935 - ciou_metric: 0.5065\n",
      "Epoch 6: ReduceLROnPlateau reducing learning rate to 0.0009500000451225787.\n",
      "126/126 [==============================] - 20s 156ms/step - loss: 0.4934 - ciou_metric: 0.5067 - val_loss: 0.4968 - val_ciou_metric: 0.5031 - lr: 0.0010\n",
      "Epoch 7/500\n",
      "126/126 [==============================] - 20s 155ms/step - loss: 0.4925 - ciou_metric: 0.5074 - val_loss: 0.4956 - val_ciou_metric: 0.5042 - lr: 9.5000e-04\n",
      "Epoch 8/500\n",
      "126/126 [==============================] - 20s 156ms/step - loss: 0.4915 - ciou_metric: 0.5086 - val_loss: 0.4959 - val_ciou_metric: 0.5040 - lr: 9.5000e-04\n",
      "Epoch 9/500\n",
      "126/126 [==============================] - 19s 154ms/step - loss: 0.4916 - ciou_metric: 0.5088 - val_loss: 0.4950 - val_ciou_metric: 0.5048 - lr: 9.5000e-04\n",
      "Epoch 10/500\n",
      "125/126 [============================>.] - ETA: 0s - loss: 0.4919 - ciou_metric: 0.5081INFO:tensorflow:Assets written to: ..\\..\\..\\..\\tmp_models\\custom_models_1_starting_point_model_44_10\\assets\n"
     ]
    },
    {
     "name": "stderr",
     "output_type": "stream",
     "text": [
      "INFO:tensorflow:Assets written to: ..\\..\\..\\..\\tmp_models\\custom_models_1_starting_point_model_44_10\\assets\n"
     ]
    },
    {
     "name": "stdout",
     "output_type": "stream",
     "text": [
      "126/126 [==============================] - 21s 168ms/step - loss: 0.4918 - ciou_metric: 0.5088 - val_loss: 0.4946 - val_ciou_metric: 0.5051 - lr: 9.5000e-04\n",
      "Epoch 11/500\n",
      "125/126 [============================>.] - ETA: 0s - loss: 0.4915 - ciou_metric: 0.5085\n",
      "Epoch 11: ReduceLROnPlateau reducing learning rate to 0.0009025000152178108.\n",
      "126/126 [==============================] - 19s 154ms/step - loss: 0.4915 - ciou_metric: 0.5085 - val_loss: 0.4986 - val_ciou_metric: 0.5012 - lr: 9.5000e-04\n",
      "Epoch 12/500\n",
      "126/126 [==============================] - 19s 154ms/step - loss: 0.4912 - ciou_metric: 0.5088 - val_loss: 0.4956 - val_ciou_metric: 0.5040 - lr: 9.0250e-04\n",
      "Epoch 13/500\n",
      " 73/126 [================>.............] - ETA: 7s - loss: 0.4902 - ciou_metric: 0.5098"
     ]
    }
   ],
   "source": [
    "model_base_name = 'custom_models_1_starting_point_model'\n",
    "run_number = get_run_number(model_base_name)\n",
    "model_name = f'{model_base_name}_{run_number}'\n",
    "history = run_model(get_baseline_model, model_name, ciou_loss, ciou_metric)\n",
    "ROOT = os.path.join('..', '..', '..', '..')\n",
    "DS_NAME = 'data1_roi'\n",
    "plot_name = f'{model_name}.pdf'\n",
    "\n",
    "finalize_run(ROOT, plot_name, model_base_name, DS_NAME, history, plot_mode = 'multiple')"
   ]
  },
  {
   "cell_type": "code",
   "execution_count": 12,
   "outputs": [
    {
     "name": "stdout",
     "output_type": "stream",
     "text": [
      "63/63 [==============================] - 2s 19ms/step\n"
     ]
    }
   ],
   "source": [
    "models_dir = os.path.join(\n",
    "    '..',\n",
    "    '..',\n",
    "    '..',\n",
    "    '..',\n",
    "    'models',\n",
    "    'data1_roi')\n",
    "model_path = os.path.join(models_dir, 'custom_models_1_starting_point_model_42_3')\n",
    "model = keras.models.load_model(model_path, compile=False, custom_objects={'loss': ciou_loss, 'ciou_metric': ciou_metric})\n",
    "\n",
    "model.compile(optimizer='adam', loss=ciou_loss, metrics=[ciou_metric])\n",
    "\n",
    "results = model.predict(X_valid)"
   ],
   "metadata": {
    "collapsed": false
   }
  },
  {
   "cell_type": "code",
   "execution_count": 13,
   "outputs": [
    {
     "name": "stdout",
     "output_type": "stream",
     "text": [
      "[[0.1445083  0.2022213  0.8415673  0.7830499 ]\n",
      " [0.14451341 0.20222144 0.8415655  0.7830422 ]\n",
      " [0.14449254 0.20219348 0.84158355 0.78306454]\n",
      " ...\n",
      " [0.14450324 0.20221291 0.8415717  0.7830535 ]\n",
      " [0.14448054 0.20218377 0.8415976  0.7830799 ]\n",
      " [0.14445537 0.20215933 0.8416297  0.7830942 ]]\n"
     ]
    }
   ],
   "source": [
    "print(results)"
   ],
   "metadata": {
    "collapsed": false
   }
  },
  {
   "cell_type": "code",
   "execution_count": 19,
   "outputs": [
    {
     "data": {
      "text/plain": "0.1840091495113329"
     },
     "execution_count": 19,
     "metadata": {},
     "output_type": "execute_result"
    }
   ],
   "source": [
    "ys_train[:, 0].mean()"
   ],
   "metadata": {
    "collapsed": false
   }
  },
  {
   "cell_type": "code",
   "execution_count": 20,
   "outputs": [
    {
     "data": {
      "text/plain": "0.22492451653150342"
     },
     "execution_count": 20,
     "metadata": {},
     "output_type": "execute_result"
    }
   ],
   "source": [
    "ys_train[:, 1].mean()"
   ],
   "metadata": {
    "collapsed": false
   }
  },
  {
   "cell_type": "code",
   "execution_count": 21,
   "outputs": [
    {
     "data": {
      "text/plain": "0.8106417134539405"
     },
     "execution_count": 21,
     "metadata": {},
     "output_type": "execute_result"
    }
   ],
   "source": [
    "ys_train[:, 2].mean()"
   ],
   "metadata": {
    "collapsed": false
   }
  },
  {
   "cell_type": "code",
   "execution_count": 22,
   "outputs": [
    {
     "data": {
      "text/plain": "0.7599744229569557"
     },
     "execution_count": 22,
     "metadata": {},
     "output_type": "execute_result"
    }
   ],
   "source": [
    "ys_train[:, 3].mean()"
   ],
   "metadata": {
    "collapsed": false
   }
  },
  {
   "cell_type": "code",
   "execution_count": null,
   "outputs": [],
   "source": [],
   "metadata": {
    "collapsed": false
   }
  }
 ],
 "metadata": {
  "kernelspec": {
   "display_name": "Python 3",
   "language": "python",
   "name": "python3"
  },
  "language_info": {
   "codemirror_mode": {
    "name": "ipython",
    "version": 3
   },
   "file_extension": ".py",
   "mimetype": "text/x-python",
   "name": "python",
   "nbconvert_exporter": "python",
   "pygments_lexer": "ipython3",
   "version": "3.9.16"
  }
 },
 "nbformat": 4,
 "nbformat_minor": 0
}
